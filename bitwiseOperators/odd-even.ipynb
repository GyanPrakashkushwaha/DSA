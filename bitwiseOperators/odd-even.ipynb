{
 "cells": [
  {
   "cell_type": "code",
   "execution_count": 3,
   "id": "ceb081d8",
   "metadata": {},
   "outputs": [
    {
     "name": "stdout",
     "output_type": "stream",
     "text": [
      "THE VALUE IS EVEN\n",
      "None\n",
      "THE VALUE IS ODD\n",
      "None\n",
      "THE VALUE IS ODD\n",
      "None\n"
     ]
    }
   ],
   "source": [
    "def check(num):\n",
    "    if num&1 == 1:\n",
    "        print('THE VALUE IS ODD')\n",
    "    else:\n",
    "        print('THE VALUE IS EVEN')\n",
    "\n",
    "print(check(2))\n",
    "print(check(3))\n",
    "print(check(19))"
   ]
  },
  {
   "cell_type": "code",
   "execution_count": null,
   "metadata": {},
   "outputs": [],
   "source": [
    "arr = [2, 3, 4, 1, 2, 1, 3, 6, 4]"
   ]
  },
  {
   "cell_type": "code",
   "execution_count": null,
   "id": "f923122d",
   "metadata": {},
   "outputs": [],
   "source": []
  }
 ],
 "metadata": {
  "kernelspec": {
   "display_name": "Python 3",
   "language": "python",
   "name": "python3"
  },
  "language_info": {
   "codemirror_mode": {
    "name": "ipython",
    "version": 3
   },
   "file_extension": ".py",
   "mimetype": "text/x-python",
   "name": "python",
   "nbconvert_exporter": "python",
   "pygments_lexer": "ipython3",
   "version": "3.13.7"
  }
 },
 "nbformat": 4,
 "nbformat_minor": 5
}
