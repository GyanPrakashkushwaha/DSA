{
 "cells": [
  {
   "cell_type": "markdown",
   "metadata": {},
   "source": [
    "## Find the unique element\n",
    "- If I use any sorting algorithm then find out then It will take nlog(n) time complexity. But I can do this in O(n) time complexity using bitwise operators ."
   ]
  },
  {
   "cell_type": "markdown",
   "metadata": {},
   "source": [
    "## HOw is this working?\n",
    "- I'm using `XOR` operator in which the `X^X = 0 [element XOR element = 0]`. \n",
    "- The all the duplicate elements becomes zero except the unique element."
   ]
  },
  {
   "cell_type": "code",
   "execution_count": 1,
   "metadata": {},
   "outputs": [
    {
     "data": {
      "text/plain": [
       "6"
      ]
     },
     "execution_count": 1,
     "metadata": {},
     "output_type": "execute_result"
    }
   ],
   "source": [
    "def find_unique(arr):\n",
    "    unique = 0\n",
    "    for i in arr:\n",
    "        unique ^= i \n",
    "    \n",
    "    return unique\n",
    "\n",
    "find_unique([2,2,4,5,6,4,5])"
   ]
  },
  {
   "cell_type": "markdown",
   "metadata": {},
   "source": [
    "#### Find nth magic number"
   ]
  },
  {
   "cell_type": "code",
   "execution_count": 5,
   "metadata": {},
   "outputs": [
    {
     "name": "stdout",
     "output_type": "stream",
     "text": [
      "0\n",
      "1\n",
      "1\n"
     ]
    },
    {
     "data": {
      "text/plain": [
       "150"
      ]
     },
     "execution_count": 5,
     "metadata": {},
     "output_type": "execute_result"
    }
   ],
   "source": [
    "n = 6\n",
    "def magic_number(n):\n",
    "    ans = 0\n",
    "    base = 5\n",
    "    \n",
    "    while n > 0:\n",
    "        last = n & 1\n",
    "        n = n >> 1\n",
    "        ans += base * last\n",
    "        base = base * 5\n",
    "        \n",
    "    return ans\n",
    "    \n",
    "\n",
    "magic_number(6)\n",
    "        "
   ]
  },
  {
   "cell_type": "code",
   "execution_count": null,
   "metadata": {},
   "outputs": [],
   "source": []
  },
  {
   "cell_type": "code",
   "execution_count": null,
   "metadata": {},
   "outputs": [],
   "source": []
  }
 ],
 "metadata": {
  "kernelspec": {
   "display_name": "Python 3",
   "language": "python",
   "name": "python3"
  },
  "language_info": {
   "codemirror_mode": {
    "name": "ipython",
    "version": 3
   },
   "file_extension": ".py",
   "mimetype": "text/x-python",
   "name": "python",
   "nbconvert_exporter": "python",
   "pygments_lexer": "ipython3",
   "version": "3.11.1"
  }
 },
 "nbformat": 4,
 "nbformat_minor": 2
}
