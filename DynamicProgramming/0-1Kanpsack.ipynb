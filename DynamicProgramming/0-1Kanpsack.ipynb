{
 "cells": [
  {
   "cell_type": "code",
   "execution_count": null,
   "id": "6a89cedd",
   "metadata": {},
   "outputs": [
    {
     "ename": "SyntaxError",
     "evalue": "incomplete input (2760823446.py, line 4)",
     "output_type": "error",
     "traceback": [
      "\u001b[1;36m  Cell \u001b[1;32mIn[1], line 4\u001b[1;36m\u001b[0m\n\u001b[1;33m    \u001b[0m\n\u001b[1;37m    ^\u001b[0m\n\u001b[1;31mSyntaxError\u001b[0m\u001b[1;31m:\u001b[0m incomplete input\n"
     ]
    }
   ],
   "source": [
    "def iter_kanpsack(wt, val, w):\n",
    "    # Base case\n",
    "    if n == 0 or w == 0:\n",
    "        return 0\n",
    "\n",
    "    if wt[n-1] > w:\n",
    "        return iter_knapsack(wt, val, w, n-1)"
   ]
  },
  {
   "cell_type": "code",
   "execution_count": 7,
   "id": "752ee15a",
   "metadata": {},
   "outputs": [
    {
     "name": "stdout",
     "output_type": "stream",
     "text": [
      "9\n"
     ]
    }
   ],
   "source": [
    "def knapsack(W, val, wt):\n",
    "    n = len(val)\n",
    "    \n",
    "    # Create a 2D DP array where dp[i][w] represents the maximum value for\n",
    "    # the first i items and capacity w\n",
    "    dp = [[0 for _ in range(W + 1)] for _ in range(n + 1)]\n",
    "\n",
    "    # Fill the DP table iteratively\n",
    "    for i in range(1, n + 1):           # Loop through items\n",
    "        for w in range(W + 1):          # Loop through weights from 0 to W\n",
    "            if wt[i - 1] <= w:\n",
    "                # Option 1: Pick the item\n",
    "                pick = val[i - 1] + dp[i - 1][w - wt[i - 1]]\n",
    "                # Option 2: Don't pick the item\n",
    "                notPick = dp[i - 1][w]\n",
    "                dp[i][w] = max(pick, notPick)\n",
    "            else:\n",
    "                # Can't pick the item\n",
    "                dp[i][w] = dp[i - 1][w]\n",
    "\n",
    "    return dp[n][W]\n",
    "\n",
    "\n",
    "# val = [1, 2, 3]\n",
    "# wt = [4, 5, 1]\n",
    "# W = 4\n",
    "wt = [1, 3, 4, 5]\n",
    "val = [1, 4, 5, 7]\n",
    "W = 7\n",
    "\n",
    "print(knapsack(W, val, wt))\n"
   ]
  },
  {
   "cell_type": "code",
   "execution_count": 12,
   "metadata": {},
   "outputs": [],
   "source": [
    "from itertools import product\n",
    "\n",
    "def knapsack_iterative(wt, val, W):\n",
    "    n = len(wt)\n",
    "    max_value = 0\n",
    "\n",
    "    # Total number of combinations = 2^n\n",
    "    total_combinations = 1 << n  # same as 2**n\n",
    "    print(total_combinations)\n",
    "\n",
    "    for comb in range(total_combinations):\n",
    "        print(total_weight, total_value)\n",
    "        total_weight = 0\n",
    "        total_value = 0\n",
    "        \n",
    "\n",
    "        for i in range(n):\n",
    "            # Check if the ith item is included in this combination\n",
    "            if (comb >> i) & 1:\n",
    "                total_weight += wt[i]\n",
    "                total_value += val[i]\n",
    "\n",
    "        if total_weight <= W:\n",
    "            if total_value > max_value:\n",
    "                max_value = total_value\n",
    "\n",
    "    return max_value\n",
    "\n",
    "# val = [1, 2, 3]\n",
    "# wt = [4, 5, 1]\n",
    "# W = 4\n",
    "\n",
    "# knapsack_iterative(wt, val, W)"
   ]
  },
  {
   "cell_type": "code",
   "execution_count": 11,
   "id": "c91c918b",
   "metadata": {},
   "outputs": [
    {
     "name": "stdout",
     "output_type": "stream",
     "text": [
      "16\n",
      "0 0\n",
      "0 0\n",
      "0 0\n",
      "0 0\n",
      "0 0\n",
      "0 0\n",
      "0 0\n",
      "0 0\n",
      "0 0\n",
      "0 0\n",
      "0 0\n",
      "0 0\n",
      "0 0\n",
      "0 0\n",
      "0 0\n",
      "0 0\n",
      "9\n"
     ]
    }
   ],
   "source": [
    "wt = [1, 3, 4, 5]\n",
    "val = [1, 4, 5, 7]\n",
    "W = 7\n",
    "\n",
    "print(knapsack_iterative(wt, val, W))  # Output: 9\n"
   ]
  },
  {
   "cell_type": "code",
   "execution_count": 15,
   "id": "8b53f6d2",
   "metadata": {},
   "outputs": [
    {
     "data": {
      "text/plain": [
       "1"
      ]
     },
     "execution_count": 15,
     "metadata": {},
     "output_type": "execute_result"
    }
   ],
   "source": [
    "4>>2"
   ]
  },
  {
   "cell_type": "code",
   "execution_count": null,
   "id": "64b3269f",
   "metadata": {},
   "outputs": [],
   "source": [
    "\n",
    "def knapsack(wt, val, W):\n",
    "    if W == 0 or len(wt) == 0:\n",
    "        return 0\n",
    "    if wt[-1] > W:\n",
    "        return knapsack(wt[:-1], val[:-1], W)\n",
    "    else:\n",
    "        include = val[-1] + knapsack(wt[:-1], val[:-1], W - wt[-1])\n",
    "        exclude = knapsack(wt[:-1], val[:-1], W)\n",
    "        return max(include, exclude)\n",
    "\n",
    "\n",
    "# Example usage\n",
    "wt = [1, 3, 4, 5]\n",
    "val = [1, 4, 5, 7]\n",
    "W = 7\n",
    "print(knapsack(wt, val, W))\n"
   ]
  },
  {
   "cell_type": "code",
   "execution_count": 16,
   "id": "3343e320",
   "metadata": {},
   "outputs": [
    {
     "name": "stdout",
     "output_type": "stream",
     "text": [
      "9\n"
     ]
    }
   ],
   "source": [
    "def knapsack(wt, val, W, n):\n",
    "    if W == 0 or n ==0:\n",
    "        return 0\n",
    "    if wt[n-1] > W:\n",
    "        return knapsack(wt, val, W, n-1)\n",
    "    else:\n",
    "        include = val[n-1] + knapsack(wt, val, W - wt[n-1], n-1)\n",
    "        exclude = knapsack(wt, val, W, n-1)\n",
    "    \n",
    "        return max(include, exclude)\n",
    "\n",
    "idx = [1, 2, 3, 4]\n",
    "wt = [1, 3, 4, 5]\n",
    "val = [1, 4, 5, 7]\n",
    "W = 7\n",
    "print(knapsack(wt, val, W, 4))"
   ]
  },
  {
   "cell_type": "code",
   "execution_count": null,
   "id": "67e64696",
   "metadata": {},
   "outputs": [],
   "source": [
    "knapsack(7, 4)\n",
    "├── Include item 4 (wt=5, val=7) → W=2\n",
    "│   └── knapsack(2, 3)\n",
    "│       ├── Exclude item 3 (wt=4) → W=2\n",
    "│       │   └── knapsack(2, 2)\n",
    "│       │       ├── Exclude item 2 (wt=3) → W=2\n",
    "│       │       │   └── knapsack(2, 1)\n",
    "│       │       │       ├── Exclude item 1 (wt=1) → W=2\n",
    "│       │       │       │   └── knapsack(2, 0) → return 0\n",
    "│       │       │       └── Include item 1 (wt=1, val=1) → W=1\n",
    "│       │       │           └── knapsack(1, 0) → return 0\n",
    "│       │       │       ⇒ max(1, 0) = 1\n",
    "│       │       │   ⇒ return 1\n",
    "│       │       └── Include item 2 (wt=3) not possible (wt > W) ⇒ skip\n",
    "│       │       ⇒ return 1\n",
    "│       └── Include item 3 (wt=4) not possible (wt > W) ⇒ skip\n",
    "│       ⇒ return 1\n",
    "├── Exclude item 4\n",
    "│   └── knapsack(7, 3)\n",
    "│       ├── Include item 3 (wt=4, val=5) → W=3\n",
    "│       │   └── knapsack(3, 2)\n",
    "│       │       ├── Exclude item 2 (wt=3) → W=3\n",
    "│       │       │   └── knapsack(3, 1)\n",
    "│       │       │       ├── Include item 1 (wt=1, val=1) → W=2\n",
    "│       │       │       │   └── knapsack(2, 0) → return 0\n",
    "│       │       │       └── Exclude item 1 → knapsack(3, 0) → return 0\n",
    "│       │       │   ⇒ max(1, 0) = 1\n",
    "│       │       └── Include item 2 (wt=3, val=4) → W=0\n",
    "│       │           └── knapsack(0, 1) → return 0\n",
    "│       │       ⇒ max(4, 1) = 4\n",
    "│       │   ⇒ return 4\n",
    "│       └── Exclude item 3\n",
    "│           └── knapsack(7, 2)\n",
    "│               ├── Include item 2 (wt=3, val=4) → W=4\n",
    "│               │   └── knapsack(4, 1)\n",
    "│               │       ├── Include item 1 (wt=1, val=1) → W=3\n",
    "│               │       │   └── knapsack(3, 0) → return 0\n",
    "│               │       └── Exclude item 1 → knapsack(4, 0) → return 0\n",
    "│               │   ⇒ max(1, 0) = 1\n",
    "│               │ ⇒ return 1 + 4 = 5\n",
    "│               └── Exclude item 2 → knapsack(7, 1)\n",
    "│                   ├── Include item 1 (wt=1, val=1) → W=6\n",
    "│                   │   └── knapsack(6, 0) → return 0\n",
    "│                   └── Exclude item 1 → knapsack(7, 0) → return 0\n",
    "│               ⇒ max(1, 0) = 1\n",
    "│           ⇒ return max(5, 1) = 5\n",
    "│       ⇒ max(5, 4) = 5\n",
    "⇒ max(7 + 1 = 8, 5) = **8**\n"
   ]
  },
  {
   "cell_type": "code",
   "execution_count": null,
   "id": "90bc3f06",
   "metadata": {},
   "outputs": [
    {
     "name": "stdout",
     "output_type": "stream",
     "text": [
      "220\n"
     ]
    }
   ],
   "source": [
    "def knapsack(wt, val, W):\n",
    "    if W == 0 or len(wt) == 0:\n",
    "        return 0\n",
    "    if wt[-1] > W:\n",
    "        return knapsack(wt[:-1], val[:-1], W)\n",
    "    else:\n",
    "        include = val[-1] + knapsack(wt[:-1], val[:-1], W - wt[-1])\n",
    "        exclude = knapsack(wt[:-1], val[:-1], W)\n",
    "        return max(include, exclude)\n",
    "\n",
    "\n",
    "wt = [2, 1, 5, 3]\n",
    "val = [3, 2, 4, 5]\n",
    "W = 10\n",
    "print(knapsack(wt, val, W))"
   ]
  },
  {
   "cell_type": "code",
   "execution_count": null,
   "id": "4e30918f",
   "metadata": {},
   "outputs": [
    {
     "ename": "SyntaxError",
     "evalue": "invalid syntax (2164323108.py, line 3)",
     "output_type": "error",
     "traceback": [
      "\u001b[1;36m  Cell \u001b[1;32mIn[1], line 3\u001b[1;36m\u001b[0m\n\u001b[1;33m    dp =\u001b[0m\n\u001b[1;37m         ^\u001b[0m\n\u001b[1;31mSyntaxError\u001b[0m\u001b[1;31m:\u001b[0m invalid syntax\n"
     ]
    }
   ],
   "source": [
    "\n",
    "def knapsack(wt, val, W):\n",
    "    if W == 0 or len(wt) == 0:\n",
    "        return 0\n",
    "\n",
    "    if wt[-1] > W:\n",
    "        return knapsack(wt[:-1], val[:-1], W)\n",
    "    else:\n",
    "        include = val[-1] + knapsack(wt[:-1], val[:-1], W - wt[-1])\n",
    "        exclude = knapsack(wt[:-1], val[:-1], W)\n",
    "        return max(include, exclude)\n",
    "\n",
    "\n",
    "wt = [3, 4, 5]\n",
    "val = [60, 100, 120]\n",
    "W = 10\n",
    "print(knapsack(wt, val, W))"
   ]
  },
  {
   "cell_type": "code",
   "execution_count": null,
   "id": "1af85ef7",
   "metadata": {},
   "outputs": [],
   "source": [
    "def knapsack(wt, val, W):\n",
    "    print(f\"knapsack_brute_force({capacity},{n})\")\n",
    "    if W == 0 or len(wt) == 0:\n",
    "        return 0\n",
    "\n",
    "    if wt[-1] > W:\n",
    "        return knapsack(wt[:-1], val[:-1], W)\n",
    "    else:\n",
    "        include = val[-1] + knapsack(wt[:-1], val[:-1], W - wt[-1])\n",
    "        exclude = knapsack(wt[:-1], val[:-1], W)\n",
    "        return max(include, exclude)"
   ]
  },
  {
   "cell_type": "code",
   "execution_count": null,
   "id": "4b1a468a",
   "metadata": {},
   "outputs": [
    {
     "data": {
      "text/plain": [
       "[[3, 4], [10, 2]]"
      ]
     },
     "execution_count": 6,
     "metadata": {},
     "output_type": "execute_result"
    }
   ],
   "source": [
    "dp = [[3,4], [10,2]]\n",
    "dp"
   ]
  },
  {
   "cell_type": "code",
   "execution_count": 16,
   "id": "4dd38e77",
   "metadata": {},
   "outputs": [],
   "source": [
    "dp = [[-1 for _ in range(10)] for _ in range(5)]"
   ]
  },
  {
   "cell_type": "code",
   "execution_count": 17,
   "id": "fbba029f",
   "metadata": {},
   "outputs": [
    {
     "data": {
      "text/plain": [
       "[[-1, -1, -1, -1, -1, -1, -1, -1, -1, -1],\n",
       " [-1, -1, -1, -1, -1, -1, -1, -1, -1, -1],\n",
       " [-1, -1, -1, -1, -1, -1, -1, -1, -1, -1],\n",
       " [-1, -1, -1, -1, -1, -1, -1, -1, -1, -1],\n",
       " [-1, -1, -1, -1, -1, -1, -1, -1, -1, -1]]"
      ]
     },
     "execution_count": 17,
     "metadata": {},
     "output_type": "execute_result"
    }
   ],
   "source": [
    "dp"
   ]
  },
  {
   "cell_type": "code",
   "execution_count": 10,
   "id": "706c16ac",
   "metadata": {},
   "outputs": [],
   "source": [
    "dp[1][0] = 12"
   ]
  },
  {
   "cell_type": "code",
   "execution_count": 11,
   "id": "4135b2a0",
   "metadata": {},
   "outputs": [
    {
     "data": {
      "text/plain": [
       "[[3, 4], [12, 2]]"
      ]
     },
     "execution_count": 11,
     "metadata": {},
     "output_type": "execute_result"
    }
   ],
   "source": [
    "dp"
   ]
  },
  {
   "cell_type": "code",
   "execution_count": null,
   "id": "737b4e9c",
   "metadata": {},
   "outputs": [
    {
     "name": "stdout",
     "output_type": "stream",
     "text": [
      "9\n"
     ]
    }
   ],
   "source": [
    "def knapsack_memization(wt, val, W, n):\n",
    "    if W == 0 or n == 0:\n",
    "        return 0\n",
    "\n",
    "    if dp[n][W] != -1:\n",
    "        return dp[n][W]\n",
    "\n",
    "    if wt[n - 1] > W:\n",
    "        dp[n][W] = knapsack_memization(wt, val, W, n - 1)\n",
    "    else:\n",
    "        include = val[n - 1] + knapsack_memization(wt, val, W - wt[n - 1], n - 1)\n",
    "        exclude = knapsack_memization(wt, val, W, n - 1)\n",
    "        dp[n][W] = max(include, exclude)\n",
    "\n",
    "    return dp[n][W]\n",
    "\n",
    "\n",
    "# Inputs\n",
    "wt = [1, 3, 4, 5]\n",
    "val = [1, 4, 5, 7]\n",
    "W = 7\n",
    "n = len(wt)\n",
    "\n",
    "# Initialize dp correctly\n",
    "dp = [[-1 for _ in range(W + 1)] for _ in range(n + 1)]\n",
    "\n",
    "# Run it\n",
    "print(knapsack_memization(wt, val, W, n))  "
   ]
  },
  {
   "cell_type": "code",
   "execution_count": 2,
   "id": "25b3380f",
   "metadata": {},
   "outputs": [
    {
     "name": "stdout",
     "output_type": "stream",
     "text": [
      "hey\n"
     ]
    }
   ],
   "source": [
    "if not []:\n",
    "    print('hey')"
   ]
  },
  {
   "cell_type": "code",
   "execution_count": 5,
   "id": "f898635e",
   "metadata": {},
   "outputs": [
    {
     "data": {
      "text/plain": [
       "[2, 3, 2]"
      ]
     },
     "execution_count": 5,
     "metadata": {},
     "output_type": "execute_result"
    }
   ],
   "source": [
    "[2,3 ] + [2]"
   ]
  },
  {
   "cell_type": "code",
   "execution_count": 24,
   "id": "b9754a07",
   "metadata": {},
   "outputs": [
    {
     "data": {
      "text/plain": [
       "[[-1, -1, -1, -1, -1, -1, -1, -1],\n",
       " [-1, -1, 1, 1, 1, -1, -1, 1],\n",
       " [-1, -1, 1, 4, -1, -1, -1, 5],\n",
       " [-1, -1, 1, -1, -1, -1, -1, 9],\n",
       " [-1, -1, -1, -1, -1, -1, -1, 9]]"
      ]
     },
     "execution_count": 24,
     "metadata": {},
     "output_type": "execute_result"
    }
   ],
   "source": [
    "dp"
   ]
  },
  {
   "cell_type": "code",
   "execution_count": 2,
   "id": "6b0e5eab",
   "metadata": {},
   "outputs": [
    {
     "name": "stdout",
     "output_type": "stream",
     "text": [
      "knapsack(capacity=5, n=3)\n",
      "Considering item 3 (value=400, weight=5)\n",
      "  knapsack(capacity=5, n=2)\n",
      "  Considering item 2 (value=200, weight=1)\n",
      "    knapsack(capacity=5, n=1)\n",
      "    Considering item 1 (value=300, weight=2)\n",
      "      knapsack(capacity=5, n=0)\n",
      "      Base case reached. Return 0\n",
      "    Value if we exclude item 1: 0\n",
      "      knapsack(capacity=3, n=0)\n",
      "      Base case reached. Return 0\n",
      "    Value if we include item 1: 300\n",
      "    Best value at capacity=5, n=1: 300\n",
      "  Value if we exclude item 2: 300\n",
      "    knapsack(capacity=4, n=1)\n",
      "    Considering item 1 (value=300, weight=2)\n",
      "      knapsack(capacity=4, n=0)\n",
      "      Base case reached. Return 0\n",
      "    Value if we exclude item 1: 0\n",
      "      knapsack(capacity=2, n=0)\n",
      "      Base case reached. Return 0\n",
      "    Value if we include item 1: 300\n",
      "    Best value at capacity=4, n=1: 300\n",
      "  Value if we include item 2: 500\n",
      "  Best value at capacity=5, n=2: 500\n",
      "Value if we exclude item 3: 500\n",
      "  knapsack(capacity=0, n=2)\n",
      "  Base case reached. Return 0\n",
      "Value if we include item 3: 400\n",
      "Best value at capacity=5, n=3: 500\n",
      "\n",
      "Maximum value in Knapsack = 500\n"
     ]
    }
   ],
   "source": [
    "def knapsack_brute_force(capacity, n, depth=0):\n",
    "    indent = \"  \" * depth  # visual indentation for recursion tree\n",
    "    print(f\"{indent}knapsack(capacity={capacity}, n={n})\")\n",
    "\n",
    "    if n == 0 or capacity == 0:\n",
    "        print(f\"{indent}Base case reached. Return 0\")\n",
    "        return 0\n",
    "\n",
    "    if weights[n-1] > capacity:\n",
    "        print(f\"{indent}Item {n} with weight {weights[n-1]} is too heavy for remaining capacity {capacity}. Skipping it.\")\n",
    "        return knapsack_brute_force(capacity, n-1, depth+1)\n",
    "\n",
    "    else:\n",
    "        print(f\"{indent}Considering item {n} (value={values[n-1]}, weight={weights[n-1]})\")\n",
    "\n",
    "        exclude = knapsack_brute_force(capacity, n-1, depth+1)\n",
    "        print(f\"{indent}Value if we exclude item {n}: {exclude}\")\n",
    "\n",
    "        include = values[n-1] + knapsack_brute_force(capacity - weights[n-1], n-1, depth+1)\n",
    "        print(f\"{indent}Value if we include item {n}: {include}\")\n",
    "        result = max(include, exclude)\n",
    "        print(f\"{indent}Best value at capacity={capacity}, n={n}: {result}\")\n",
    "        return result\n",
    "\n",
    "# Simplified Example: Only 3 items\n",
    "values = [300, 200, 400]     # value of the items\n",
    "weights = [2, 1, 5]          # weights of the items\n",
    "capacity = 5                # total capacity of the knapsack\n",
    "n = len(values)\n",
    "\n",
    "print(\"\\nMaximum value in Knapsack =\", knapsack_brute_force(capacity, n))"
   ]
  },
  {
   "cell_type": "code",
   "execution_count": 2,
   "id": "f8ea8e00",
   "metadata": {},
   "outputs": [
    {
     "ename": "NameError",
     "evalue": "name 'W' is not defined",
     "output_type": "error",
     "traceback": [
      "\u001b[1;31m---------------------------------------------------------------------------\u001b[0m",
      "\u001b[1;31mNameError\u001b[0m                                 Traceback (most recent call last)",
      "Cell \u001b[1;32mIn[2], line 1\u001b[0m\n\u001b[1;32m----> 1\u001b[0m dp \u001b[38;5;241m=\u001b[39m \u001b[43m[\u001b[49m\u001b[43m[\u001b[49m\u001b[38;5;241;43m-\u001b[39;49m\u001b[38;5;241;43m1\u001b[39;49m\u001b[43m \u001b[49m\u001b[38;5;28;43;01mfor\u001b[39;49;00m\u001b[43m \u001b[49m\u001b[43m_\u001b[49m\u001b[43m \u001b[49m\u001b[38;5;129;43;01min\u001b[39;49;00m\u001b[43m \u001b[49m\u001b[38;5;28;43mrange\u001b[39;49m\u001b[43m(\u001b[49m\u001b[43mW\u001b[49m\u001b[43m \u001b[49m\u001b[38;5;241;43m+\u001b[39;49m\u001b[43m \u001b[49m\u001b[38;5;241;43m1\u001b[39;49m\u001b[43m)\u001b[49m\u001b[43m]\u001b[49m\u001b[43m \u001b[49m\u001b[38;5;28;43;01mfor\u001b[39;49;00m\u001b[43m \u001b[49m\u001b[43m_\u001b[49m\u001b[43m \u001b[49m\u001b[38;5;129;43;01min\u001b[39;49;00m\u001b[43m \u001b[49m\u001b[38;5;28;43mrange\u001b[39;49m\u001b[43m(\u001b[49m\u001b[43mn\u001b[49m\u001b[43m \u001b[49m\u001b[38;5;241;43m+\u001b[39;49m\u001b[43m \u001b[49m\u001b[38;5;241;43m1\u001b[39;49m\u001b[43m)\u001b[49m\u001b[43m]\u001b[49m\n",
      "Cell \u001b[1;32mIn[2], line 1\u001b[0m, in \u001b[0;36m<listcomp>\u001b[1;34m(.0)\u001b[0m\n\u001b[1;32m----> 1\u001b[0m dp \u001b[38;5;241m=\u001b[39m [[\u001b[38;5;241m-\u001b[39m\u001b[38;5;241m1\u001b[39m \u001b[38;5;28;01mfor\u001b[39;00m _ \u001b[38;5;129;01min\u001b[39;00m \u001b[38;5;28mrange\u001b[39m(\u001b[43mW\u001b[49m \u001b[38;5;241m+\u001b[39m \u001b[38;5;241m1\u001b[39m)] \u001b[38;5;28;01mfor\u001b[39;00m _ \u001b[38;5;129;01min\u001b[39;00m \u001b[38;5;28mrange\u001b[39m(n \u001b[38;5;241m+\u001b[39m \u001b[38;5;241m1\u001b[39m)]\n",
      "\u001b[1;31mNameError\u001b[0m: name 'W' is not defined"
     ]
    }
   ],
   "source": [
    "dp = [[-1 for _ in range(W + 1)] for _ in range(n + 1)]"
   ]
  },
  {
   "cell_type": "code",
   "execution_count": 14,
   "id": "3d49420a",
   "metadata": {},
   "outputs": [
    {
     "name": "stdout",
     "output_type": "stream",
     "text": [
      "knapsack_brute_force(10,4)\n",
      "knapsack_brute_force(10,3)\n",
      "knapsack_brute_force(10,2)\n",
      "knapsack_brute_force(10,1)\n",
      "knapsack_brute_force(10,0)\n",
      "knapsack_brute_force(8,0)\n",
      "knapsack_brute_force(9,1)\n",
      "knapsack_brute_force(9,0)\n",
      "knapsack_brute_force(7,0)\n",
      "knapsack_brute_force(5,2)\n",
      "knapsack_brute_force(5,1)\n",
      "knapsack_brute_force(5,0)\n",
      "knapsack_brute_force(3,0)\n",
      "knapsack_brute_force(4,1)\n",
      "knapsack_brute_force(4,0)\n",
      "knapsack_brute_force(2,0)\n",
      "knapsack_brute_force(7,3)\n",
      "knapsack_brute_force(7,2)\n",
      "knapsack_brute_force(7,1)\n",
      "knapsack_brute_force(7,0)\n",
      "knapsack_brute_force(5,0)\n",
      "knapsack_brute_force(6,1)\n",
      "knapsack_brute_force(6,0)\n",
      "knapsack_brute_force(4,0)\n",
      "knapsack_brute_force(2,2)\n",
      "knapsack_brute_force(2,1)\n",
      "knapsack_brute_force(2,0)\n",
      "knapsack_brute_force(0,0)\n",
      "knapsack_brute_force(1,1)\n",
      "knapsack_brute_force(1,0)\n",
      "\n",
      "Maximum value in Knapsack = 1200\n"
     ]
    }
   ],
   "source": [
    "def knapsack_brute_force(cap, n, dp):\n",
    "    print(f\"knapsack_brute_force({cap},{n})\")\n",
    "    if n == 0 or cap == 0:\n",
    "        return 0\n",
    "    \n",
    "    if dp[n][cap] != -1:\n",
    "        print(f'========================================== \\n Used DP for value {dp[n][cap]}')\n",
    "        return dp[n][cap]\n",
    "\n",
    "    elif weights[n-1] > cap:\n",
    "        dp[n][cap] = knapsack_brute_force(cap, n-1, dp)\n",
    "        return dp[n][cap]\n",
    "\n",
    "    else:\n",
    "        exclude_item = knapsack_brute_force(cap, n - 1, dp)\n",
    "        include_item = values[n-1] + knapsack_brute_force(cap-weights[n-1], n-1, dp)\n",
    "        dp[n][cap] = max(include_item, exclude_item)\n",
    "        return dp[n][cap]\n",
    "\n",
    "values = [300, 200, 400, 500]\n",
    "weights = [2, 1, 5, 3]\n",
    "cap = 10\n",
    "n = len(values)\n",
    "dp = [[-1 for _ in range(cap + 1)] for _ in range(n + 1)]\n",
    "\n",
    "print(\"\\nMaximum value in Knapsack =\", knapsack_brute_force(cap, n, dp))"
   ]
  },
  {
   "cell_type": "code",
   "execution_count": 4,
   "id": "c66a1e72",
   "metadata": {},
   "outputs": [
    {
     "data": {
      "text/plain": [
       "[[-1, -1, -1, -1, -1, -1],\n",
       " [-1, -1, -1, -1, -1, -1],\n",
       " [-1, -1, -1, -1, -1, -1],\n",
       " [-1, -1, -1, -1, -1, -1]]"
      ]
     },
     "execution_count": 4,
     "metadata": {},
     "output_type": "execute_result"
    }
   ],
   "source": [
    "dp = [[-1 for _ in range(capacity + 1)] for _ in range(n + 1)]\n",
    "dp"
   ]
  },
  {
   "cell_type": "code",
   "execution_count": null,
   "id": "e2a88de4",
   "metadata": {},
   "outputs": [],
   "source": [
    "def top_down(cap, n, dp):\n",
    "    if weights[n-1] <= cap:\n",
    "        # Add include and exclude logic here...\n",
    "        include = values[n-1] + dp[n-1][cap-weights[n-1]]\n",
    "        exclude = dp[n-1][cap]\n",
    "        dp[n-1][cap] = max(include, exclude)\n",
    "    \n",
    "values = [300, 200, 400, 500]\n",
    "weights = [2, 1, 5, 3]\n",
    "cap = 10\n",
    "n = len(values)\n",
    "dp = [[0 if i == 0 or j == 0 else -1 for j in range(cap + 1)] for i in range(n + 1)]\n",
    "\n",
    "print(\"\\nMaximum value in Knapsack =\", top_down(cap, n, dp))"
   ]
  },
  {
   "cell_type": "code",
   "execution_count": null,
   "id": "ca771b3c",
   "metadata": {},
   "outputs": [
    {
     "data": {
      "text/plain": [
       "[[0, 0, 0, 0, 0, 0, 0, 0, 0, 0, 0],\n",
       " [0, -1, -1, -1, -1, -1, -1, -1, -1, -1, -1],\n",
       " [0, -1, -1, -1, -1, -1, -1, -1, -1, -1, -1],\n",
       " [0, -1, -1, -1, -1, -1, -1, -1, -1, -1, -1],\n",
       " [0, -1, -1, -1, -1, -1, -1, -1, -1, -1, -1]]"
      ]
     },
     "execution_count": 20,
     "metadata": {},
     "output_type": "execute_result"
    }
   ],
   "source": [
    "dp = [[0 if i == 0 or j == 0 else -1 for j in range(cap + 1)] for i in range(n + 1)]\n",
    "dp"
   ]
  },
  {
   "cell_type": "code",
   "execution_count": 24,
   "id": "8ac2e7c2",
   "metadata": {},
   "outputs": [
    {
     "data": {
      "text/plain": [
       "11"
      ]
     },
     "execution_count": 24,
     "metadata": {},
     "output_type": "execute_result"
    }
   ],
   "source": [
    "len(dp[2])"
   ]
  },
  {
   "cell_type": "code",
   "execution_count": 10,
   "id": "90560bce",
   "metadata": {},
   "outputs": [
    {
     "name": "stdout",
     "output_type": "stream",
     "text": [
      "['', '1', '2', '21', '3', '31', '32', '321', '4', '41', '42', '421', '43', '431', '432', '4321']\n"
     ]
    }
   ],
   "source": [
    "def generateSubset(processed, unprocessed):\n",
    "    if len(unprocessed) == 0:\n",
    "        return [processed]\n",
    "    exclude = generateSubset(processed, unprocessed[0:-1])\n",
    "    include = generateSubset(processed + unprocessed[-1], unprocessed[:-1])\n",
    "    \n",
    "    return exclude+ include\n",
    "\n",
    "print(generateSubset('', '1234'))"
   ]
  },
  {
   "cell_type": "code",
   "execution_count": null,
   "id": "920fc504",
   "metadata": {},
   "outputs": [],
   "source": [
    "def generateSubset(processed, unprocessed):\n",
    "    if len(unprocessed) == 0:\n",
    "        return [processed]\n",
    "    \n",
    "    exclude = generateSubset(processed, unprocessed[1:])  # exclude first char\n",
    "    include = generateSubset(processed + unprocessed[0], unprocessed[1:])  # include first char\n",
    "    \n",
    "    return exclude + include\n",
    "\n",
    "print(generateSubset('', '1234'))"
   ]
  },
  {
   "cell_type": "code",
   "execution_count": 4,
   "id": "4ab09914",
   "metadata": {},
   "outputs": [
    {
     "name": "stdout",
     "output_type": "stream",
     "text": [
      "[[], [1], [2], [1, 2], [3], [1, 3], [2, 3], [1, 2, 3], [4], [1, 4], [2, 4], [1, 2, 4], [3, 4], [1, 3, 4], [2, 3, 4], [1, 2, 3, 4]]\n"
     ]
    }
   ],
   "source": [
    "def generate_subsets(elements):\n",
    "    subsets = [[]]  # start with the empty subset\n",
    "    for element in elements:\n",
    "        new_subsets = []\n",
    "        for subset in subsets:\n",
    "            new_subsets.append(subset + [element])\n",
    "        subsets.extend(new_subsets)\n",
    "    return subsets\n",
    "\n",
    "# Example usage\n",
    "elements = [1, 2, 3, 4]\n",
    "all_subsets = generate_subsets(elements)\n",
    "print(all_subsets)"
   ]
  },
  {
   "cell_type": "code",
   "execution_count": null,
   "id": "15e01486",
   "metadata": {},
   "outputs": [],
   "source": []
  },
  {
   "cell_type": "code",
   "execution_count": 3,
   "id": "6c5515d3",
   "metadata": {},
   "outputs": [
    {
     "name": "stdout",
     "output_type": "stream",
     "text": [
      "1234\n",
      "2341\n",
      "3412\n",
      "4123\n",
      "2314\n",
      "3142\n",
      "1423\n",
      "4231\n",
      "3124\n",
      "1243\n",
      "2431\n",
      "4312\n",
      "2134\n",
      "1342\n",
      "3421\n",
      "4213\n",
      "1324\n",
      "3241\n",
      "2413\n",
      "4132\n",
      "3214\n",
      "2143\n",
      "1432\n",
      "4321\n"
     ]
    }
   ],
   "source": [
    "def permutations(processed, unprocessed):\n",
    "    if not unprocessed:\n",
    "        print(processed)\n",
    "        return \n",
    "    ch = unprocessed[0]\n",
    "    for i in range(len(processed)+1):\n",
    "        start = processed[i:]\n",
    "        end = processed[:i]\n",
    "        permutations(start + ch + end, unprocessed[1:])\n",
    "    \n",
    "permutations('', '1234')"
   ]
  },
  {
   "cell_type": "code",
   "execution_count": null,
   "id": "27f03e18",
   "metadata": {},
   "outputs": [],
   "source": []
  },
  {
   "cell_type": "code",
   "execution_count": null,
   "id": "e040ea6a",
   "metadata": {},
   "outputs": [],
   "source": []
  },
  {
   "cell_type": "code",
   "execution_count": null,
   "id": "9cd53ca4",
   "metadata": {},
   "outputs": [],
   "source": [
    "def knapsack_memization(wt, val, W, n):\n",
    "    \n",
    "    if W == 0 or n == 0:\n",
    "        return 0\n",
    "\n",
    "    if dp[n][W] != -1:\n",
    "        return dp[n][W]\n",
    "\n",
    "    if wt[n - 1] > W:\n",
    "        dp[n][W] = knapsack_memization(wt, val, W, n - 1)\n",
    "    else:\n",
    "        include = val[n - 1] + knapsack_memization(wt, val, W - wt[n - 1], n - 1)\n",
    "        exclude = knapsack_memization(wt, val, W, n - 1)\n",
    "        dp[n][W] = max(include, exclude)\n",
    "\n",
    "    return dp[n][W]\n",
    "\n",
    "# Inputs\n",
    "wt = [1, 3, 4, 5]\n",
    "val = [1, 4, 5, 7]\n",
    "W = 7\n",
    "n = len(wt)\n",
    "\n",
    "# Initialize dp correctly\n",
    "dp = [[-1 for _ in range(W + 1)] for _ in range(n + 1)]\n",
    "\n",
    "# Run it\n",
    "print(knapsack_memization(wt, val, W, n))  "
   ]
  },
  {
   "cell_type": "code",
   "execution_count": 4,
   "id": "f22fbd62",
   "metadata": {},
   "outputs": [
    {
     "name": "stdout",
     "output_type": "stream",
     "text": [
      "knapsack_memoization(4, 10)\n",
      "knapsack_memoization(3, 7)\n",
      "knapsack_memoization(2, 2)\n",
      "knapsack_memoization(1, 1)\n",
      "knapsack_memoization(0, 1)\n",
      "knapsack_memoization(1, 2)\n",
      "knapsack_memoization(0, 0)\n",
      "knapsack_memoization(0, 2)\n",
      "knapsack_memoization(2, 7)\n",
      "knapsack_memoization(1, 6)\n",
      "knapsack_memoization(0, 4)\n",
      "knapsack_memoization(0, 6)\n",
      "knapsack_memoization(1, 7)\n",
      "knapsack_memoization(0, 5)\n",
      "knapsack_memoization(0, 7)\n",
      "knapsack_memoization(3, 10)\n",
      "knapsack_memoization(2, 5)\n",
      "knapsack_memoization(1, 4)\n",
      "knapsack_memoization(1, 5)\n",
      "knapsack_memoization(0, 3)\n",
      "knapsack_memoization(2, 10)\n",
      "knapsack_memoization(1, 9)\n",
      "knapsack_memoization(0, 9)\n",
      "knapsack_memoization(1, 10)\n",
      "knapsack_memoization(0, 8)\n",
      "knapsack_memoization(0, 10)\n",
      "\n",
      "Maximum value in Knapsack = 1200\n"
     ]
    }
   ],
   "source": [
    "def knapsack_memoization(capacity, n):\n",
    "    if dp[n][capacity] != -1:\n",
    "        return dp[n][capacity]\n",
    "    \n",
    "    print(f\"knapsack_memoization({n}, {capacity})\")\n",
    "\n",
    "    if n == 0 or capacity == 0:\n",
    "        result = 0\n",
    "    elif weights[n-1] > capacity:\n",
    "        result = knapsack_memoization(capacity, n-1)\n",
    "    else:\n",
    "        include_item = values[n-1] + knapsack_memoization(capacity-weights[n-1], n-1)\n",
    "        exclude_item = knapsack_memoization(capacity, n-1)\n",
    "        result = max(include_item, exclude_item)\n",
    "\n",
    "    dp[n][capacity] = result\n",
    "    return result\n",
    "\n",
    "values = [300, 200, 400, 500]\n",
    "weights = [2, 1, 5, 3]\n",
    "capacity = 10\n",
    "n = len(values)\n",
    "\n",
    "dp = [[-1 for _ in range(capacity + 1)] for _ in range(n + 1)]\n",
    "\n",
    "print(\"\\nMaximum value in Knapsack =\", knapsack_memoization(capacity, n))"
   ]
  },
  {
   "cell_type": "code",
   "execution_count": 7,
   "id": "57d4f59e",
   "metadata": {},
   "outputs": [
    {
     "data": {
      "text/plain": [
       "[[0, 0, 0, 0, 0, 0, 0, 0, 0, 0, 0],\n",
       " [-1, 0, 300, -1, 300, 300, 300, 300, -1, 300, 300],\n",
       " [-1, -1, 300, -1, -1, 500, -1, 500, -1, -1, 500],\n",
       " [-1, -1, -1, -1, -1, -1, -1, 700, -1, -1, 900],\n",
       " [-1, -1, -1, -1, -1, -1, -1, -1, -1, -1, 1200]]"
      ]
     },
     "execution_count": 7,
     "metadata": {},
     "output_type": "execute_result"
    }
   ],
   "source": [
    "(dp)"
   ]
  },
  {
   "cell_type": "code",
   "execution_count": 17,
   "id": "730b4c05",
   "metadata": {},
   "outputs": [
    {
     "data": {
      "text/plain": [
       "[[0, 0, 0, 0, 0, 0],\n",
       " [0, -1, -1, -1, -1, -1],\n",
       " [0, -1, -1, -1, -1, -1],\n",
       " [0, -1, -1, -1, -1, -1],\n",
       " [0, -1, -1, -1, -1, -1]]"
      ]
     },
     "execution_count": 17,
     "metadata": {},
     "output_type": "execute_result"
    }
   ],
   "source": [
    "n = 4\n",
    "capacity = 5\n",
    "dp = [[0 if i == 0 or j == 0 else -1 for j in range(capacity + 1)] for i in range(n + 1)]\n",
    "dp"
   ]
  },
  {
   "cell_type": "code",
   "execution_count": 18,
   "id": "94452a6a",
   "metadata": {},
   "outputs": [
    {
     "data": {
      "text/plain": [
       "[[0, 0, 0, 0, 0, 0],\n",
       " [0, 0, 0, 0, 0, 0],\n",
       " [0, 0, 0, 0, 0, 0],\n",
       " [0, 0, 0, 0, 0, 0],\n",
       " [0, 0, 0, 0, 0, 0]]"
      ]
     },
     "execution_count": 18,
     "metadata": {},
     "output_type": "execute_result"
    }
   ],
   "source": [
    "[[0 for j in range(capacity + 1)] for i in range(n + 1)]"
   ]
  }
 ],
 "metadata": {
  "kernelspec": {
   "display_name": "Python 3",
   "language": "python",
   "name": "python3"
  },
  "language_info": {
   "codemirror_mode": {
    "name": "ipython",
    "version": 3
   },
   "file_extension": ".py",
   "mimetype": "text/x-python",
   "name": "python",
   "nbconvert_exporter": "python",
   "pygments_lexer": "ipython3",
   "version": "3.11.1"
  }
 },
 "nbformat": 4,
 "nbformat_minor": 5
}
