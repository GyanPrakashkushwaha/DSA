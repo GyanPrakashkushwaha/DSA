{
 "cells": [
  {
   "cell_type": "code",
   "execution_count": null,
   "id": "f6b775f6",
   "metadata": {},
   "outputs": [
    {
     "data": {
      "text/plain": [
       "True"
      ]
     },
     "execution_count": 46,
     "metadata": {},
     "output_type": "execute_result"
    }
   ],
   "source": [
    "def minDifference(arr):\n",
    "    # SubsetSum\n",
    "    n, target = len(arr), sum(arr)\n",
    "    dp = [[None for _ in range(target + 1)] for _ in range(n+1)]\n",
    "    \n",
    "    def isSubsetSum(arr, n, target):\n",
    "        # Base Case\n",
    "        if target == 0:\n",
    "            return True\n",
    "        elif n == 0:\n",
    "            return False\n",
    "        if dp[n][target] is not None:\n",
    "            return dp[n][target]\n",
    "        # Choices\n",
    "        exclude = isSubsetSum(arr, n-1, target) # exclude\n",
    "        include = False\n",
    "        if arr[n-1] <= target:\n",
    "            include = isSubsetSum(arr, n-1, target - arr[n-1]) # include\n",
    "        \n",
    "        dp[n][target] = include or exclude        \n",
    "        return dp[n][target]\n",
    "    \n",
    "    return isSubsetSum(arr, n, target)\n",
    "\n",
    "    \n",
    "    \n",
    "    \n",
    "arr = [1, 2, 7]\n",
    "minDifference(arr)"
   ]
  },
  {
   "cell_type": "code",
   "execution_count": 43,
   "id": "291b4d04",
   "metadata": {},
   "outputs": [
    {
     "data": {
      "text/plain": [
       "True"
      ]
     },
     "execution_count": 43,
     "metadata": {},
     "output_type": "execute_result"
    }
   ],
   "source": [
    "arr = [1, 2, 7]\n",
    "n, target = len(arr), sum(arr)\n",
    "dp = [[None for _ in range(target + 1)] for _ in range(n+1)]\n",
    "def isSubsetSum(arr, n, target):\n",
    "    # Base Case\n",
    "    if target == 0:\n",
    "        return True\n",
    "    elif n == 0:\n",
    "        return False\n",
    "    if dp[n][target] is not None:\n",
    "        return dp[n][target]\n",
    "    # Choices\n",
    "    exclude = isSubsetSum(arr, n-1, target) # exclude\n",
    "    include = False\n",
    "    if arr[n-1] <= target:\n",
    "        include = isSubsetSum(arr, n-1, target - arr[n-1]) # include\n",
    "    \n",
    "    dp[n][target] = include or exclude        \n",
    "    return dp[n][target]\n",
    "\n",
    "isSubsetSum(arr, n, target)"
   ]
  },
  {
   "cell_type": "code",
   "execution_count": 44,
   "id": "e7c05c80",
   "metadata": {},
   "outputs": [
    {
     "data": {
      "text/plain": [
       "[[None, None, None, None, None, None, None, None, None, None, None],\n",
       " [None, True, None, False, None, None, None, None, False, None, False],\n",
       " [None, None, None, True, None, None, None, None, None, None, False],\n",
       " [None, None, None, None, None, None, None, None, None, None, True]]"
      ]
     },
     "execution_count": 44,
     "metadata": {},
     "output_type": "execute_result"
    }
   ],
   "source": [
    "dp"
   ]
  },
  {
   "cell_type": "code",
   "execution_count": null,
   "id": "4ebc77b5",
   "metadata": {},
   "outputs": [
    {
     "name": "stdout",
     "output_type": "stream",
     "text": [
      "[[None, None, None, None, None, None], [None, True, False, None, None, None], [None, True, False, None, None, None]]\n"
     ]
    },
    {
     "data": {
      "text/plain": [
       "3"
      ]
     },
     "execution_count": 50,
     "metadata": {},
     "output_type": "execute_result"
    }
   ],
   "source": [
    "def minDifference(arr):\n",
    "    # SubsetSum\n",
    "    n, target = len(arr), sum(arr)\n",
    "    dp = [[None for _ in range(target + 1)] for _ in range(n+1)]\n",
    "    \n",
    "    def isSubsetSum(arr, n, target):\n",
    "        # Base Case\n",
    "        if target == 0:\n",
    "            return True\n",
    "        elif n == 0:\n",
    "            return False\n",
    "        if dp[n][target] is not None:\n",
    "            return dp[n][target]\n",
    "        # Choices\n",
    "        exclude = isSubsetSum(arr, n-1, target) # exclude\n",
    "        include = False\n",
    "        if arr[n-1] <= target:\n",
    "            include = isSubsetSum(arr, n-1, target - arr[n-1]) # include\n",
    "        \n",
    "        dp[n][target] = include or exclude        \n",
    "        return dp[n][target]\n",
    "\n",
    "    minDiff = target\n",
    "    for subSum in range((target//2)+1):\n",
    "        if isSubsetSum(arr, n, subSum):\n",
    "            minDiff = min(minDiff, target - (2*subSum))\n",
    "    \n",
    "    return minDiff\n",
    "    \n",
    "arr = [1, 4]\n",
    "minDifference(arr)"
   ]
  },
  {
   "cell_type": "code",
   "execution_count": 72,
   "id": "f66bdc87",
   "metadata": {},
   "outputs": [
    {
     "data": {
      "text/plain": [
       "4"
      ]
     },
     "execution_count": 72,
     "metadata": {},
     "output_type": "execute_result"
    }
   ],
   "source": [
    "def minDifference(arr):\n",
    "    # SubsetSum\n",
    "    n, target = len(arr), sum(arr)\n",
    "    dp = [[None for _ in range(target + 1)] for _ in range(n+1)]\n",
    "    # Initialization\n",
    "    for i in range(n+1):\n",
    "        dp[i][0] = True\n",
    "        \n",
    "    # print(dp)\n",
    "    \n",
    "    for i in range(1, n + 1):\n",
    "        for j in range(1, target + 1):\n",
    "            exclude = dp[i - 1][j]\n",
    "            include = False\n",
    "            if arr[i -1] <= j:\n",
    "                include = dp[i - 1][j - arr[i-1]] # Include\n",
    "            dp[i][j] = include or exclude\n",
    "        \n",
    "    \n",
    "    # Fetch the last row.\n",
    "    lastRow = dp[n]\n",
    "    # print(lastRow)\n",
    "    minDiff = target\n",
    "    for i in range((target//2)+1):\n",
    "        if lastRow[i] is not None:\n",
    "            minDiff = min(minDiff, target - (2*i))    \n",
    "            # print(minDiff)\n",
    "    return minDiff\n",
    "\n",
    "minDifference([1, 2, 7])"
   ]
  },
  {
   "cell_type": "code",
   "execution_count": 57,
   "id": "6447321e",
   "metadata": {},
   "outputs": [
    {
     "data": {
      "text/plain": [
       "[[None, None, None, None, None, None, None, None, None, None, None],\n",
       " [None, True, None, False, None, None, None, None, False, None, False],\n",
       " [None, None, None, True, None, None, None, None, None, None, False],\n",
       " [None, None, None, None, None, None, None, None, None, None, True]]"
      ]
     },
     "execution_count": 57,
     "metadata": {},
     "output_type": "execute_result"
    }
   ],
   "source": [
    "dp"
   ]
  }
 ],
 "metadata": {
  "kernelspec": {
   "display_name": "Python 3",
   "language": "python",
   "name": "python3"
  },
  "language_info": {
   "codemirror_mode": {
    "name": "ipython",
    "version": 3
   },
   "file_extension": ".py",
   "mimetype": "text/x-python",
   "name": "python",
   "nbconvert_exporter": "python",
   "pygments_lexer": "ipython3",
   "version": "3.11.1"
  }
 },
 "nbformat": 4,
 "nbformat_minor": 5
}
