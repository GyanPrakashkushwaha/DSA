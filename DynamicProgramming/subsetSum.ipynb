{
 "cells": [
  {
   "cell_type": "code",
   "execution_count": null,
   "id": "57e5921c",
   "metadata": {},
   "outputs": [],
   "source": [
    "class Solution:\n",
    "    def isSubsetSum(self, arr, target):\n",
    "        dp = [[-1 for i in range(target+1)] for j in range(len(arr)+1)]\n",
    "        n = len(arr)\n",
    "        def helper(arr, target):\n",
    "            if dp[n][target] != -1:\n",
    "                return dp[n][target]\n",
    "            if target == 0:\n",
    "                return True\n",
    "            elif n == 0:\n",
    "                return False\n",
    "\n",
    "            elif arr[n - 1] > target:\n",
    "                dp[n][target] = self.helper(arr, dp, n - 1, target)\n",
    "                return dp[n][target]\n",
    "            \n",
    "            # Include or exclude current element\n",
    "            exclude = self.helper(arr, dp, n - 1, target)\n",
    "            include = self.helper(arr, dp, n - 1, target - arr[n - 1])\n",
    "            dp[n][target] = exclude or include\n",
    "            \n",
    "            return dp[n][target]    \n",
    "        return self.helper(arr, target)"
   ]
  },
  {
   "cell_type": "markdown",
   "id": "db3f877b",
   "metadata": {},
   "source": [
    "## Partition Equal Subset Sum"
   ]
  },
  {
   "cell_type": "code",
   "execution_count": null,
   "id": "27c59960",
   "metadata": {},
   "outputs": [
    {
     "name": "stdout",
     "output_type": "stream",
     "text": [
      "True\n",
      "False\n"
     ]
    }
   ],
   "source": [
    "def party(nums):\n",
    "    total = sum(nums)\n",
    "    if total % 2 != 0:\n",
    "        return False\n",
    "    return helper(0, nums, total // 2)\n",
    "\n",
    "def helper(curr_sum, unprocessed, check):\n",
    "    if curr_sum == check:\n",
    "        return True\n",
    "    if not unprocessed or curr_sum > check:\n",
    "        return False\n",
    "    # Try including or excluding the last element\n",
    "    include = helper(curr_sum + unprocessed[-1], unprocessed[:-1], check)\n",
    "    exclude = helper(curr_sum, unprocessed[:-1], check)\n",
    "    return include or exclude\n",
    "\n",
    "print(party([1,5,11,5]))  # ✅ True\n",
    "print(party([1,2,3,5]))   # ✅ False"
   ]
  }
 ],
 "metadata": {
  "kernelspec": {
   "display_name": "Python 3",
   "language": "python",
   "name": "python3"
  },
  "language_info": {
   "codemirror_mode": {
    "name": "ipython",
    "version": 3
   },
   "file_extension": ".py",
   "mimetype": "text/x-python",
   "name": "python",
   "nbconvert_exporter": "python",
   "pygments_lexer": "ipython3",
   "version": "3.11.1"
  }
 },
 "nbformat": 4,
 "nbformat_minor": 5
}
