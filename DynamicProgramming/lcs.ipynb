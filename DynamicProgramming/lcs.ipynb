{
 "cells": [
  {
   "cell_type": "code",
   "execution_count": null,
   "id": "7996f973",
   "metadata": {},
   "outputs": [
    {
     "data": {
      "text/plain": [
       "3"
      ]
     },
     "execution_count": 1,
     "metadata": {},
     "output_type": "execute_result"
    }
   ],
   "source": [
    "text1, text2 = 'ace' , 'abcde'\n",
    "n, m  = len(text1), len(text2)\n",
    "dp = [[-1 for _ in range(m+1)] for _ in range(n+1)]\n",
    "def lcs(text1, text2, n, m):\n",
    "    # Base Case\n",
    "    if n == 0 or m == 0:\n",
    "        return 0\n",
    "    if dp[n][m] != -1:\n",
    "        return dp[n][m]\n",
    "    # Based on choic Diagram.\n",
    "    if text1[n-1] == text2[m-1]:\n",
    "        dp[n][m] = 1 + lcs(text1, text2, n-1, m-1)\n",
    "    else:        \n",
    "        # choice1 & choice2\n",
    "        choice1 = lcs(text1, text2, n, m-1)\n",
    "        choice2 = lcs(text1, text2, n-1, m)\n",
    "        dp[n][m] = max(choice1, choice2)\n",
    "    \n",
    "    return dp[n][m]\n",
    "    \n",
    "lcs(text1, text2, n, m)"
   ]
  },
  {
   "cell_type": "code",
   "execution_count": 5,
   "id": "b702feea",
   "metadata": {},
   "outputs": [
    {
     "data": {
      "text/plain": [
       "[[-1, -1, -1, -1, -1, -1],\n",
       " [-1, 1, 1, 1, 1, -1],\n",
       " [-1, -1, -1, 2, 2, -1],\n",
       " [-1, -1, -1, -1, -1, 3]]"
      ]
     },
     "execution_count": 5,
     "metadata": {},
     "output_type": "execute_result"
    }
   ],
   "source": [
    "dp"
   ]
  },
  {
   "cell_type": "code",
   "execution_count": null,
   "id": "70323462",
   "metadata": {},
   "outputs": [
    {
     "name": "stdout",
     "output_type": "stream",
     "text": [
      "3\n",
      "[[-1, -1, -1, -1, -1, -1], [-1, 1, 1, 1, 1, -1], [-1, -1, -1, 2, 2, -1], [-1, -1, -1, -1, -1, 3]]\n"
     ]
    }
   ],
   "source": [
    "text1, text2 = 'ace' , 'abcde'\n",
    "n, m = len(text1), len(text2)\n",
    "dp = [[-1 for _ in range(m + 1)] for _ in range(n + 1)]\n",
    "\n",
    "def lcs(text1, text2, n, m):\n",
    "    # Base Case\n",
    "    textOne = text1[:n]\n",
    "    textTwo = text2[:m]\n",
    "    if n == 0 or m == 0:\n",
    "        return 0\n",
    "    if dp[n][m] != -1:\n",
    "        return dp[n][m]\n",
    "    # Based on choice Diagram.\n",
    "    if text1[n - 1] == text2[m - 1]:\n",
    "        dp[n][m] = 1 + lcs(text1, text2, n - 1, m - 1)\n",
    "        return dp[n][m]\n",
    "    else:\n",
    "        # choice1 & choice2\n",
    "        choice1 = lcs(text1, text2, n, m - 1)\n",
    "        choice2 = lcs(text1, text2, n - 1, m)\n",
    "        dp[n][m] = max(choice1, choice2)\n",
    "        return dp[n][m]\n",
    "\n",
    "\n",
    "print(lcs(text1, text2, n, m))"
   ]
  },
  {
   "cell_type": "code",
   "execution_count": null,
   "id": "bfabe5d5",
   "metadata": {},
   "outputs": [],
   "source": [
    "text1, text2 = 'ace' , 'abcde'\n",
    "n, m = len(text1), len(text2)\n",
    "dp = [[-1 for _ in range(m + 1)] for _ in range(n + 1)]\n",
    "\n",
    "def lcs(text1, text2, n, m):\n",
    "    # Base Case\n",
    "    textOne = text1[:n]\n",
    "    textTwo = text2[:m]\n",
    "    if n == 0 or m == 0:\n",
    "        return 0\n",
    "    if dp[n][m] != -1:\n",
    "        return dp[n][m]\n",
    "    # Based on choice Diagram.\n",
    "    if text1[n - 1] == text2[m - 1]:\n",
    "        dp[n][m] = 1 + lcs(text1, text2, n - 1, m - 1)\n",
    "        return dp[n][m]\n",
    "    else:\n",
    "        # choice1 & choice2\n",
    "        choice1 = lcs(text1, text2, n, m - 1)\n",
    "        choice2 = lcs(text1, text2, n - 1, m)\n",
    "        dp[n][m] = max(choice1, choice2)\n",
    "        return dp[n][m]\n",
    "\n",
    "\n",
    "print(lcs(text1, text2, n, m))"
   ]
  },
  {
   "cell_type": "code",
   "execution_count": null,
   "metadata": {},
   "outputs": [
    {
     "name": "stdout",
     "output_type": "stream",
     "text": [
      "3\n"
     ]
    }
   ],
   "source": [
    "text1, text2 = 'ace' , 'abcde'\n",
    "n, m = len(text1), len(text2)\n",
    "\n",
    "def lcs_tabulation(text1, text2, n, m):\n",
    "    dp = [[0 for _ in range(m + 1)] for _ in range(n + 1)]\n",
    "    \n",
    "    for i in range(1, n+1):\n",
    "        for j in range(1, m+1):\n",
    "            if text1[i-1] == text2[j-1]:\n",
    "                dp[i][j] = 1 + dp[i-1][j-1]\n",
    "            else:\n",
    "                choice1 = dp[i][j-1]\n",
    "                choice2 = dp[i-1][j]\n",
    "                dp[i][j] = max(choice1, choice2)\n",
    "    \n",
    "    return dp[n][m]\n",
    "\n",
    "print(lcs_tabulation(text1, text2, n, m))"
   ]
  },
  {
   "cell_type": "code",
   "execution_count": 9,
   "id": "9c31e410",
   "metadata": {},
   "outputs": [
    {
     "data": {
      "text/plain": [
       "False"
      ]
     },
     "execution_count": 9,
     "metadata": {},
     "output_type": "execute_result"
    }
   ],
   "source": [
    "'y' == 'Y'"
   ]
  },
  {
   "cell_type": "code",
   "execution_count": 16,
   "metadata": {},
   "outputs": [
    {
     "name": "stdout",
     "output_type": "stream",
     "text": [
      "1\n"
     ]
    }
   ],
   "source": [
    "def longestCommonSubstring(text1, text2, n, m):\n",
    "    if n == 0 or m == 0:\n",
    "        return 0\n",
    "    if dp[n][m] != -1:\n",
    "        return dp[n][m]\n",
    "    \n",
    "    # choice diagram\n",
    "    if text1[n-1] == text2[m-1]:\n",
    "        dp[n][m] = 1 + longestCommonSubstring(text1, text2, n-1, m-1)\n",
    "        return dp[n][m] \n",
    "    else:\n",
    "        dp[n][m] = 0\n",
    "        return dp[n][m]\n",
    "    \n",
    "text1, text2 = 'ace' , 'abcde'\n",
    "n, m = len(text1), len(text2)\n",
    "dp = [[-1 for _ in range(m+1)] for _ in range(n+1)]\n",
    "print(longestCommonSubstring(text1, text2, n, m))"
   ]
  },
  {
   "cell_type": "code",
   "execution_count": 17,
   "id": "a3fef353",
   "metadata": {},
   "outputs": [
    {
     "data": {
      "text/plain": [
       "[[-1, -1, -1, -1, -1, -1],\n",
       " [-1, -1, -1, -1, -1, -1],\n",
       " [-1, -1, -1, -1, 0, -1],\n",
       " [-1, -1, -1, -1, -1, 1]]"
      ]
     },
     "execution_count": 17,
     "metadata": {},
     "output_type": "execute_result"
    }
   ],
   "source": [
    "dp"
   ]
  },
  {
   "cell_type": "code",
   "execution_count": 2,
   "id": "47d6afdf",
   "metadata": {},
   "outputs": [
    {
     "data": {
      "text/plain": [
       "[[0, 0, 0, 0, 0, 0],\n",
       " [0, 0, 0, 0, 0, 0],\n",
       " [0, 0, 0, 0, 0, 0],\n",
       " [0, 0, 0, 0, 0, 0]]"
      ]
     },
     "execution_count": 2,
     "metadata": {},
     "output_type": "execute_result"
    }
   ],
   "source": [
    "[[0] * (m+1) for _ in range(n+1)]"
   ]
  }
 ],
 "metadata": {
  "kernelspec": {
   "display_name": "Python 3",
   "language": "python",
   "name": "python3"
  },
  "language_info": {
   "codemirror_mode": {
    "name": "ipython",
    "version": 3
   },
   "file_extension": ".py",
   "mimetype": "text/x-python",
   "name": "python",
   "nbconvert_exporter": "python",
   "pygments_lexer": "ipython3",
   "version": "3.11.1"
  }
 },
 "nbformat": 4,
 "nbformat_minor": 5
}
