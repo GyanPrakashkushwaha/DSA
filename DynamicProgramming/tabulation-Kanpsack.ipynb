{
 "cells": [
  {
   "cell_type": "code",
   "execution_count": 3,
   "id": "3a54cc39",
   "metadata": {},
   "outputs": [],
   "source": [
    "def knapsack(wt, val, cap, n):\n",
    "    if n == 0 or cap == 0:\n",
    "        return 0\n",
    "\n",
    "    if wt[n-1] <= cap:\n",
    "        exclude = knapsack(wt, val, cap, n - 1)\n",
    "        include = val[n-1] + knapsack(wt, val, cap - wt[n-1], n - 1)\n",
    "        return max(include, exclude)\n",
    "    else:\n",
    "        return knapsack(wt, val, cap, n - 1)"
   ]
  },
  {
   "cell_type": "code",
   "execution_count": null,
   "id": "96badaa4",
   "metadata": {},
   "outputs": [],
   "source": [
    "def knapsack_tabulation(wt, val, cap, n):\n",
    "    dp = "
   ]
  },
  {
   "cell_type": "code",
   "execution_count": null,
   "id": "2852c123",
   "metadata": {},
   "outputs": [
    {
     "ename": "NameError",
     "evalue": "name 'n' is not defined",
     "output_type": "error",
     "traceback": [
      "\u001b[1;31m---------------------------------------------------------------------------\u001b[0m",
      "\u001b[1;31mNameError\u001b[0m                                 Traceback (most recent call last)",
      "Cell \u001b[1;32mIn[8], line 1\u001b[0m\n\u001b[1;32m----> 1\u001b[0m dp \u001b[38;5;241m=\u001b[39m [[\u001b[38;5;241m0\u001b[39m \u001b[38;5;28;01mfor\u001b[39;00m j \u001b[38;5;129;01min\u001b[39;00m \u001b[38;5;28mrange\u001b[39m(capacity \u001b[38;5;241m+\u001b[39m \u001b[38;5;241m1\u001b[39m)] \u001b[38;5;28;01mfor\u001b[39;00m i \u001b[38;5;129;01min\u001b[39;00m \u001b[38;5;28mrange\u001b[39m(\u001b[43mn\u001b[49m \u001b[38;5;241m+\u001b[39m \u001b[38;5;241m1\u001b[39m)]\n\u001b[0;32m      2\u001b[0m dp\n",
      "\u001b[1;31mNameError\u001b[0m: name 'n' is not defined"
     ]
    }
   ],
   "source": [
    "dp = [[0 if i == 0 or j == 0 else inf for j in range(3 + 1)] for i in range(4 + 1)]\n",
    "dp"
   ]
  },
  {
   "cell_type": "code",
   "execution_count": 10,
   "id": "48123b1c",
   "metadata": {},
   "outputs": [
    {
     "data": {
      "text/plain": [
       "[[0, 0, 0, 0, 0, 0],\n",
       " [0, 0, 0, 0, 0, 0],\n",
       " [0, 0, 0, 0, 0, 0],\n",
       " [0, 0, 0, 0, 0, 0],\n",
       " [0, 0, 0, 0, 0, 0]]"
      ]
     },
     "execution_count": 10,
     "metadata": {},
     "output_type": "execute_result"
    }
   ],
   "source": [
    "dp = [[0 for j in range(5 + 1)] for i in range(4 + 1)]\n",
    "dp"
   ]
  },
  {
   "cell_type": "code",
   "execution_count": null,
   "id": "f004c04e",
   "metadata": {},
   "outputs": [],
   "source": [
    "class Solution:\n",
    "    def isSubsetSum(self, arr, target):\n",
    "        dp = [[0 for i in range(target+1)] for j in range(len(arr)+1)]\n",
    "        return self.helper(arr, len(arr), target)\n",
    "\n",
    "    def helper(self, arr, n, target):\n",
    "        if target == 0:\n",
    "            return True\n",
    "        if n == 0:\n",
    "            return False\n",
    "\n",
    "        if arr[n - 1] > target:\n",
    "            return self.helper(arr, n - 1, target)\n",
    "        \n",
    "        # Include or exclude current element\n",
    "        exclude = self.helper(arr, n - 1, target)\n",
    "        include = self.helper(arr, n - 1, target - arr[n - 1])\n",
    "        \n",
    "        return exclude or include\n"
   ]
  },
  {
   "cell_type": "code",
   "execution_count": 3,
   "id": "24bb3e60",
   "metadata": {},
   "outputs": [
    {
     "data": {
      "text/plain": [
       "[[0, 0, 0, 0, 0, 0, 0, 0, 0, 0, 0],\n",
       " [0, 0, 0, 0, 0, 0, 0, 0, 0, 0, 0],\n",
       " [0, 0, 0, 0, 0, 0, 0, 0, 0, 0, 0],\n",
       " [0, 0, 0, 0, 0, 0, 0, 0, 0, 0, 0],\n",
       " [0, 0, 0, 0, 0, 0, 0, 0, 0, 0, 0]]"
      ]
     },
     "execution_count": 3,
     "metadata": {},
     "output_type": "execute_result"
    }
   ],
   "source": [
    "dp = [[0 for i in range(10+1)] for j in range(len([3,4, 5, 6])+1)]\n",
    "dp"
   ]
  },
  {
   "cell_type": "code",
   "execution_count": 1,
   "id": "32524b0d",
   "metadata": {},
   "outputs": [
    {
     "data": {
      "text/plain": [
       "[[True, False, False, False, False, False, False, False, False, False, False],\n",
       " [True, False, False, False, False, False, False, False, False, False, False],\n",
       " [True, False, False, False, False, False, False, False, False, False, False],\n",
       " [True, False, False, False, False, False, False, False, False, False, False],\n",
       " [True, False, False, False, False, False, False, False, False, False, False]]"
      ]
     },
     "execution_count": 1,
     "metadata": {},
     "output_type": "execute_result"
    }
   ],
   "source": [
    "dp = [[True if i == 0 else False for i in range(10 + 1)] for j in range(len([1,24, 5, 6]) + 1)]\n",
    "dp"
   ]
  },
  {
   "cell_type": "code",
   "execution_count": null,
   "id": "71fcc5c0",
   "metadata": {},
   "outputs": [],
   "source": [
    "[[True if i == 0 else (False if j == 0 else 0) for i in range(target + 1)] for j in range(len(arr) + 1)]\n",
    "\n",
    "[[True if i == 0 else (False if j == 0 else 0) for i in range(sum+1)] for j in range(len(arr)+1)]"
   ]
  }
 ],
 "metadata": {
  "kernelspec": {
   "display_name": "Python 3",
   "language": "python",
   "name": "python3"
  },
  "language_info": {
   "codemirror_mode": {
    "name": "ipython",
    "version": 3
   },
   "file_extension": ".py",
   "mimetype": "text/x-python",
   "name": "python",
   "nbconvert_exporter": "python",
   "pygments_lexer": "ipython3",
   "version": "3.11.1"
  }
 },
 "nbformat": 4,
 "nbformat_minor": 5
}
