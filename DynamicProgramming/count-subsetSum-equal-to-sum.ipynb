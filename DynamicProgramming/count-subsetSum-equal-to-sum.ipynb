{
 "cells": [
  {
   "cell_type": "code",
   "execution_count": null,
   "id": "49a719ae",
   "metadata": {},
   "outputs": [
    {
     "name": "stdout",
     "output_type": "stream",
     "text": [
      "4\n"
     ]
    }
   ],
   "source": [
    "def perfectSum(arr, n, target):\n",
    "    # Base Case\n",
    "    if n == 0:\n",
    "        return 1 if target == 0 else 0\n",
    "    \n",
    "    if arr[n-1] > target:\n",
    "        return perfectSum(arr, n-1, target)  # exclude only\n",
    "    \n",
    "    exclude = perfectSum(arr, n-1, target)\n",
    "    include = perfectSum(arr, n-1, target - arr[n-1])\n",
    "    \n",
    "    return exclude + include\n",
    "\n",
    "\n",
    "print(perfectSum([0, 1, 2, 3], 4, 3))"
   ]
  },
  {
   "cell_type": "code",
   "execution_count": 20,
   "id": "cdbd6f3c",
   "metadata": {},
   "outputs": [
    {
     "name": "stdout",
     "output_type": "stream",
     "text": [
      "1\n"
     ]
    }
   ],
   "source": [
    "def perfect_sum(arr, index, target):\n",
    "    if target == 0:\n",
    "        return 1\n",
    "    if index < 0:\n",
    "        return 0\n",
    "    \n",
    "    # Exclude current\n",
    "    exclude = perfect_sum(arr, index - 1, target)\n",
    "    \n",
    "    # Include current if it's <= target or if it's 0\n",
    "    include = 0\n",
    "    if arr[index] <= target:\n",
    "        include = perfect_sum(arr, index - 1, target - arr[index])\n",
    "    \n",
    "    return include + exclude\n",
    "\n",
    "# Usage:\n",
    "arr = [0, 0, 1]\n",
    "target = 1\n",
    "print(perfect_sum(arr, len(arr)-1, target))  # Output: 4"
   ]
  },
  {
   "cell_type": "code",
   "execution_count": 45,
   "id": "87680096",
   "metadata": {},
   "outputs": [
    {
     "data": {
      "text/plain": [
       "[[1, 0, 0, 0, 0, 0],\n",
       " [0, 0, 0, 0, 0, 0],\n",
       " [0, 0, 0, 0, 0, 0],\n",
       " [0, 0, 0, 0, 0, 0],\n",
       " [0, 0, 0, 0, 0, 0]]"
      ]
     },
     "execution_count": 45,
     "metadata": {},
     "output_type": "execute_result"
    }
   ],
   "source": [
    "dp = [[0 for _ in range(6)] for _ in range(5)]  # Creates a 5x6 table filled with 0s\n",
    "\n",
    "for i in range(5):       # 0 to 4\n",
    "    for j in range(6):   # 0 to 5\n",
    "        if i == 0 and j == 0:\n",
    "            dp[i][j] = 1\n",
    "        elif i == 0:\n",
    "            dp[i][j] = 0\n",
    "        else:\n",
    "            dp[i][j] = 0\n",
    "\n",
    "dp"
   ]
  }
 ],
 "metadata": {
  "kernelspec": {
   "display_name": "Python 3",
   "language": "python",
   "name": "python3"
  },
  "language_info": {
   "codemirror_mode": {
    "name": "ipython",
    "version": 3
   },
   "file_extension": ".py",
   "mimetype": "text/x-python",
   "name": "python",
   "nbconvert_exporter": "python",
   "pygments_lexer": "ipython3",
   "version": "3.11.1"
  }
 },
 "nbformat": 4,
 "nbformat_minor": 5
}
