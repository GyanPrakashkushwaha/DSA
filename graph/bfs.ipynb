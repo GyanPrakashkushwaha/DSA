{
 "cells": [
  {
   "cell_type": "code",
   "execution_count": 3,
   "id": "ded95b08",
   "metadata": {},
   "outputs": [
    {
     "data": {
      "text/plain": [
       "[0, 0, 0, 0, 0]"
      ]
     },
     "execution_count": 3,
     "metadata": {},
     "output_type": "execute_result"
    }
   ],
   "source": [
    "\n",
    "adj = [[2, 3, 1], [0], [0, 4], [0], [2]]\n",
    "[0]*len(adj)"
   ]
  },
  {
   "cell_type": "code",
   "execution_count": 4,
   "id": "7c55e7ed",
   "metadata": {},
   "outputs": [],
   "source": [
    "from collections import deque\n",
    "def breathFirstSearch(adj):\n",
    "    queue = deque([0])\n",
    "    visited = [0]*len(adj)\n",
    "    visited[0] = 1\n",
    "    \n",
    "    result = []\n",
    "    while queue:\n",
    "        node = queue.popleft()\n",
    "        print(node, ', ')\n",
    "        \n",
    "        # find all the neighbors\n",
    "        for neighbor in adj[node]:\n",
    "            if not visited[neighbor]:\n",
    "                visited[neighbor] = 1\n",
    "                result.append(neighbor)\n",
    "    \n",
    "    return result"
   ]
  },
  {
   "cell_type": "markdown",
   "id": "66d43001",
   "metadata": {},
   "source": [
    "#### In this DFS algo everything is same, we are using the dfs recursive helper instead of queue! "
   ]
  },
  {
   "cell_type": "code",
   "execution_count": null,
   "id": "d779b7cd",
   "metadata": {},
   "outputs": [],
   "source": [
    "def dfs(adj):\n",
    "    visited = [0] * len(adj)\n",
    "    result = []\n",
    "\n",
    "    def dfs_helper(node):\n",
    "        visited[node] = 1\n",
    "        result.append(node)\n",
    "        for neighbor in adj[node]:\n",
    "            if not visited[neighbor]:\n",
    "                dfs_helper(neighbor)\n",
    "\n",
    "    dfs_helper(0)  # starting from node 0\n",
    "    return result\n"
   ]
  },
  {
   "cell_type": "markdown",
   "id": "6fe57735",
   "metadata": {},
   "source": [
    "## BFS & DFS 1st chance"
   ]
  },
  {
   "cell_type": "code",
   "execution_count": 2,
   "id": "ad5f40f8",
   "metadata": {},
   "outputs": [
    {
     "data": {
      "text/plain": [
       "[0, 2, 3, 1, 4]"
      ]
     },
     "execution_count": 2,
     "metadata": {},
     "output_type": "execute_result"
    }
   ],
   "source": [
    "from collections import deque\n",
    "def bfs(adj):\n",
    "    visited = [0]*len(adj)\n",
    "    queue = deque([0])\n",
    "    visited[0] = 1 # Starting node is marked as visited.\n",
    "    \n",
    "    result = []\n",
    "    while queue:\n",
    "        node = queue.popleft()\n",
    "        result.append(node) # Append the node.\n",
    "        \n",
    "        for neighbors in adj[node]:\n",
    "            if not visited[neighbors]:\n",
    "                visited[neighbors] = 1\n",
    "                queue.append(neighbors)\n",
    "                \n",
    "    \n",
    "    return result\n",
    "adj = [[2, 3, 1], [0], [0, 4], [0], [2]]\n",
    "bfs(adj)"
   ]
  },
  {
   "cell_type": "code",
   "execution_count": null,
   "id": "fa157271",
   "metadata": {},
   "outputs": [
    {
     "data": {
      "text/plain": [
       "[0, 1, 2, 3, 4]"
      ]
     },
     "execution_count": 5,
     "metadata": {},
     "output_type": "execute_result"
    }
   ],
   "source": [
    "from collections import deque\n",
    "def bfs_matrix(adj):\n",
    "    visited = [0]*len(adj)\n",
    "    queue = deque([0])\n",
    "    visited[0] = 1 # Starting node is marked as visited.\n",
    "    \n",
    "    result = []\n",
    "    while queue:\n",
    "        node = queue.popleft()\n",
    "        result.append(node) # Append the node.\n",
    "        \n",
    "        for neighbors in range(len(adj[node])):\n",
    "            if adj[node][neighbors] == 1 and not visited[neighbors]:\n",
    "                visited[neighbors] = 1\n",
    "                queue.append(neighbors)\n",
    "                \n",
    "    return result\n",
    "\n",
    "adj_matrixs = [[0,1,1,1,0],\n",
    " [1,0,0,0,0],\n",
    " [1,0,0,0,1],\n",
    " [1,0,0,0,0],\n",
    " [0,0,1,0,0]]\n",
    "bfs_matrix(adj_matrixs)"
   ]
  },
  {
   "cell_type": "code",
   "execution_count": 2,
   "id": "5f57186c",
   "metadata": {},
   "outputs": [
    {
     "data": {
      "text/plain": [
       "[0, 2, 4, 3, 1]"
      ]
     },
     "execution_count": 2,
     "metadata": {},
     "output_type": "execute_result"
    }
   ],
   "source": [
    "def dfs(adj):\n",
    "    visited = [0]*len(adj)\n",
    "    result = []\n",
    "    def dfs_helper(node):\n",
    "        visited[node] = 1\n",
    "        result.append(node)\n",
    "        for neighbor in adj[node]:\n",
    "            if not visited[neighbor]:\n",
    "                dfs_helper(neighbor)\n",
    "    \n",
    "    dfs_helper(0)\n",
    "    return result\n",
    "\n",
    "adj = [[2, 3, 1], [0], [0, 4], [0], [2]]\n",
    "dfs(adj)"
   ]
  },
  {
   "cell_type": "markdown",
   "id": "7550e52b",
   "metadata": {},
   "source": [
    "### DFS Iterative Approach"
   ]
  },
  {
   "cell_type": "code",
   "execution_count": null,
   "id": "81ba53af",
   "metadata": {},
   "outputs": [
    {
     "data": {
      "text/plain": [
       "[0, 2, 4, 3, 1]"
      ]
     },
     "execution_count": 8,
     "metadata": {},
     "output_type": "execute_result"
    }
   ],
   "source": [
    "def dfs(adj):\n",
    "    visited = [0]*len(adj)\n",
    "    stack = [0]\n",
    "    visited[0] = 1 # Starting node is marked as visited.\n",
    "    \n",
    "    result = []\n",
    "    while stack:\n",
    "        node = stack.pop()\n",
    "        result.append(node) # Append the node.\n",
    "        \n",
    "        for neighbors in reversed(adj[node]):\n",
    "            if not visited[neighbors]:\n",
    "                visited[neighbors] = 1\n",
    "                stack.append(neighbors)\n",
    "                \n",
    "    return result\n",
    "adj = [[2, 3, 1], [0], [0, 4], [0], [2]]\n",
    "dfs(adj)"
   ]
  },
  {
   "cell_type": "code",
   "execution_count": null,
   "id": "431597cb",
   "metadata": {},
   "outputs": [
    {
     "data": {
      "text/plain": [
       "[0, 2, 4, 3, 1]"
      ]
     },
     "execution_count": 9,
     "metadata": {},
     "output_type": "execute_result"
    }
   ],
   "source": [
    "def dfs(adj):\n",
    "    visited = [0]*len(adj)\n",
    "    result = []\n",
    "    \n",
    "    def dfsHelper(node):\n",
    "        visited[node] = 1\n",
    "        result.append(node)\n",
    "        \n",
    "        for neighbor in adj[node]:\n",
    "            if not visited[neighbor]:\n",
    "                dfsHelper(neighbor)\n",
    "                \n",
    "    dfsHelper(0)\n",
    "    return result\n",
    "adj = [[2, 3, 1], [0], [0, 4], [0], [2]]\n",
    "dfs(adj)"
   ]
  },
  {
   "cell_type": "code",
   "execution_count": null,
   "id": "709eeb53",
   "metadata": {},
   "outputs": [
    {
     "data": {
      "text/plain": [
       "([0, 1], 1)"
      ]
     },
     "execution_count": 13,
     "metadata": {},
     "output_type": "execute_result"
    }
   ],
   "source": [
    "from collections import deque\n",
    "def bfs_matrix(adj):\n",
    "    visited = [0]*len(adj)\n",
    "    queue = deque([0])\n",
    "    visited[0] = 1 # Starting node is marked as visited.\n",
    "    \n",
    "    result = []\n",
    "    counter = 0\n",
    "    while queue:\n",
    "        node = queue.popleft()\n",
    "        result.append(node) # Append the node.\n",
    "        \n",
    "        for neighbors in range(len(adj[node])):\n",
    "            if adj[node][neighbors] == 1 and node != neighbors and not visited[neighbors]:\n",
    "                counter += 1\n",
    "                visited[neighbors] = 1\n",
    "                queue.append(neighbors)\n",
    "        \n",
    "            \n",
    "    return result, counter\n",
    "\n",
    "adj_matrixs = [[1,1,0],[1,1,0],[0,0,1]]\n",
    "bfs_matrix(adj_matrixs)"
   ]
  }
 ],
 "metadata": {
  "kernelspec": {
   "display_name": "Python 3",
   "language": "python",
   "name": "python3"
  },
  "language_info": {
   "codemirror_mode": {
    "name": "ipython",
    "version": 3
   },
   "file_extension": ".py",
   "mimetype": "text/x-python",
   "name": "python",
   "nbconvert_exporter": "python",
   "pygments_lexer": "ipython3",
   "version": "3.11.1"
  }
 },
 "nbformat": 4,
 "nbformat_minor": 5
}
