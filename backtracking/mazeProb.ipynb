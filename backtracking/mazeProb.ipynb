{
 "cells": [
  {
   "cell_type": "code",
   "execution_count": null,
   "id": "66648b60",
   "metadata": {},
   "outputs": [],
   "source": [
    "def combina(s1, s2):\n",
    "    if s2 == '':\n",
    "        return "
   ]
  },
  {
   "cell_type": "code",
   "execution_count": null,
   "metadata": {},
   "outputs": [],
   "source": []
  },
  {
   "cell_type": "code",
   "execution_count": null,
   "metadata": {},
   "outputs": [],
   "source": []
  },
  {
   "cell_type": "code",
   "execution_count": null,
   "metadata": {},
   "outputs": [],
   "source": []
  },
  {
   "cell_type": "code",
   "execution_count": null,
   "metadata": {},
   "outputs": [],
   "source": []
  },
  {
   "cell_type": "code",
   "execution_count": 5,
   "id": "da22cdc4",
   "metadata": {},
   "outputs": [
    {
     "name": "stdout",
     "output_type": "stream",
     "text": [
      "DDRR\n",
      "DRDR\n",
      "DRRD\n",
      "RDDR\n",
      "RDRD\n",
      "RRDD\n"
     ]
    }
   ],
   "source": [
    "def mazePath(path, r, c):\n",
    "    # The path can be found after reaching to the last.\n",
    "    # so...\n",
    "    if r == 1 and c == 1:\n",
    "        print(path)\n",
    "        return \n",
    "    # Call the left and right recursion.\n",
    "    if r > 1:\n",
    "        mazePath(path + 'D', r-1, c)\n",
    "    if c > 1:\n",
    "        mazePath(path + 'R', r, c-1)\n",
    "\n",
    "# Maze is of 3x3 length \n",
    "## I have to print the path...\n",
    "\n",
    "mazePath('', 3, 3)"
   ]
  },
  {
   "cell_type": "code",
   "execution_count": 10,
   "id": "bb1b92be",
   "metadata": {},
   "outputs": [
    {
     "data": {
      "text/plain": [
       "['DDRR', 'DRDR', 'DRRD', 'RDDR', 'RDRD', 'RRDD']"
      ]
     },
     "execution_count": 10,
     "metadata": {},
     "output_type": "execute_result"
    }
   ],
   "source": [
    "def mazePath(path, r, c):\n",
    "    if r == 1 and c == 1:\n",
    "        return [path]  # base case: return a list with a single path\n",
    "    \n",
    "    paths = []\n",
    "    \n",
    "    if r > 1:\n",
    "        paths += mazePath(path + 'D', r - 1, c)\n",
    "    if c > 1:\n",
    "        paths += mazePath(path + 'R', r, c - 1)\n",
    "    \n",
    "    return paths\n",
    "\n",
    "# Call and store the result\n",
    "result = mazePath('', 3, 3)\n",
    "\n",
    "result\n"
   ]
  },
  {
   "cell_type": "code",
   "execution_count": null,
   "id": "2dec41fd",
   "metadata": {},
   "outputs": [
    {
     "data": {
      "text/plain": [
       "['VVHH',\n",
       " 'VHVH',\n",
       " 'VHHV',\n",
       " 'VHD',\n",
       " 'VDH',\n",
       " 'HVVH',\n",
       " 'HVHV',\n",
       " 'HVD',\n",
       " 'HHVV',\n",
       " 'HDV',\n",
       " 'DVH',\n",
       " 'DHV',\n",
       " 'DD']"
      ]
     },
     "execution_count": 14,
     "metadata": {},
     "output_type": "execute_result"
    }
   ],
   "source": [
    "def mazePathDiagonal(path, r, c):\n",
    "    if r == 3 and c == 1:\n",
    "        return [path]  # base case: return a list with a single path\n",
    "    \n",
    "    paths = []\n",
    "    \n",
    "    if r > 1:\n",
    "        paths += mazePathDiagonal(path + 'V', r + 1, c)\n",
    "    if c > 1:\n",
    "        paths += mazePathDiagonal(path + 'H', r, c + 1)\n",
    "    if c > 1 and r > 1:\n",
    "        paths += mazePathDiagonal(path + 'D', r + 1, c + 1)\n",
    "    \n",
    "    return paths\n",
    "\n",
    "# Call and store the result\n",
    "result = mazePathDiagonal('', 3, 3)\n",
    "\n",
    "result\n"
   ]
  },
  {
   "cell_type": "code",
   "execution_count": 36,
   "id": "3b3bdcaa",
   "metadata": {},
   "outputs": [
    {
     "data": {
      "text/plain": [
       "['DDRR', 'DRDR', 'DRRD', 'RDDR', 'RDRD', 'RRDD']"
      ]
     },
     "execution_count": 36,
     "metadata": {},
     "output_type": "execute_result"
    }
   ],
   "source": [
    "def pathRestrictions(p, maze, r, c):\n",
    "    n = len(maze)\n",
    "    if r == n-1 and c == n-1:\n",
    "        return [p]\n",
    "    if not maze[r][c]:\n",
    "        return  []\n",
    "    paths = []\n",
    "    if r < n-1:\n",
    "        paths += pathRestrictions(p + 'D', maze, r+1, c)\n",
    "    if c < n-1:\n",
    "        paths += pathRestrictions(p + 'R', maze, r, c+1)\n",
    "    \n",
    "    return paths\n",
    "    \n",
    "maze = [[True, True, True], [True, True, True], [True, True, True]]\n",
    "pathRestrictions('', maze, 0, 0)"
   ]
  },
  {
   "cell_type": "code",
   "execution_count": 15,
   "id": "2afebbe5",
   "metadata": {},
   "outputs": [
    {
     "data": {
      "text/plain": [
       "[[True, True, True], [True, True, True], [True, True, True]]"
      ]
     },
     "execution_count": 15,
     "metadata": {},
     "output_type": "execute_result"
    }
   ],
   "source": [
    "[[True for _ in range(3)] for _ in range(3)]"
   ]
  },
  {
   "cell_type": "code",
   "execution_count": null,
   "metadata": {},
   "outputs": [
    {
     "ename": "RecursionError",
     "evalue": "maximum recursion depth exceeded",
     "output_type": "error",
     "traceback": [
      "\u001b[1;31m---------------------------------------------------------------------------\u001b[0m",
      "\u001b[1;31mRecursionError\u001b[0m                            Traceback (most recent call last)",
      "Cell \u001b[1;32mIn[35], line 22\u001b[0m\n\u001b[0;32m     19\u001b[0m     \u001b[38;5;28;01mreturn\u001b[39;00m paths\n\u001b[0;32m     21\u001b[0m maze \u001b[38;5;241m=\u001b[39m [[\u001b[38;5;28;01mTrue\u001b[39;00m, \u001b[38;5;28;01mTrue\u001b[39;00m, \u001b[38;5;28;01mTrue\u001b[39;00m], [\u001b[38;5;28;01mTrue\u001b[39;00m, \u001b[38;5;28;01mTrue\u001b[39;00m, \u001b[38;5;28;01mTrue\u001b[39;00m], [\u001b[38;5;28;01mTrue\u001b[39;00m, \u001b[38;5;28;01mTrue\u001b[39;00m, \u001b[38;5;28;01mTrue\u001b[39;00m]]\n\u001b[1;32m---> 22\u001b[0m \u001b[43mpathRestrictionsFourDirections\u001b[49m\u001b[43m(\u001b[49m\u001b[38;5;124;43m'\u001b[39;49m\u001b[38;5;124;43m'\u001b[39;49m\u001b[43m,\u001b[49m\u001b[43m \u001b[49m\u001b[43mmaze\u001b[49m\u001b[43m,\u001b[49m\u001b[43m \u001b[49m\u001b[38;5;241;43m0\u001b[39;49m\u001b[43m,\u001b[49m\u001b[43m \u001b[49m\u001b[38;5;241;43m0\u001b[39;49m\u001b[43m)\u001b[49m\n",
      "Cell \u001b[1;32mIn[35], line 15\u001b[0m, in \u001b[0;36mpathRestrictionsFourDirections\u001b[1;34m(p, maze, r, c)\u001b[0m\n\u001b[0;32m     13\u001b[0m     paths \u001b[38;5;241m+\u001b[39m\u001b[38;5;241m=\u001b[39m pathRestrictionsFourDirections(p \u001b[38;5;241m+\u001b[39m \u001b[38;5;124m'\u001b[39m\u001b[38;5;124mU\u001b[39m\u001b[38;5;124m'\u001b[39m, maze, r\u001b[38;5;241m-\u001b[39m\u001b[38;5;241m1\u001b[39m , c)\n\u001b[0;32m     14\u001b[0m \u001b[38;5;28;01mif\u001b[39;00m r \u001b[38;5;241m<\u001b[39m n\u001b[38;5;241m-\u001b[39m\u001b[38;5;241m1\u001b[39m:\n\u001b[1;32m---> 15\u001b[0m     paths \u001b[38;5;241m+\u001b[39m\u001b[38;5;241m=\u001b[39m \u001b[43mpathRestrictionsFourDirections\u001b[49m\u001b[43m(\u001b[49m\u001b[43mp\u001b[49m\u001b[43m \u001b[49m\u001b[38;5;241;43m+\u001b[39;49m\u001b[43m \u001b[49m\u001b[38;5;124;43m'\u001b[39;49m\u001b[38;5;124;43mD\u001b[39;49m\u001b[38;5;124;43m'\u001b[39;49m\u001b[43m,\u001b[49m\u001b[43m \u001b[49m\u001b[43mmaze\u001b[49m\u001b[43m,\u001b[49m\u001b[43m \u001b[49m\u001b[43mr\u001b[49m\u001b[38;5;241;43m+\u001b[39;49m\u001b[38;5;241;43m1\u001b[39;49m\u001b[43m,\u001b[49m\u001b[43m \u001b[49m\u001b[43mc\u001b[49m\u001b[43m)\u001b[49m\n\u001b[0;32m     16\u001b[0m \u001b[38;5;28;01mif\u001b[39;00m c \u001b[38;5;241m<\u001b[39m n\u001b[38;5;241m-\u001b[39m\u001b[38;5;241m1\u001b[39m:\n\u001b[0;32m     17\u001b[0m     paths \u001b[38;5;241m+\u001b[39m\u001b[38;5;241m=\u001b[39m pathRestrictionsFourDirections(p \u001b[38;5;241m+\u001b[39m \u001b[38;5;124m'\u001b[39m\u001b[38;5;124mR\u001b[39m\u001b[38;5;124m'\u001b[39m, maze, r, c\u001b[38;5;241m+\u001b[39m\u001b[38;5;241m1\u001b[39m)\n",
      "Cell \u001b[1;32mIn[35], line 13\u001b[0m, in \u001b[0;36mpathRestrictionsFourDirections\u001b[1;34m(p, maze, r, c)\u001b[0m\n\u001b[0;32m     11\u001b[0m \u001b[38;5;66;03m# Up\u001b[39;00m\n\u001b[0;32m     12\u001b[0m \u001b[38;5;28;01mif\u001b[39;00m r \u001b[38;5;241m>\u001b[39m \u001b[38;5;241m0\u001b[39m:\n\u001b[1;32m---> 13\u001b[0m     paths \u001b[38;5;241m+\u001b[39m\u001b[38;5;241m=\u001b[39m \u001b[43mpathRestrictionsFourDirections\u001b[49m\u001b[43m(\u001b[49m\u001b[43mp\u001b[49m\u001b[43m \u001b[49m\u001b[38;5;241;43m+\u001b[39;49m\u001b[43m \u001b[49m\u001b[38;5;124;43m'\u001b[39;49m\u001b[38;5;124;43mU\u001b[39;49m\u001b[38;5;124;43m'\u001b[39;49m\u001b[43m,\u001b[49m\u001b[43m \u001b[49m\u001b[43mmaze\u001b[49m\u001b[43m,\u001b[49m\u001b[43m \u001b[49m\u001b[43mr\u001b[49m\u001b[38;5;241;43m-\u001b[39;49m\u001b[38;5;241;43m1\u001b[39;49m\u001b[43m \u001b[49m\u001b[43m,\u001b[49m\u001b[43m \u001b[49m\u001b[43mc\u001b[49m\u001b[43m)\u001b[49m\n\u001b[0;32m     14\u001b[0m \u001b[38;5;28;01mif\u001b[39;00m r \u001b[38;5;241m<\u001b[39m n\u001b[38;5;241m-\u001b[39m\u001b[38;5;241m1\u001b[39m:\n\u001b[0;32m     15\u001b[0m     paths \u001b[38;5;241m+\u001b[39m\u001b[38;5;241m=\u001b[39m pathRestrictionsFourDirections(p \u001b[38;5;241m+\u001b[39m \u001b[38;5;124m'\u001b[39m\u001b[38;5;124mD\u001b[39m\u001b[38;5;124m'\u001b[39m, maze, r\u001b[38;5;241m+\u001b[39m\u001b[38;5;241m1\u001b[39m, c)\n",
      "Cell \u001b[1;32mIn[35], line 15\u001b[0m, in \u001b[0;36mpathRestrictionsFourDirections\u001b[1;34m(p, maze, r, c)\u001b[0m\n\u001b[0;32m     13\u001b[0m     paths \u001b[38;5;241m+\u001b[39m\u001b[38;5;241m=\u001b[39m pathRestrictionsFourDirections(p \u001b[38;5;241m+\u001b[39m \u001b[38;5;124m'\u001b[39m\u001b[38;5;124mU\u001b[39m\u001b[38;5;124m'\u001b[39m, maze, r\u001b[38;5;241m-\u001b[39m\u001b[38;5;241m1\u001b[39m , c)\n\u001b[0;32m     14\u001b[0m \u001b[38;5;28;01mif\u001b[39;00m r \u001b[38;5;241m<\u001b[39m n\u001b[38;5;241m-\u001b[39m\u001b[38;5;241m1\u001b[39m:\n\u001b[1;32m---> 15\u001b[0m     paths \u001b[38;5;241m+\u001b[39m\u001b[38;5;241m=\u001b[39m \u001b[43mpathRestrictionsFourDirections\u001b[49m\u001b[43m(\u001b[49m\u001b[43mp\u001b[49m\u001b[43m \u001b[49m\u001b[38;5;241;43m+\u001b[39;49m\u001b[43m \u001b[49m\u001b[38;5;124;43m'\u001b[39;49m\u001b[38;5;124;43mD\u001b[39;49m\u001b[38;5;124;43m'\u001b[39;49m\u001b[43m,\u001b[49m\u001b[43m \u001b[49m\u001b[43mmaze\u001b[49m\u001b[43m,\u001b[49m\u001b[43m \u001b[49m\u001b[43mr\u001b[49m\u001b[38;5;241;43m+\u001b[39;49m\u001b[38;5;241;43m1\u001b[39;49m\u001b[43m,\u001b[49m\u001b[43m \u001b[49m\u001b[43mc\u001b[49m\u001b[43m)\u001b[49m\n\u001b[0;32m     16\u001b[0m \u001b[38;5;28;01mif\u001b[39;00m c \u001b[38;5;241m<\u001b[39m n\u001b[38;5;241m-\u001b[39m\u001b[38;5;241m1\u001b[39m:\n\u001b[0;32m     17\u001b[0m     paths \u001b[38;5;241m+\u001b[39m\u001b[38;5;241m=\u001b[39m pathRestrictionsFourDirections(p \u001b[38;5;241m+\u001b[39m \u001b[38;5;124m'\u001b[39m\u001b[38;5;124mR\u001b[39m\u001b[38;5;124m'\u001b[39m, maze, r, c\u001b[38;5;241m+\u001b[39m\u001b[38;5;241m1\u001b[39m)\n",
      "Cell \u001b[1;32mIn[35], line 13\u001b[0m, in \u001b[0;36mpathRestrictionsFourDirections\u001b[1;34m(p, maze, r, c)\u001b[0m\n\u001b[0;32m     11\u001b[0m \u001b[38;5;66;03m# Up\u001b[39;00m\n\u001b[0;32m     12\u001b[0m \u001b[38;5;28;01mif\u001b[39;00m r \u001b[38;5;241m>\u001b[39m \u001b[38;5;241m0\u001b[39m:\n\u001b[1;32m---> 13\u001b[0m     paths \u001b[38;5;241m+\u001b[39m\u001b[38;5;241m=\u001b[39m \u001b[43mpathRestrictionsFourDirections\u001b[49m\u001b[43m(\u001b[49m\u001b[43mp\u001b[49m\u001b[43m \u001b[49m\u001b[38;5;241;43m+\u001b[39;49m\u001b[43m \u001b[49m\u001b[38;5;124;43m'\u001b[39;49m\u001b[38;5;124;43mU\u001b[39;49m\u001b[38;5;124;43m'\u001b[39;49m\u001b[43m,\u001b[49m\u001b[43m \u001b[49m\u001b[43mmaze\u001b[49m\u001b[43m,\u001b[49m\u001b[43m \u001b[49m\u001b[43mr\u001b[49m\u001b[38;5;241;43m-\u001b[39;49m\u001b[38;5;241;43m1\u001b[39;49m\u001b[43m \u001b[49m\u001b[43m,\u001b[49m\u001b[43m \u001b[49m\u001b[43mc\u001b[49m\u001b[43m)\u001b[49m\n\u001b[0;32m     14\u001b[0m \u001b[38;5;28;01mif\u001b[39;00m r \u001b[38;5;241m<\u001b[39m n\u001b[38;5;241m-\u001b[39m\u001b[38;5;241m1\u001b[39m:\n\u001b[0;32m     15\u001b[0m     paths \u001b[38;5;241m+\u001b[39m\u001b[38;5;241m=\u001b[39m pathRestrictionsFourDirections(p \u001b[38;5;241m+\u001b[39m \u001b[38;5;124m'\u001b[39m\u001b[38;5;124mD\u001b[39m\u001b[38;5;124m'\u001b[39m, maze, r\u001b[38;5;241m+\u001b[39m\u001b[38;5;241m1\u001b[39m, c)\n",
      "    \u001b[1;31m[... skipping similar frames: pathRestrictionsFourDirections at line 15 (1484 times), pathRestrictionsFourDirections at line 13 (1484 times)]\u001b[0m\n",
      "Cell \u001b[1;32mIn[35], line 15\u001b[0m, in \u001b[0;36mpathRestrictionsFourDirections\u001b[1;34m(p, maze, r, c)\u001b[0m\n\u001b[0;32m     13\u001b[0m     paths \u001b[38;5;241m+\u001b[39m\u001b[38;5;241m=\u001b[39m pathRestrictionsFourDirections(p \u001b[38;5;241m+\u001b[39m \u001b[38;5;124m'\u001b[39m\u001b[38;5;124mU\u001b[39m\u001b[38;5;124m'\u001b[39m, maze, r\u001b[38;5;241m-\u001b[39m\u001b[38;5;241m1\u001b[39m , c)\n\u001b[0;32m     14\u001b[0m \u001b[38;5;28;01mif\u001b[39;00m r \u001b[38;5;241m<\u001b[39m n\u001b[38;5;241m-\u001b[39m\u001b[38;5;241m1\u001b[39m:\n\u001b[1;32m---> 15\u001b[0m     paths \u001b[38;5;241m+\u001b[39m\u001b[38;5;241m=\u001b[39m \u001b[43mpathRestrictionsFourDirections\u001b[49m\u001b[43m(\u001b[49m\u001b[43mp\u001b[49m\u001b[43m \u001b[49m\u001b[38;5;241;43m+\u001b[39;49m\u001b[43m \u001b[49m\u001b[38;5;124;43m'\u001b[39;49m\u001b[38;5;124;43mD\u001b[39;49m\u001b[38;5;124;43m'\u001b[39;49m\u001b[43m,\u001b[49m\u001b[43m \u001b[49m\u001b[43mmaze\u001b[49m\u001b[43m,\u001b[49m\u001b[43m \u001b[49m\u001b[43mr\u001b[49m\u001b[38;5;241;43m+\u001b[39;49m\u001b[38;5;241;43m1\u001b[39;49m\u001b[43m,\u001b[49m\u001b[43m \u001b[49m\u001b[43mc\u001b[49m\u001b[43m)\u001b[49m\n\u001b[0;32m     16\u001b[0m \u001b[38;5;28;01mif\u001b[39;00m c \u001b[38;5;241m<\u001b[39m n\u001b[38;5;241m-\u001b[39m\u001b[38;5;241m1\u001b[39m:\n\u001b[0;32m     17\u001b[0m     paths \u001b[38;5;241m+\u001b[39m\u001b[38;5;241m=\u001b[39m pathRestrictionsFourDirections(p \u001b[38;5;241m+\u001b[39m \u001b[38;5;124m'\u001b[39m\u001b[38;5;124mR\u001b[39m\u001b[38;5;124m'\u001b[39m, maze, r, c\u001b[38;5;241m+\u001b[39m\u001b[38;5;241m1\u001b[39m)\n",
      "Cell \u001b[1;32mIn[35], line 13\u001b[0m, in \u001b[0;36mpathRestrictionsFourDirections\u001b[1;34m(p, maze, r, c)\u001b[0m\n\u001b[0;32m     11\u001b[0m \u001b[38;5;66;03m# Up\u001b[39;00m\n\u001b[0;32m     12\u001b[0m \u001b[38;5;28;01mif\u001b[39;00m r \u001b[38;5;241m>\u001b[39m \u001b[38;5;241m0\u001b[39m:\n\u001b[1;32m---> 13\u001b[0m     paths \u001b[38;5;241m+\u001b[39m\u001b[38;5;241m=\u001b[39m \u001b[43mpathRestrictionsFourDirections\u001b[49m\u001b[43m(\u001b[49m\u001b[43mp\u001b[49m\u001b[43m \u001b[49m\u001b[38;5;241;43m+\u001b[39;49m\u001b[43m \u001b[49m\u001b[38;5;124;43m'\u001b[39;49m\u001b[38;5;124;43mU\u001b[39;49m\u001b[38;5;124;43m'\u001b[39;49m\u001b[43m,\u001b[49m\u001b[43m \u001b[49m\u001b[43mmaze\u001b[49m\u001b[43m,\u001b[49m\u001b[43m \u001b[49m\u001b[43mr\u001b[49m\u001b[38;5;241;43m-\u001b[39;49m\u001b[38;5;241;43m1\u001b[39;49m\u001b[43m \u001b[49m\u001b[43m,\u001b[49m\u001b[43m \u001b[49m\u001b[43mc\u001b[49m\u001b[43m)\u001b[49m\n\u001b[0;32m     14\u001b[0m \u001b[38;5;28;01mif\u001b[39;00m r \u001b[38;5;241m<\u001b[39m n\u001b[38;5;241m-\u001b[39m\u001b[38;5;241m1\u001b[39m:\n\u001b[0;32m     15\u001b[0m     paths \u001b[38;5;241m+\u001b[39m\u001b[38;5;241m=\u001b[39m pathRestrictionsFourDirections(p \u001b[38;5;241m+\u001b[39m \u001b[38;5;124m'\u001b[39m\u001b[38;5;124mD\u001b[39m\u001b[38;5;124m'\u001b[39m, maze, r\u001b[38;5;241m+\u001b[39m\u001b[38;5;241m1\u001b[39m, c)\n",
      "\u001b[1;31mRecursionError\u001b[0m: maximum recursion depth exceeded"
     ]
    }
   ],
   "source": [
    "def pathRestrictionsFourDirections(p, maze, r, c):\n",
    "    n = len(maze)\n",
    "    if r == n-1 and c == n-1:\n",
    "        return [p]\n",
    "    if not maze[r][c]:\n",
    "        return  []\n",
    "    paths = []\n",
    "    \n",
    "    if c > 0: # left\n",
    "        paths += pathRestrictionsFourDirections(p + 'L', maze, r, c-1)\n",
    "    if r > 0: # Up\n",
    "        paths += pathRestrictionsFourDirections(p + 'U', maze, r-1 , c)\n",
    "    if r < n-1:\n",
    "        paths += pathRestrictionsFourDirections(p + 'D', maze, r+1, c)\n",
    "    if c < n-1:\n",
    "        paths += pathRestrictionsFourDirections(p + 'R', maze, r, c+1)\n",
    "    \n",
    "    return paths\n",
    "    \n",
    "maze = [[True, True, True], [True, True, True], [True, True, True]]\n",
    "pathRestrictionsFourDirections('', maze, 0, 0)"
   ]
  },
  {
   "cell_type": "code",
   "execution_count": 46,
   "id": "8610e782",
   "metadata": {},
   "outputs": [
    {
     "name": "stdout",
     "output_type": "stream",
     "text": [
      "DDRUURDD\n",
      "[1, 6, 7]\n",
      "[2, 5, 8]\n",
      "[3, 4, 9]\n",
      "\n",
      "DDRURD\n",
      "[1, 0, 0]\n",
      "[2, 5, 6]\n",
      "[3, 4, 7]\n",
      "\n",
      "DDRR\n",
      "[1, 0, 0]\n",
      "[2, 0, 0]\n",
      "[3, 4, 5]\n",
      "\n",
      "DRURDD\n",
      "[1, 4, 5]\n",
      "[2, 3, 6]\n",
      "[0, 0, 7]\n",
      "\n",
      "DRDR\n",
      "[1, 0, 0]\n",
      "[2, 3, 0]\n",
      "[0, 4, 5]\n",
      "\n",
      "DRRD\n",
      "[1, 0, 0]\n",
      "[2, 3, 4]\n",
      "[0, 0, 5]\n",
      "\n",
      "RDLDRR\n",
      "[1, 2, 0]\n",
      "[4, 3, 0]\n",
      "[5, 6, 7]\n",
      "\n",
      "RDDR\n",
      "[1, 2, 0]\n",
      "[0, 3, 0]\n",
      "[0, 4, 5]\n",
      "\n",
      "RDRD\n",
      "[1, 2, 0]\n",
      "[0, 3, 4]\n",
      "[0, 0, 5]\n",
      "\n",
      "RRDLLDRR\n",
      "[1, 2, 3]\n",
      "[6, 5, 4]\n",
      "[7, 8, 9]\n",
      "\n",
      "RRDLDR\n",
      "[1, 2, 3]\n",
      "[0, 5, 4]\n",
      "[0, 6, 7]\n",
      "\n",
      "RRDD\n",
      "[1, 2, 3]\n",
      "[0, 0, 4]\n",
      "[0, 0, 5]\n",
      "\n"
     ]
    }
   ],
   "source": [
    "def pathRestrictionsFourDirections(p, maze, r, c, path, step):\n",
    "    n = len(maze)\n",
    "    \n",
    "    # Base case: reached destination\n",
    "    if r == n - 1 and c == n - 1:\n",
    "        path[r][c] = step\n",
    "        print(p)\n",
    "        for row in path:\n",
    "            print(row)\n",
    "        print()\n",
    "        path[r][c] = 0  # backtrack step\n",
    "        return\n",
    "\n",
    "    # Invalid cell\n",
    "    if not maze[r][c]:\n",
    "        return\n",
    "\n",
    "    # Mark cell as visited\n",
    "    maze[r][c] = False\n",
    "    path[r][c] = step\n",
    "\n",
    "    # Explore all four directions\n",
    "    if c > 0:  # Left\n",
    "        pathRestrictionsFourDirections(p + 'L', maze, r, c - 1, path, step + 1)\n",
    "    if r > 0:  # Up\n",
    "        pathRestrictionsFourDirections(p + 'U', maze, r - 1, c, path, step + 1)\n",
    "    if r < n - 1:  # Down\n",
    "        pathRestrictionsFourDirections(p + 'D', maze, r + 1, c, path, step + 1)\n",
    "    if c < n - 1:  # Right\n",
    "        pathRestrictionsFourDirections(p + 'R', maze, r, c + 1, path, step + 1)\n",
    "\n",
    "    # Backtrack\n",
    "    maze[r][c] = True\n",
    "    path[r][c] = 0\n",
    "\n",
    "# Setup\n",
    "maze = [[True, True, True], \n",
    "        [True, True, True], \n",
    "        [True, True, True]]\n",
    "\n",
    "path = [[0 for _ in range(3)] for _ in range(3)]\n",
    "\n",
    "# Call the function\n",
    "pathRestrictionsFourDirections('', maze, 0, 0, path, 1)\n"
   ]
  },
  {
   "cell_type": "code",
   "execution_count": null,
   "id": "2e2ad29e",
   "metadata": {},
   "outputs": [],
   "source": [
    "class Solution:\n",
    "    # Helper function to check if placing a queen at (row, col) is safe\n",
    "    def isSafePlace(self, n, nQueens, row, col):\n",
    "        # Check same column\n",
    "        for i in range(n):\n",
    "            if nQueens[i][col] == 'Q':\n",
    "                return False\n",
    "\n",
    "        # Check upper-left diagonal\n",
    "        i, j = row - 1, col - 1\n",
    "        while i >= 0 and j >= 0:\n",
    "            if nQueens[i][j] == 'Q':\n",
    "                return False\n",
    "            i -= 1\n",
    "            j -= 1\n",
    "\n",
    "        # Check upper-right diagonal\n",
    "        i, j = row - 1, col + 1\n",
    "        while i >= 0 and j < n:\n",
    "            if nQueens[i][j] == 'Q':\n",
    "                return False\n",
    "            i -= 1\n",
    "            j += 1\n",
    "\n",
    "        return True\n",
    "\n",
    "    # Recursive function to solve N-Queens\n",
    "    def solveNQueensUtil(self, n, output, nQueens, row):\n",
    "        if row == n:\n",
    "            output.append(nQueens.copy())  # Save a deep copy of the solution\n",
    "            return\n",
    "\n",
    "        for col in range(n):\n",
    "            if self.isSafePlace(n, nQueens, row, col):\n",
    "                # Place queen\n",
    "                nQueens[row] = nQueens[row][:col] + 'Q' + nQueens[row][col+1:]\n",
    "                # Recurse for next row\n",
    "                self.solveNQueensUtil(n, output, nQueens, row + 1)\n",
    "                # Backtrack\n",
    "                nQueens[row] = nQueens[row][:col] + '.' + nQueens[row][col+1:]\n",
    "\n",
    "    # Main function\n",
    "    def solveNQueens(self, n):\n",
    "        output = []\n",
    "        nQueens = ['.' * n for _ in range(n)]  # Initialize empty board\n",
    "        self.solveNQueensUtil(n, output, nQueens, 0)\n",
    "        return output\n"
   ]
  }
 ],
 "metadata": {
  "kernelspec": {
   "display_name": "Python 3",
   "language": "python",
   "name": "python3"
  },
  "language_info": {
   "codemirror_mode": {
    "name": "ipython",
    "version": 3
   },
   "file_extension": ".py",
   "mimetype": "text/x-python",
   "name": "python",
   "nbconvert_exporter": "python",
   "pygments_lexer": "ipython3",
   "version": "3.11.1"
  }
 },
 "nbformat": 4,
 "nbformat_minor": 5
}
