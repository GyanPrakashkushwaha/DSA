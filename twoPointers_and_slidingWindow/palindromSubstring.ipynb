{
 "cells": [
  {
   "cell_type": "code",
   "execution_count": 25,
   "id": "d21d5c76",
   "metadata": {},
   "outputs": [
    {
     "name": "stdout",
     "output_type": "stream",
     "text": [
      "4, 3, 2, FOUND THE SUBSTRING BHAIYA....... \n",
      "\n",
      "\n",
      "4, 3, FOUND THE SUBSTRING BHAIYA....... \n",
      "\n",
      "\n",
      "4, 3, 2, \n",
      "4, 3, \n",
      "4, \n",
      "{'aba', 'bab'}\n"
     ]
    }
   ],
   "source": [
    "s = 'babad'\n",
    "\n",
    "def isPalindrom(s):\n",
    "    return s == s[::-1]\n",
    "\n",
    "charSet = set()\n",
    "n = len(s)\n",
    "for i in range(n):\n",
    "    j = n-1\n",
    "    while j >= i:\n",
    "        print(j, end=', ')\n",
    "        if s[i] == s[j]:\n",
    "            subString = s[i:j+1]\n",
    "            if len(subString) > 1 and isPalindrom(subString):\n",
    "                print('FOUND THE SUBSTRING BHAIYA....... \\n')\n",
    "                charSet.add(subString)\n",
    "                break\n",
    "                \n",
    "        j-= 1\n",
    "    print()\n",
    "print(charSet)"
   ]
  },
  {
   "cell_type": "code",
   "execution_count": 9,
   "id": "1302db78",
   "metadata": {},
   "outputs": [],
   "source": [
    "# max(charSet)"
   ]
  },
  {
   "cell_type": "code",
   "execution_count": 2,
   "metadata": {},
   "outputs": [
    {
     "data": {
      "text/plain": [
       "'dabab'"
      ]
     },
     "execution_count": 2,
     "metadata": {},
     "output_type": "execute_result"
    }
   ],
   "source": [
    "s = 'babad'\n",
    "s[::-1]"
   ]
  },
  {
   "cell_type": "code",
   "execution_count": null,
   "id": "a7f10ea6",
   "metadata": {},
   "outputs": [
    {
     "data": {
      "text/plain": [
       "{'aba', 'bab'}"
      ]
     },
     "execution_count": 39,
     "metadata": {},
     "output_type": "execute_result"
    }
   ],
   "source": [
    "s = 'babad'\n",
    "\n",
    "palindromes = set()\n",
    "for i in range(1, len(s)):\n",
    "    right = i + 1\n",
    "    left = i - 1\n",
    "    # check...\n",
    "    while left >= 0 and right < len(s) and s[left] == s[right]:\n",
    "        palindromes.add(s[left:right+1])  \n",
    "        left -= 1\n",
    "        right += 1\n",
    "    \n",
    "    left = i\n",
    "    right = i + 1\n",
    "    while left >= 0 and right < n and s[left] == s[right]:\n",
    "        palindromes.add(s[left:right+1])\n",
    "        left -= 1\n",
    "        right += 1\n",
    "palindromes"
   ]
  },
  {
   "cell_type": "code",
   "execution_count": 7,
   "id": "62b3c063",
   "metadata": {},
   "outputs": [],
   "source": [
    "lst = [(1, 'cde'), (1,'ab')]\n",
    "lst.sort()"
   ]
  },
  {
   "cell_type": "code",
   "execution_count": 8,
   "id": "1dd16277",
   "metadata": {},
   "outputs": [
    {
     "data": {
      "text/plain": [
       "[(1, 'ab'), (1, 'cde')]"
      ]
     },
     "execution_count": 8,
     "metadata": {},
     "output_type": "execute_result"
    }
   ],
   "source": [
    "lst"
   ]
  },
  {
   "cell_type": "code",
   "execution_count": 3,
   "id": "d7546e22",
   "metadata": {},
   "outputs": [
    {
     "data": {
      "text/plain": [
       "'a'"
      ]
     },
     "execution_count": 3,
     "metadata": {},
     "output_type": "execute_result"
    }
   ],
   "source": [
    "'a'"
   ]
  },
  {
   "cell_type": "code",
   "execution_count": 12,
   "id": "651763c5",
   "metadata": {},
   "outputs": [
    {
     "name": "stdout",
     "output_type": "stream",
     "text": [
      "2.0\n"
     ]
    }
   ],
   "source": [
    "b = 6\n",
    "b/=3\n",
    "print(b)"
   ]
  },
  {
   "cell_type": "code",
   "execution_count": 13,
   "id": "81234e12",
   "metadata": {},
   "outputs": [
    {
     "data": {
      "text/plain": [
       "3"
      ]
     },
     "execution_count": 13,
     "metadata": {},
     "output_type": "execute_result"
    }
   ],
   "source": [
    "len('abc')"
   ]
  },
  {
   "cell_type": "code",
   "execution_count": 19,
   "id": "4a0b99b8",
   "metadata": {},
   "outputs": [
    {
     "name": "stdout",
     "output_type": "stream",
     "text": [
      "v\n",
      "l\n",
      "['e', 'o']\n",
      "o\n",
      "u\n",
      "['i', 'e']\n"
     ]
    }
   ],
   "source": [
    "\n",
    "s = \"(u(love)i)\"\n",
    "stack = []\n",
    "for char in s:\n",
    "    if char == ')':\n",
    "        temp = []\n",
    "        while stack[-1] != '(':\n",
    "            temp.append(stack.pop())\n",
    "            print(stack.pop())\n",
    "        print(temp)\n",
    "        \n",
    "        stack.pop()  # Remove the '('\n",
    "        stack.extend(temp)  # Push reversed content back\n",
    "    else:\n",
    "        stack.append(char)\n",
    "        \n"
   ]
  }
 ],
 "metadata": {
  "kernelspec": {
   "display_name": "Python 3",
   "language": "python",
   "name": "python3"
  },
  "language_info": {
   "codemirror_mode": {
    "name": "ipython",
    "version": 3
   },
   "file_extension": ".py",
   "mimetype": "text/x-python",
   "name": "python",
   "nbconvert_exporter": "python",
   "pygments_lexer": "ipython3",
   "version": "3.11.1"
  }
 },
 "nbformat": 4,
 "nbformat_minor": 5
}
