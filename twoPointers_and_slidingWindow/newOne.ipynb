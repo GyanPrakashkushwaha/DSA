{
 "cells": [
  {
   "cell_type": "code",
   "execution_count": 6,
   "id": "d54a26bd",
   "metadata": {},
   "outputs": [
    {
     "name": "stdout",
     "output_type": "stream",
     "text": [
      "ab_a\n"
     ]
    },
    {
     "data": {
      "text/plain": [
       "False"
      ]
     },
     "execution_count": 6,
     "metadata": {},
     "output_type": "execute_result"
    }
   ],
   "source": [
    "import re\n",
    "import re\n",
    "class Solution:\n",
    "    def isPalindrome(self, s: str) -> bool:\n",
    "        pattern = r'[^a-zA-z0-9]'\n",
    "        text = re.sub(pattern, '', s)\n",
    "        text = text.lower()\n",
    "        print(text)\n",
    "\n",
    "        l, r = 0, len(s)-1\n",
    "        while l < r:\n",
    "            # print(s[l], s[r])\n",
    "            if s[l] != s[r]:\n",
    "                return False\n",
    "            l += 1\n",
    "            r -= 1\n",
    "\n",
    "        return True\n",
    "\n",
    "s = \"ab_a\"\n",
    "Solution().isPalindrome(s)"
   ]
  },
  {
   "cell_type": "code",
   "execution_count": 11,
   "id": "dac1611f",
   "metadata": {},
   "outputs": [
    {
     "name": "stdout",
     "output_type": "stream",
     "text": [
      "[(0, 2), (1, 7), (2, 11), (3, 15)]\n"
     ]
    }
   ],
   "source": [
    "arr2 = list(enumerate([2,7,11,15]))\n",
    "arr2.sort(key=lambda x: x[1])\n",
    "print(arr2)"
   ]
  },
  {
   "cell_type": "code",
   "execution_count": 12,
   "id": "430fa5cc",
   "metadata": {},
   "outputs": [
    {
     "name": "stdout",
     "output_type": "stream",
     "text": [
      "[(2, 0), (7, 1), (11, 2), (15, 3)]\n"
     ]
    }
   ],
   "source": [
    "nums = [2,7,11,15]\n",
    "arr = []\n",
    "for i in range(len(nums)):\n",
    "    arr.append((nums[i], i))\n",
    "# arr\n",
    "arr.sort(key = lambda x: x[0])\n",
    "print(arr)"
   ]
  },
  {
   "cell_type": "code",
   "execution_count": null,
   "id": "575b5982",
   "metadata": {},
   "outputs": [],
   "source": [
    "class Solution:\n",
    "    def twoSum(self, nums: list[int], target: int) -> list[int]:\n",
    "        arr = list(enumerate(nums))\n",
    "        \n",
    "        arr.sort(key = lambda x: x[1])\n",
    "\n",
    "        l, r = 0, len(nums)-1\n",
    "\n",
    "        while l <= r:\n",
    "            if arr[l][1] + arr[r][1] == target:\n",
    "                return [arr[l][0], arr[l][0]]\n",
    "            elif arr[l][1] + arr[r][1] < target:\n",
    "                l += 1\n",
    "            else:\n",
    "                r -= 1\n",
    "        \n",
    "        return [-1, -1]\n",
    "\n",
    "nums = [2,7,11,15]\n",
    "target = 9\n",
    "Solution().twoSum(nums, target)"
   ]
  }
 ],
 "metadata": {
  "kernelspec": {
   "display_name": "Python 3",
   "language": "python",
   "name": "python3"
  },
  "language_info": {
   "codemirror_mode": {
    "name": "ipython",
    "version": 3
   },
   "file_extension": ".py",
   "mimetype": "text/x-python",
   "name": "python",
   "nbconvert_exporter": "python",
   "pygments_lexer": "ipython3",
   "version": "3.13.7"
  }
 },
 "nbformat": 4,
 "nbformat_minor": 5
}
