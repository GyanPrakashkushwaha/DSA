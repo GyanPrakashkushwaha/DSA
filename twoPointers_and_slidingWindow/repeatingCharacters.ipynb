{
 "cells": [
  {
   "cell_type": "code",
   "execution_count": 9,
   "id": "b075acca",
   "metadata": {},
   "outputs": [
    {
     "name": "stdout",
     "output_type": "stream",
     "text": [
      "ab 2\n",
      "bacde 5\n",
      "acde 5\n",
      "cde 5\n",
      "decfab 6\n",
      "ecfab 6\n",
      "cfab 6\n",
      "fab 6\n",
      "ab 6\n",
      "b 6\n"
     ]
    }
   ],
   "source": [
    "word = \"abacdecfab\"\n",
    "longestSubstring = 0\n",
    "for i in range(len(word)):\n",
    "    # print(word[i])\n",
    "    subString = ''\n",
    "    for j in range(i, len(word)):\n",
    "        if word[j] in subString:\n",
    "            break\n",
    "        subString += word[j]\n",
    "    longestSubstring = max(longestSubstring, len(subString))\n",
    "    print(subString, longestSubstring)"
   ]
  },
  {
   "cell_type": "code",
   "execution_count": 11,
   "id": "1b40655a",
   "metadata": {},
   "outputs": [
    {
     "data": {
      "text/plain": [
       "0"
      ]
     },
     "execution_count": 11,
     "metadata": {},
     "output_type": "execute_result"
    }
   ],
   "source": [
    "def repeatingChar(word):\n",
    "    me = 0\n",
    "    her = 1\n",
    "    ans = 0\n",
    "    while her < len(word):\n",
    "        longestSub = word[me:her+1]\n",
    "        if word[her] in longestSub:\n",
    "            me += 1\n",
    "            her += 1\n",
    "        elif word[me] in longestSub:\n",
    "            me += 1\n",
    "        else:\n",
    "            ans = max(ans, len(longestSub))\n",
    "            her += 1\n",
    "            \n",
    "    return ans\n",
    "\n",
    "word = \"pwwkewxpw\"\n",
    "repeatingChar(word)"
   ]
  },
  {
   "cell_type": "code",
   "execution_count": null,
   "id": "55bc4f9a",
   "metadata": {},
   "outputs": [],
   "source": [
    "def lengthOfLongestSubstring(s: str) -> int:\n",
    "    n = len(s)\n",
    "    maxLength = 0\n",
    "    charSet = set()\n",
    "    left = 0\n",
    "\n",
    "    for right in range(n):\n",
    "        if s[right] not in charSet:\n",
    "            charSet.add(s[right])\n",
    "            maxLength = max(maxLength, right - left + 1)\n",
    "        else:\n",
    "            while s[right] in charSet:\n",
    "                charSet.remove(s[left])\n",
    "                left += 1\n",
    "            charSet.add(s[right])\n",
    "\n",
    "    return maxLength"
   ]
  }
 ],
 "metadata": {
  "kernelspec": {
   "display_name": "Python 3",
   "language": "python",
   "name": "python3"
  },
  "language_info": {
   "codemirror_mode": {
    "name": "ipython",
    "version": 3
   },
   "file_extension": ".py",
   "mimetype": "text/x-python",
   "name": "python",
   "nbconvert_exporter": "python",
   "pygments_lexer": "ipython3",
   "version": "3.11.1"
  }
 },
 "nbformat": 4,
 "nbformat_minor": 5
}
