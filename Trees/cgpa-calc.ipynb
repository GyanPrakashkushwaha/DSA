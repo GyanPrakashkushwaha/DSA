{
 "cells": [
  {
   "cell_type": "code",
   "execution_count": 40,
   "id": "85973f29",
   "metadata": {},
   "outputs": [
    {
     "data": {
      "text/plain": [
       "126.93333333333334"
      ]
     },
     "execution_count": 40,
     "metadata": {},
     "output_type": "execute_result"
    }
   ],
   "source": [
    "S = 3*10\n",
    "A = 2*9\n",
    "B = 4*8\n",
    "C = 5*7\n",
    "E = 1*4\n",
    "B3 = 1*7\n",
    "p2 = 2*8\n",
    "\n",
    "\n",
    "SCred = 3\n",
    "ACred = 2\n",
    "BCred = 4\n",
    "CCred = 5\n",
    "ECred = 1\n",
    "B3Cred = 1\n",
    "\n",
    "# print(S + A + B + C + E)\n",
    "(S + A + B + C + E)*4/ (SCred + ACred + BCred + CCred + ECred)*4"
   ]
  },
  {
   "cell_type": "code",
   "execution_count": 38,
   "id": "b4e09b05",
   "metadata": {},
   "outputs": [
    {
     "name": "stdout",
     "output_type": "stream",
     "text": [
      "Total Grade Points: 517\n",
      "Total Credits: 64\n",
      "New CGPA: 8.08\n"
     ]
    }
   ],
   "source": [
    "# CGPA calculation including 2 new 2-credit B-grade courses (GP=8)\n",
    "\n",
    "groups = [(3, 10),  # S\n",
    "          (2, 9),   # A\n",
    "          (4, 8),   # B\n",
    "          (5, 7),   # C\n",
    "          (1, 4)]   # E (last group)\n",
    "\n",
    "credit_per_subject_default = 4\n",
    "last_credit = 1  # credit for last group (E)\n",
    "\n",
    "total_grade_points = 0\n",
    "total_credits = 0\n",
    "\n",
    "for idx, (count, gp) in enumerate(groups):\n",
    "    credit_each = last_credit if idx == len(groups) - 1 else credit_per_subject_default\n",
    "    total_grade_points += count * credit_each * gp\n",
    "    total_credits += count * credit_each\n",
    "\n",
    "# Add the new 3-credit C-grade course\n",
    "total_grade_points += 3 * 7\n",
    "total_credits += 3\n",
    "\n",
    "# Add the 2 new 2-credit B-grade courses (GP = 8)\n",
    "total_grade_points += 2 * 2 * 8  # 2 courses × 2 credits × GP 8\n",
    "total_credits += 2 * 2           # 2 courses × 2 credits\n",
    "\n",
    "cgpa = total_grade_points / total_credits\n",
    "\n",
    "print(\"Total Grade Points:\", total_grade_points)\n",
    "print(\"Total Credits:\", total_credits)\n",
    "print(\"New CGPA: {:.2f}\".format(cgpa))\n"
   ]
  },
  {
   "cell_type": "code",
   "execution_count": 64,
   "id": "8e3db6bc",
   "metadata": {},
   "outputs": [
    {
     "name": "stdout",
     "output_type": "stream",
     "text": [
      "8.385542168674698\n"
     ]
    }
   ],
   "source": [
    "S = 3*10\n",
    "A = 2*9\n",
    "B = 5*8\n",
    "C = 4*7\n",
    "E = 1*4\n",
    "B3 = 1*8\n",
    "p2 = 2*8\n",
    "p102 = 2*10\n",
    "NC = 3*10\n",
    "\n",
    "print((((S + A + B + C + E + NC)*4) + (B3*3)+ ((p2+p102)*2))/((18*4)+(1*3)+(4*2)))"
   ]
  },
  {
   "cell_type": "code",
   "execution_count": 1,
   "id": "740b9536",
   "metadata": {},
   "outputs": [
    {
     "data": {
      "text/plain": [
       "[1, 2, 3, 4]"
      ]
     },
     "execution_count": 1,
     "metadata": {},
     "output_type": "execute_result"
    }
   ],
   "source": [
    "[1, 2] + [3, 4]"
   ]
  },
  {
   "cell_type": "code",
   "execution_count": null,
   "id": "d803999c",
   "metadata": {},
   "outputs": [],
   "source": []
  }
 ],
 "metadata": {
  "kernelspec": {
   "display_name": "Python 3",
   "language": "python",
   "name": "python3"
  },
  "language_info": {
   "codemirror_mode": {
    "name": "ipython",
    "version": 3
   },
   "file_extension": ".py",
   "mimetype": "text/x-python",
   "name": "python",
   "nbconvert_exporter": "python",
   "pygments_lexer": "ipython3",
   "version": "3.11.9"
  }
 },
 "nbformat": 4,
 "nbformat_minor": 5
}
