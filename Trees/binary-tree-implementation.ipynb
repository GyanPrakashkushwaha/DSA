{
 "cells": [
  {
   "cell_type": "code",
   "execution_count": null,
   "id": "5324b893",
   "metadata": {},
   "outputs": [],
   "source": [
    "class Node:\n",
    "    def __init__(self, value):\n",
    "        self.value = value\n",
    "        self.left = None\n",
    "        self.right = None\n",
    "\n",
    "\n",
    "def populate(node):\n",
    "    # Ask for left child\n",
    "    choice = input(f\"Do you want to enter left of {node.value}? (True/False): \").strip().lower()\n",
    "    if choice == \"true\":\n",
    "        value = int(input(f\"Enter the value of the left of {node.value}: \"))\n",
    "        node.left = Node(value)\n",
    "        populate(node.left)\n",
    "\n",
    "    # Ask for right child\n",
    "    choice = input(f\"Do you want to enter right of {node.value}? (True/False): \").strip().lower()\n",
    "    if choice == \"true\":\n",
    "        value = int(input(f\"Enter the value of the right of {node.value}: \"))\n",
    "        node.right = Node(value)\n",
    "        populate(node.right)\n",
    "\n",
    "\n",
    "# Example usage\n",
    "if __name__ == \"__main__\":\n",
    "    root_val = int(input(\"Enter root value: \"))\n",
    "    root = Node(root_val)\n",
    "    populate(root)"
   ]
  },
  {
   "cell_type": "code",
   "execution_count": 8,
   "id": "81d334c0",
   "metadata": {},
   "outputs": [
    {
     "name": "stdout",
     "output_type": "stream",
     "text": [
      "1\n",
      "2\n",
      "4\n",
      "-1\n",
      "-1\n",
      "5\n",
      "-1\n",
      "-1\n",
      "3\n",
      "-1\n",
      "-1\n"
     ]
    }
   ],
   "source": [
    "itr = iter([1, 2, 4, -1, -1, 5, -1, -1, 3, -1, -1])\n",
    "print(next(itr))\n",
    "print(next(itr))\n",
    "print(next(itr))\n",
    "print(next(itr))\n",
    "print(next(itr))\n",
    "print(next(itr))\n",
    "print(next(itr))\n",
    "print(next(itr))\n",
    "print(next(itr))\n",
    "print(next(itr))\n",
    "print(next(itr))"
   ]
  },
  {
   "cell_type": "code",
   "execution_count": null,
   "id": "abfe4464",
   "metadata": {},
   "outputs": [
    {
     "name": "stdout",
     "output_type": "stream",
     "text": [
      "1\n",
      "2\n",
      "4\n",
      "-1\n",
      "-1\n",
      "5\n",
      "-1\n",
      "-1\n",
      "3\n",
      "-1\n",
      "-1\n"
     ]
    }
   ],
   "source": [
    "itr = iter([1, 2, 4, -1, -1, 5, -1, -1, 3, -1, -1])\n",
    "print(next(itr))\n",
    "print(next(itr))\n",
    "print(next(itr))\n",
    "print(next(itr))\n",
    "print(next(itr))\n",
    "print(next(itr))\n",
    "print(next(itr))\n",
    "print(next(itr))\n",
    "print(next(itr))\n",
    "print(next(itr))\n",
    "print(next(itr))"
   ]
  }
 ],
 "metadata": {
  "kernelspec": {
   "display_name": "Python 3",
   "language": "python",
   "name": "python3"
  },
  "language_info": {
   "codemirror_mode": {
    "name": "ipython",
    "version": 3
   },
   "file_extension": ".py",
   "mimetype": "text/x-python",
   "name": "python",
   "nbconvert_exporter": "python",
   "pygments_lexer": "ipython3",
   "version": "3.11.9"
  }
 },
 "nbformat": 4,
 "nbformat_minor": 5
}
