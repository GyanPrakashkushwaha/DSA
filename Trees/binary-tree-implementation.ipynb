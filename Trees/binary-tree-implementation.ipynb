{
 "cells": [
  {
   "cell_type": "code",
   "execution_count": null,
   "id": "5324b893",
   "metadata": {},
   "outputs": [],
   "source": [
    "class Node:\n",
    "    def __init__(self, key):\n",
    "        self.val = key\n",
    "        self.left = None\n",
    "        self.right = None\n",
    "    \n",
    "\n",
    "class Node:\n",
    "    def __init__(self, value):\n",
    "        self.value = value\n",
    "        self.left = None\n",
    "        self.right = None\n",
    "\n",
    "\n",
    "def populate(node):\n",
    "    # Ask for left child\n",
    "    choice = input(f\"Do you want to enter left of {node.value}? (True/False): \").strip().lower()\n",
    "    if choice == \"true\":\n",
    "        value = int(input(f\"Enter the value of the left of {node.value}: \"))\n",
    "        node.left = Node(value)\n",
    "        populate(node.left)\n",
    "\n",
    "    # Ask for right child\n",
    "    choice = input(f\"Do you want to enter right of {node.value}? (True/False): \").strip().lower()\n",
    "    if choice == \"true\":\n",
    "        value = int(input(f\"Enter the value of the right of {node.value}: \"))\n",
    "        node.right = Node(value)\n",
    "        populate(node.right)\n",
    "\n",
    "\n",
    "# Example usage\n",
    "if __name__ == \"__main__\":\n",
    "    root_val = int(input(\"Enter root value: \"))\n",
    "    root = Node(root_val)\n",
    "    populate(root)"
   ]
  }
 ],
 "metadata": {
  "language_info": {
   "name": "python"
  }
 },
 "nbformat": 4,
 "nbformat_minor": 5
}
