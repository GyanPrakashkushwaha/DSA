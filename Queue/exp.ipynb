{
 "cells": [
  {
   "cell_type": "code",
   "execution_count": 11,
   "metadata": {},
   "outputs": [
    {
     "name": "stdout",
     "output_type": "stream",
     "text": [
      "deque([3, 6, 12, 16, 180, 1200])\n"
     ]
    }
   ],
   "source": [
    "from collections import deque\n",
    "\n",
    "ll = deque()\n",
    "ll.append(3)\n",
    "ll.append(6)\n",
    "ll.append(12) # append right\n",
    "ll.append(16)\n",
    "ll.append(180)\n",
    "ll.append(1200)\n",
    "# ll.pop()\n",
    "print(ll)"
   ]
  }
 ],
 "metadata": {
  "kernelspec": {
   "display_name": "Python 3",
   "language": "python",
   "name": "python3"
  },
  "language_info": {
   "codemirror_mode": {
    "name": "ipython",
    "version": 3
   },
   "file_extension": ".py",
   "mimetype": "text/x-python",
   "name": "python",
   "nbconvert_exporter": "python",
   "pygments_lexer": "ipython3",
   "version": "3.11.1"
  }
 },
 "nbformat": 4,
 "nbformat_minor": 2
}
