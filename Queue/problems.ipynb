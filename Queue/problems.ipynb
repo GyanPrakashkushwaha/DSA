{
 "cells": [
  {
   "cell_type": "code",
   "execution_count": 3,
   "metadata": {},
   "outputs": [],
   "source": [
    "def countStudents(students: list[int], sandwiches: list[int]) -> int:\n",
    "    count = [0, 0]\n",
    "    for student in students:\n",
    "        count[student] += 1\n",
    "\n",
    "    for i in range(len(sandwiches)):\n",
    "        if count[sandwiches[i]] == 0:\n",
    "            return len(sandwiches) - i\n",
    "        count[sandwiches[i]] -= 1\n",
    "\n",
    "    return 0"
   ]
  },
  {
   "cell_type": "code",
   "execution_count": null,
   "metadata": {},
   "outputs": [],
   "source": [
    "countStudents"
   ]
  }
 ],
 "metadata": {
  "kernelspec": {
   "display_name": "Python 3",
   "language": "python",
   "name": "python3"
  },
  "language_info": {
   "codemirror_mode": {
    "name": "ipython",
    "version": 3
   },
   "file_extension": ".py",
   "mimetype": "text/x-python",
   "name": "python",
   "nbconvert_exporter": "python",
   "pygments_lexer": "ipython3",
   "version": "3.11.1"
  }
 },
 "nbformat": 4,
 "nbformat_minor": 2
}
