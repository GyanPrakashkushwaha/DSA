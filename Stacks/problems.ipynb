{
 "cells": [
  {
   "cell_type": "code",
   "execution_count": 1,
   "id": "2d171d9e",
   "metadata": {},
   "outputs": [
    {
     "data": {
      "text/plain": [
       "set"
      ]
     },
     "execution_count": 1,
     "metadata": {},
     "output_type": "execute_result"
    }
   ],
   "source": [
    "type({'(', '{', '['})"
   ]
  },
  {
   "cell_type": "code",
   "execution_count": 3,
   "id": "a77aabf5",
   "metadata": {},
   "outputs": [
    {
     "data": {
      "text/plain": [
       "['', '...', 'tbku', '..', 'code', 'google', '..', 'dsa', '.', '', '']"
      ]
     },
     "execution_count": 3,
     "metadata": {},
     "output_type": "execute_result"
    }
   ],
   "source": [
    "path = '/.../tbku/../code/google/../dsa/./'+ '/'\n",
    "path.split('/')"
   ]
  },
  {
   "cell_type": "code",
   "execution_count": null,
   "id": "0171052a",
   "metadata": {},
   "outputs": [],
   "source": [
    "'/.../tbku/../code/google/../dsa/./'+ '/'"
   ]
  },
  {
   "cell_type": "code",
   "execution_count": 4,
   "id": "3ee27401",
   "metadata": {},
   "outputs": [
    {
     "data": {
      "text/plain": [
       "['', '..', '']"
      ]
     },
     "execution_count": 4,
     "metadata": {},
     "output_type": "execute_result"
    }
   ],
   "source": [
    "\"/../\".split('/')"
   ]
  },
  {
   "cell_type": "code",
   "execution_count": 6,
   "id": "73dd8369",
   "metadata": {},
   "outputs": [
    {
     "data": {
      "text/plain": [
       "2"
      ]
     },
     "execution_count": 6,
     "metadata": {},
     "output_type": "execute_result"
    }
   ],
   "source": [
    "int(10/4)"
   ]
  },
  {
   "cell_type": "code",
   "execution_count": 1,
   "id": "31878add",
   "metadata": {},
   "outputs": [
    {
     "data": {
      "text/plain": [
       "0"
      ]
     },
     "execution_count": 1,
     "metadata": {},
     "output_type": "execute_result"
    }
   ],
   "source": [
    "10%10"
   ]
  },
  {
   "cell_type": "code",
   "execution_count": 3,
   "id": "d5527a0a",
   "metadata": {},
   "outputs": [
    {
     "data": {
      "text/plain": [
       "1"
      ]
     },
     "execution_count": 3,
     "metadata": {},
     "output_type": "execute_result"
    }
   ],
   "source": [
    "18//10"
   ]
  },
  {
   "cell_type": "code",
   "execution_count": 7,
   "id": "29084661",
   "metadata": {},
   "outputs": [
    {
     "name": "stdout",
     "output_type": "stream",
     "text": [
      "[3]\n",
      "[3, 4]\n",
      "[3, 4, 5]\n"
     ]
    }
   ],
   "source": [
    "class ST:\n",
    "    def __init__(self) -> None:\n",
    "        self.stack = []\n",
    "    def push(self, v):\n",
    "        self.stack.append(v)\n",
    "    def isempty(self):\n",
    "        return self.stack == []\n",
    "    def pop(self):\n",
    "        v = None\n",
    "        if not self.isempty():\n",
    "            v = self.stack.pop()\n",
    "        return v\n",
    "    \n",
    "def fun(s):\n",
    "    # print(s)\n",
    "    if s:\n",
    "        i = s.pop()\n",
    "        fun(s)\n",
    "        s.append(i)\n",
    "        print(s)\n",
    "\n",
    "# s = ST()\n",
    "fun([3, 4, 5])"
   ]
  },
  {
   "cell_type": "code",
   "execution_count": null,
   "id": "3744f89a",
   "metadata": {},
   "outputs": [],
   "source": []
  }
 ],
 "metadata": {
  "kernelspec": {
   "display_name": "Python 3",
   "language": "python",
   "name": "python3"
  },
  "language_info": {
   "codemirror_mode": {
    "name": "ipython",
    "version": 3
   },
   "file_extension": ".py",
   "mimetype": "text/x-python",
   "name": "python",
   "nbconvert_exporter": "python",
   "pygments_lexer": "ipython3",
   "version": "3.13.7"
  }
 },
 "nbformat": 4,
 "nbformat_minor": 5
}
