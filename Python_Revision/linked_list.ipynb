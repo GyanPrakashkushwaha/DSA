{
 "cells": [
  {
   "cell_type": "code",
   "execution_count": 4,
   "id": "79a3ab53",
   "metadata": {},
   "outputs": [],
   "source": [
    "class Node:\n",
    "    def __init__(self, val):\n",
    "        self.data = val\n",
    "        self.next = None"
   ]
  },
  {
   "cell_type": "code",
   "execution_count": 35,
   "id": "87f42a08",
   "metadata": {},
   "outputs": [],
   "source": [
    "class LinkedList:\n",
    "    def __init__(self):\n",
    "        self.head = None # for empty linked list\n",
    "        self.count = 0\n",
    "    \n",
    "    def insertAtHead(self, val):\n",
    "        new_node = Node(val)\n",
    "        new_node.next = self.head\n",
    "        self.head = new_node\n",
    "        self.count += 1\n",
    "        \n",
    "    def insertAtTail(self, val):\n",
    "        new_node = Node(val)\n",
    "        if not self.head:\n",
    "            self.head = new_node\n",
    "            return\n",
    "        curr_node = self.head\n",
    "        while curr_node.next:\n",
    "            curr_node = curr_node.next\n",
    "        # Now the current node is the last node.\n",
    "        curr_node.next = new_node\n",
    "    \n",
    "    def insertAfter(self, target, val):\n",
    "        curr = self.head\n",
    "        while not curr.data == target:\n",
    "            # print(curr.data, '----------')\n",
    "            curr = curr.next\n",
    "            # print(curr.data, '----------')\n",
    "            \n",
    "        \n",
    "        new_node = Node(val)\n",
    "        new_node.next = curr.next\n",
    "        curr.next = new_node\n",
    "    \n",
    "    def __str__(self):\n",
    "        curr = self.head\n",
    "        result = ''\n",
    "        while curr:\n",
    "            result = result + str(curr.data)+ ' ' + '->'\n",
    "            curr = curr.next\n",
    "        return result[:-2]\n",
    "        \n",
    "    def __len__(self):\n",
    "        return self.count\n",
    "    "
   ]
  },
  {
   "cell_type": "code",
   "execution_count": 36,
   "id": "fad0f143",
   "metadata": {},
   "outputs": [],
   "source": [
    "ll = LinkedList()"
   ]
  },
  {
   "cell_type": "code",
   "execution_count": 37,
   "id": "5e87b91f",
   "metadata": {},
   "outputs": [],
   "source": [
    "ll = LinkedList()\n",
    "ll.insertAtTail(5)\n",
    "ll.insertAtTail(4)\n",
    "ll.insertAtTail(3)\n",
    "ll.insertAtTail(2)\n",
    "ll.insertAfter(4, 30)"
   ]
  },
  {
   "cell_type": "code",
   "execution_count": 38,
   "id": "f8342931",
   "metadata": {},
   "outputs": [
    {
     "name": "stdout",
     "output_type": "stream",
     "text": [
      "5 ->4 ->30 ->3 ->2 \n"
     ]
    }
   ],
   "source": [
    "print(ll)"
   ]
  },
  {
   "cell_type": "code",
   "execution_count": null,
   "id": "d0940b9b",
   "metadata": {},
   "outputs": [],
   "source": []
  }
 ],
 "metadata": {
  "kernelspec": {
   "display_name": "Python 3",
   "language": "python",
   "name": "python3"
  },
  "language_info": {
   "codemirror_mode": {
    "name": "ipython",
    "version": 3
   },
   "file_extension": ".py",
   "mimetype": "text/x-python",
   "name": "python",
   "nbconvert_exporter": "python",
   "pygments_lexer": "ipython3",
   "version": "undefined.undefined.undefined"
  }
 },
 "nbformat": 4,
 "nbformat_minor": 5
}
