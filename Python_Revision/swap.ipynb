{
 "cells": [
  {
   "cell_type": "code",
   "execution_count": 3,
   "metadata": {},
   "outputs": [
    {
     "data": {
      "text/plain": [
       "[1, 9, 23, 3, 18]"
      ]
     },
     "execution_count": 3,
     "metadata": {},
     "output_type": "execute_result"
    }
   ],
   "source": [
    "arr = [1,3,23,9,18]\n",
    "def swap(arr,indx1,indx2):\n",
    "    tem = arr[indx1]\n",
    "    arr[indx1] = arr[indx2]\n",
    "    arr[indx2] = tem\n",
    "    return arr\n",
    "    \n",
    "swap(arr,1,3)\n",
    "    "
   ]
  },
  {
   "cell_type": "code",
   "execution_count": 8,
   "metadata": {},
   "outputs": [
    {
     "data": {
      "text/plain": [
       "[18, 9, 6, 23, 3, 1]"
      ]
     },
     "execution_count": 8,
     "metadata": {},
     "output_type": "execute_result"
    }
   ],
   "source": [
    "arr = [1,3,23,6,9,18]\n",
    "\n",
    "def reverse(arr):\n",
    "    start = 0\n",
    "    end = len(arr) -1\n",
    "    while start < end:\n",
    "        temp = arr[start]\n",
    "        arr[start] = arr[end]\n",
    "        arr[end] = temp\n",
    "        \n",
    "        start +=1\n",
    "        end -=1\n",
    "    \n",
    "    return arr\n",
    "\n",
    "reverse(arr)"
   ]
  },
  {
   "cell_type": "code",
   "execution_count": 9,
   "metadata": {},
   "outputs": [
    {
     "data": {
      "text/plain": [
       "0"
      ]
     },
     "execution_count": 9,
     "metadata": {},
     "output_type": "execute_result"
    }
   ],
   "source": [
    "12%2"
   ]
  },
  {
   "cell_type": "markdown",
   "metadata": {},
   "source": [
    "### Binary Search Code"
   ]
  },
  {
   "cell_type": "code",
   "execution_count": 1,
   "metadata": {},
   "outputs": [],
   "source": [
    "def binary_search(arr,target):\n",
    "    start = 0\n",
    "    end = len(arr) -1\n",
    "    \n",
    "    while start <= end:\n",
    "        mid = start + (end -start) //2\n",
    "        if arr[mid] == target:\n",
    "            return mid\n",
    "        if arr[mid] < target:\n",
    "            start = mid+1\n",
    "        else:\n",
    "            end = mid -1\n",
    "    \n",
    "    return -1\n",
    "\n"
   ]
  },
  {
   "cell_type": "code",
   "execution_count": null,
   "metadata": {},
   "outputs": [],
   "source": [
    "def orderAgnostic_binary_search(arr,target):\n",
    "    start = 0\n",
    "    end = len(arr) -1\n",
    "    isAsc = arr[start] < arr[end]\n",
    "    while start <= end:\n",
    "        mid = start + (end -start) //2\n",
    "        if arr[mid] == target:\n",
    "            return mid\n",
    "        if isAsc:\n",
    "            if arr[mid] < target:\n",
    "                start = mid+1\n",
    "            else:\n",
    "                end = mid -1\n",
    "        else:\n",
    "            if arr[mid] > target:\n",
    "                start = mid+1\n",
    "            else:\n",
    "                end = mid -1\n",
    "            \n",
    "    \n",
    "    return -1\n",
    "\n"
   ]
  },
  {
   "cell_type": "code",
   "execution_count": 3,
   "metadata": {},
   "outputs": [
    {
     "data": {
      "text/plain": [
       "'ldkflafja'"
      ]
     },
     "execution_count": 3,
     "metadata": {},
     "output_type": "execute_result"
    }
   ],
   "source": [
    "input('helo')\n"
   ]
  },
  {
   "cell_type": "markdown",
   "metadata": {},
   "source": [
    "## Infinite Array Binary Search\n",
    "- we are not allowed to take lenght of the array."
   ]
  },
  {
   "cell_type": "code",
   "execution_count": null,
   "metadata": {},
   "outputs": [
    {
     "ename": "IndexError",
     "evalue": "list index out of range",
     "output_type": "error",
     "traceback": [
      "\u001b[1;31m---------------------------------------------------------------------------\u001b[0m",
      "\u001b[1;31mIndexError\u001b[0m                                Traceback (most recent call last)",
      "Cell \u001b[1;32mIn[4], line 31\u001b[0m\n\u001b[0;32m     27\u001b[0m             start \u001b[38;5;241m=\u001b[39m mid\u001b[38;5;241m+\u001b[39m\u001b[38;5;241m1\u001b[39m\n\u001b[0;32m     29\u001b[0m     \u001b[38;5;28;01mreturn\u001b[39;00m \u001b[38;5;241m-\u001b[39m\u001b[38;5;241m1\u001b[39m\n\u001b[1;32m---> 31\u001b[0m \u001b[43minfinite_binary_search\u001b[49m\u001b[43m(\u001b[49m\u001b[43marr\u001b[49m\u001b[43m,\u001b[49m\u001b[43mtarget\u001b[49m\u001b[43m)\u001b[49m\n",
      "Cell \u001b[1;32mIn[4], line 10\u001b[0m, in \u001b[0;36minfinite_binary_search\u001b[1;34m(arr, target)\u001b[0m\n\u001b[0;32m      8\u001b[0m start \u001b[38;5;241m=\u001b[39m \u001b[38;5;241m0\u001b[39m\n\u001b[0;32m      9\u001b[0m end \u001b[38;5;241m=\u001b[39m \u001b[38;5;241m1\u001b[39m\n\u001b[1;32m---> 10\u001b[0m \u001b[38;5;28;01mwhile\u001b[39;00m target \u001b[38;5;241m>\u001b[39m \u001b[43marr\u001b[49m\u001b[43m[\u001b[49m\u001b[43mend\u001b[49m\u001b[43m]\u001b[49m:\n\u001b[0;32m     11\u001b[0m     \u001b[38;5;66;03m# the answer is lying in the middle of the window.\u001b[39;00m\n\u001b[0;32m     12\u001b[0m     temp \u001b[38;5;241m=\u001b[39m start\n\u001b[0;32m     13\u001b[0m     end \u001b[38;5;241m=\u001b[39m end \u001b[38;5;241m+\u001b[39m (end \u001b[38;5;241m-\u001b[39m start \u001b[38;5;241m+\u001b[39m\u001b[38;5;241m1\u001b[39m)\u001b[38;5;241m*\u001b[39m\u001b[38;5;241m2\u001b[39m\n",
      "\u001b[1;31mIndexError\u001b[0m: list index out of range"
     ]
    }
   ],
   "source": [
    "# I have to double the size of the array.\n",
    "arr = [3, 5, 7, 9, 10, 90, 100, 130, 140, 160, 170] \n",
    "target = 160\n",
    "\n",
    "def infinite_binary_search(arr: list[int], target: int):\n",
    "    # Search for the range\n",
    "    # we will start by searching the range from the window size of 2\n",
    "    start = 0\n",
    "    end = 1\n",
    "     \n",
    "    while target > arr[end]:\n",
    "        # the answer is lying in the middle of the window.\n",
    "        temp = start\n",
    "        end = end + (end - start +1)*2\n",
    "        start = temp\n",
    "    \n",
    "    return binary_search(arr,target,start,end)\n",
    "        \n",
    "\n",
    "def binary_search(arr: list[int], target: int, start: int, end: int):\n",
    "    while start <= end:\n",
    "        mid = start + (end - start)//2\n",
    "        if arr[mid] == target:\n",
    "            return mid\n",
    "        elif target < arr[mid]:\n",
    "            end = mid -1\n",
    "        else:\n",
    "            start = mid+1\n",
    "    \n",
    "    return -1\n",
    "\n",
    "infinite_binary_search(arr,target)\n"
   ]
  }
 ],
 "metadata": {
  "kernelspec": {
   "display_name": "Python 3",
   "language": "python",
   "name": "python3"
  },
  "language_info": {
   "codemirror_mode": {
    "name": "ipython",
    "version": 3
   },
   "file_extension": ".py",
   "mimetype": "text/x-python",
   "name": "python",
   "nbconvert_exporter": "python",
   "pygments_lexer": "ipython3",
   "version": "3.11.1"
  }
 },
 "nbformat": 4,
 "nbformat_minor": 2
}
