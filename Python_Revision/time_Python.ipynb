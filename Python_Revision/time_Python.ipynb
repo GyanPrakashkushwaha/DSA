{
 "cells": [
  {
   "cell_type": "code",
   "execution_count": 57,
   "metadata": {},
   "outputs": [
    {
     "data": {
      "text/plain": [
       "26057.6765615"
      ]
     },
     "execution_count": 57,
     "metadata": {},
     "output_type": "execute_result"
    }
   ],
   "source": [
    "import time\n",
    "time.perf_counter()"
   ]
  },
  {
   "cell_type": "code",
   "execution_count": 69,
   "metadata": {},
   "outputs": [],
   "source": [
    "class TimeError(Exception):\n",
    "    \"\"\"A custom exception used to report errors in use of timer class\"\"\"\n",
    "    \n",
    "class Timer:\n",
    "    def __init__(self):\n",
    "        self._start_time = None\n",
    "        self._elasped_time = None\n",
    "    \n",
    "    def start(self):\n",
    "        # if self._start_time is not None:\n",
    "        #     raise TimeError(\"Timer is running. Use .stop()\")\n",
    "        self._start_time = time.perf_counter()\n",
    "    \n",
    "    def stop(self):\n",
    "        # if self._start_time is None:\n",
    "        #     raise TimeError(\"timer is not running. Use.start()\")\n",
    "        self._elasped_time = time.perf_counter() - self._start_time\n",
    "        # self._start_time = None\n",
    "    \n",
    "    def elasped(self):\n",
    "        return self._elasped_time\n",
    "    \n",
    "    def __str__(self):\n",
    "        return str(self._elasped_time)"
   ]
  },
  {
   "cell_type": "code",
   "execution_count": 70,
   "metadata": {},
   "outputs": [
    {
     "name": "stdout",
     "output_type": "stream",
     "text": [
      "4 0.009041100001923041\n",
      "5 0.18202739999833284\n",
      "6 0.6291622999997344\n",
      "7 4.346384399999806\n",
      "8 55.72038260000045\n"
     ]
    },
    {
     "ename": "KeyboardInterrupt",
     "evalue": "",
     "output_type": "error",
     "traceback": [
      "\u001b[1;31m---------------------------------------------------------------------------\u001b[0m",
      "\u001b[1;31mKeyboardInterrupt\u001b[0m                         Traceback (most recent call last)",
      "Cell \u001b[1;32mIn[70], line 5\u001b[0m\n\u001b[0;32m      3\u001b[0m t\u001b[38;5;241m.\u001b[39mstart()\n\u001b[0;32m      4\u001b[0m \u001b[38;5;28;01mfor\u001b[39;00m i \u001b[38;5;129;01min\u001b[39;00m \u001b[38;5;28mrange\u001b[39m(\u001b[38;5;241m10\u001b[39m\u001b[38;5;241m*\u001b[39m\u001b[38;5;241m*\u001b[39mj):\n\u001b[1;32m----> 5\u001b[0m     t\u001b[38;5;241m.\u001b[39mstop()\n\u001b[0;32m      7\u001b[0m \u001b[38;5;28mprint\u001b[39m(j,t)\n",
      "\u001b[1;31mKeyboardInterrupt\u001b[0m: "
     ]
    }
   ],
   "source": [
    "t = Timer()\n",
    "for j in range(4,12):\n",
    "    t.start()\n",
    "    for i in range(10**j):\n",
    "        t.stop()\n",
    "        \n",
    "    print(j,t)\n",
    "    "
   ]
  },
  {
   "cell_type": "code",
   "execution_count": null,
   "metadata": {},
   "outputs": [],
   "source": []
  }
 ],
 "metadata": {
  "kernelspec": {
   "display_name": "Python 3",
   "language": "python",
   "name": "python3"
  },
  "language_info": {
   "codemirror_mode": {
    "name": "ipython",
    "version": 3
   },
   "file_extension": ".py",
   "mimetype": "text/x-python",
   "name": "python",
   "nbconvert_exporter": "python",
   "pygments_lexer": "ipython3",
   "version": "3.11.1"
  }
 },
 "nbformat": 4,
 "nbformat_minor": 2
}
