{
 "cells": [
  {
   "cell_type": "code",
   "execution_count": null,
   "metadata": {},
   "outputs": [],
   "source": []
  },
  {
   "cell_type": "code",
   "execution_count": 1,
   "metadata": {},
   "outputs": [
    {
     "data": {
      "text/plain": [
       "6"
      ]
     },
     "execution_count": 1,
     "metadata": {},
     "output_type": "execute_result"
    }
   ],
   "source": [
    "def gcd(m,n):\n",
    "    for i in range(min(m,n),1,-1):\n",
    "        if m%i == 0 and n%i == 0:\n",
    "            mf = i\n",
    "            return mf\n",
    "\n",
    "gcd(12,18)"
   ]
  },
  {
   "cell_type": "code",
   "execution_count": 3,
   "metadata": {},
   "outputs": [
    {
     "name": "stdout",
     "output_type": "stream",
     "text": [
      "the given number 13 is prime? True\n"
     ]
    }
   ],
   "source": [
    "def is_prime(num):\n",
    "    for i in range(2,num):\n",
    "        if num % i == 0:\n",
    "            return False\n",
    "    \n",
    "    return True\n",
    "given_num = 13\n",
    "\n",
    "print(f'the given number {given_num} is prime? {is_prime(given_num)}')"
   ]
  },
  {
   "cell_type": "code",
   "execution_count": 4,
   "metadata": {},
   "outputs": [
    {
     "name": "stdout",
     "output_type": "stream",
     "text": [
      "the given number 13 is prime? True\n"
     ]
    }
   ],
   "source": [
    "def is_prime(num):\n",
    "    i = 2\n",
    "    while i < num:\n",
    "        if num % i == 0: \n",
    "            return False\n",
    "        i+=1\n",
    "    return True\n",
    "given_num = 13\n",
    "\n",
    "print(f'the given number {given_num} is prime? {is_prime(given_num)}')"
   ]
  },
  {
   "cell_type": "code",
   "execution_count": 3,
   "metadata": {},
   "outputs": [],
   "source": [
    "def gcd_eulidian(m,n):\n",
    "    a = max(m,n)\n",
    "    b = min(m,n)\n",
    "    while a % b != 0:\n",
    "        if a % b == 0:\n",
    "            return b\n",
    "        else:\n",
    "            a , b = b, a%b\n",
    "\n",
    "gcd_eulidian(24,18)  "
   ]
  },
  {
   "cell_type": "code",
   "execution_count": 7,
   "metadata": {},
   "outputs": [
    {
     "data": {
      "text/plain": [
       "6"
      ]
     },
     "execution_count": 7,
     "metadata": {},
     "output_type": "execute_result"
    }
   ],
   "source": [
    "def gcd_eulidian(m,n):\n",
    "    while n:\n",
    "        m , n = n , m%n\n",
    "    return m\n",
    "\n",
    "gcd_eulidian(18,24)"
   ]
  },
  {
   "cell_type": "code",
   "execution_count": 11,
   "metadata": {},
   "outputs": [
    {
     "data": {
      "text/plain": [
       "18"
      ]
     },
     "execution_count": 11,
     "metadata": {},
     "output_type": "execute_result"
    }
   ],
   "source": [
    "18%24"
   ]
  },
  {
   "cell_type": "code",
   "execution_count": 6,
   "metadata": {},
   "outputs": [
    {
     "data": {
      "text/plain": [
       "342"
      ]
     },
     "execution_count": 6,
     "metadata": {},
     "output_type": "execute_result"
    }
   ],
   "source": [
    "word = \"\"\"\n",
    "Details about the methods:\n",
    "The Approaches:\n",
    "For customer acquisition: I will have to analyse the types of customers he has, Does he have More price conscious customers or more quality conscious customers or both. If he can somehow identify the customers based on their preferences. He will be able to make credibility in the market of selling pure quality milk and can have more customers. \n",
    "Transportation cost: I will try to look at the possible ways where he can get milk from his nearby milk sellers or is it possible to buy buffaloes and sell his own milk(will that give profit or not).\n",
    "\n",
    "Intended data collection:\n",
    "Rohit bhaiya said that he has a dairy(Accountancy book) in which he has written all the buyers and sellers names with the quantity of milk everyday. The quantity is written in liters or milliliters by him. I would be asking for seller's village address in order to address the transportation cost.\n",
    "To segment the customers I would be asking him for labeling customers in categories 1) average quality milk, 2) low quality milk. So that I can find the category of customers who are willing to pay more for pure quality milk.\n",
    "\n",
    "Analysis Tools:\n",
    "He has maintained his complete data on a notebook I would be using his data from Jan 2022. It would be a really very tedious task to put the complete(25 tables) data onto the computer. I would be using excel for putting data because it is easier to put new data and can save easily and feed again where stopped. The main reason behind using excel for putting the complete data is that it will take approx 1 week. Once the complete data has been put on to my computer I will use Python(Pandas) to clean my data because It’s efficient and powerful for data manipulation. After cleaning each table I would be using SQL for doing basic analysis and combining the complete data. Once the data is combined I would be using excel pivot tables for quick and fast data analysis.\n",
    "\n",
    "\"\"\"\n",
    "len(word.split())"
   ]
  },
  {
   "cell_type": "code",
   "execution_count": 2,
   "metadata": {},
   "outputs": [
    {
     "data": {
      "text/plain": [
       "[2, 3, 4]"
      ]
     },
     "execution_count": 2,
     "metadata": {},
     "output_type": "execute_result"
    }
   ],
   "source": [
    "nums = [3,2,4]\n",
    "sorted(nums)"
   ]
  },
  {
   "cell_type": "code",
   "execution_count": 3,
   "metadata": {},
   "outputs": [
    {
     "data": {
      "text/plain": [
       "[(0, 3), (1, 2), (2, 4)]"
      ]
     },
     "execution_count": 3,
     "metadata": {},
     "output_type": "execute_result"
    }
   ],
   "source": [
    "import enum\n",
    "\n",
    "\n",
    "nums = [3,2,4]\n",
    "nums = list(enumerate(nums))\n",
    "nums"
   ]
  },
  {
   "cell_type": "code",
   "execution_count": 6,
   "metadata": {},
   "outputs": [
    {
     "data": {
      "text/plain": [
       "3"
      ]
     },
     "execution_count": 6,
     "metadata": {},
     "output_type": "execute_result"
    }
   ],
   "source": [
    "nums[0][1]"
   ]
  },
  {
   "cell_type": "code",
   "execution_count": 9,
   "metadata": {},
   "outputs": [
    {
     "data": {
      "text/plain": [
       "[(1, 2), (0, 3), (2, 4)]"
      ]
     },
     "execution_count": 9,
     "metadata": {},
     "output_type": "execute_result"
    }
   ],
   "source": [
    "me = nums.sort(key = lambda x: x[1])\n",
    "nums"
   ]
  },
  {
   "cell_type": "code",
   "execution_count": 10,
   "metadata": {},
   "outputs": [],
   "source": [
    "me"
   ]
  },
  {
   "cell_type": "code",
   "execution_count": 11,
   "metadata": {},
   "outputs": [
    {
     "data": {
      "text/plain": [
       "6"
      ]
     },
     "execution_count": 11,
     "metadata": {},
     "output_type": "execute_result"
    }
   ],
   "source": [
    "i, j = 0, 2\n",
    "nums[i][1] + nums[j][1]"
   ]
  },
  {
   "cell_type": "code",
   "execution_count": 12,
   "metadata": {},
   "outputs": [
    {
     "data": {
      "text/plain": [
       "[(1, 2), (0, 3), (2, 4)]"
      ]
     },
     "execution_count": 12,
     "metadata": {},
     "output_type": "execute_result"
    }
   ],
   "source": [
    "nums"
   ]
  },
  {
   "cell_type": "code",
   "execution_count": 17,
   "metadata": {},
   "outputs": [
    {
     "name": "stdout",
     "output_type": "stream",
     "text": [
      "17\n",
      "13\n",
      "9\n"
     ]
    },
    {
     "data": {
      "text/plain": [
       "[0, 1]"
      ]
     },
     "execution_count": 17,
     "metadata": {},
     "output_type": "execute_result"
    }
   ],
   "source": [
    "from typing import List\n",
    "class Solution:\n",
    "    def twoSum(self, nums: List[int], target: int) -> List[int]:\n",
    "        nums = list(enumerate(nums))\n",
    "        nums.sort(key = lambda x: x[1])\n",
    "        i, j = 0, len(nums)-1\n",
    "\n",
    "        while i < j:\n",
    "            print(nums[i][1] + nums[j][1])\n",
    "            if nums[i][1] + nums[j][1] == target:\n",
    "                return [nums[i][0], nums[j][0]]\n",
    "            elif nums[i][1] + nums[j][1] > target:\n",
    "                j -= 1\n",
    "            else: \n",
    "                i += 1\n",
    "\n",
    "        \n",
    "        return \"Result not found..\"\n",
    "    \n",
    "obj = Solution()\n",
    "obj.twoSum([2,7,11,15], 9)"
   ]
  },
  {
   "cell_type": "code",
   "execution_count": 10,
   "metadata": {},
   "outputs": [
    {
     "name": "stdout",
     "output_type": "stream",
     "text": [
      "['1']\n"
     ]
    }
   ],
   "source": [
    "stack = ['1', '2']\n",
    "\n",
    "# stack.append('3')\n",
    "stack.pop()\n",
    "print(stack)"
   ]
  },
  {
   "cell_type": "code",
   "execution_count": 11,
   "metadata": {},
   "outputs": [
    {
     "data": {
      "text/plain": [
       "'1'"
      ]
     },
     "execution_count": 11,
     "metadata": {},
     "output_type": "execute_result"
    }
   ],
   "source": [
    "stack.pop()"
   ]
  },
  {
   "cell_type": "code",
   "execution_count": 16,
   "metadata": {},
   "outputs": [
    {
     "name": "stdout",
     "output_type": "stream",
     "text": [
      "yesssss\n"
     ]
    }
   ],
   "source": [
    "# stack.pop()\n",
    "if not stack:\n",
    "    print('yesssss')"
   ]
  },
  {
   "cell_type": "code",
   "execution_count": 17,
   "metadata": {},
   "outputs": [
    {
     "name": "stdout",
     "output_type": "stream",
     "text": [
      "(\n",
      ")\n"
     ]
    }
   ],
   "source": [
    "for ele in \"()\":\n",
    "    print(ele)"
   ]
  },
  {
   "cell_type": "code",
   "execution_count": 21,
   "metadata": {},
   "outputs": [
    {
     "name": "stdout",
     "output_type": "stream",
     "text": [
      "[]\n",
      "--------------------\n",
      "[]\n"
     ]
    },
    {
     "data": {
      "text/plain": [
       "False"
      ]
     },
     "execution_count": 21,
     "metadata": {},
     "output_type": "execute_result"
    }
   ],
   "source": [
    "class Solution:\n",
    "    def isValid(self, s: str) -> bool:\n",
    "        matches = {\")\": \"(\", \"}\": \"{\", \"]\": \"[\"}\n",
    "        stack = []\n",
    "        print(stack)\n",
    "        for ele in s:\n",
    "            # Opening Bracket\n",
    "            if ele in matches.values():\n",
    "                stack.append(ele)\n",
    "            else:\n",
    "                print('--------------------')\n",
    "                # print(matches[ele])\n",
    "                print(stack[:-1])\n",
    "                if matches[ele] == stack[:-1]:\n",
    "                    stack.pop()\n",
    "                # else:\n",
    "                #     return False\n",
    "\n",
    "        if not stack:\n",
    "            return True\n",
    "\n",
    "        return False\n",
    "\n",
    "\n",
    "soln = Solution()\n",
    "soln.isValid('()')"
   ]
  },
  {
   "cell_type": "code",
   "execution_count": 23,
   "metadata": {},
   "outputs": [
    {
     "data": {
      "text/plain": [
       "'3'"
      ]
     },
     "execution_count": 23,
     "metadata": {},
     "output_type": "execute_result"
    }
   ],
   "source": [
    "stack = ['2', '3']\n",
    "stack[-1]"
   ]
  },
  {
   "cell_type": "code",
   "execution_count": null,
   "metadata": {},
   "outputs": [],
   "source": [
    "\n",
    "def isValid(s: str) -> bool:\n",
    "    bracket_map = {')': '(', '}': '{', ']': '['}\n",
    "    stack = []\n",
    "\n",
    "    for char in s:\n",
    "        if char in bracket_map.values():\n",
    "            stack.append(char)\n",
    "        elif char in bracket_map:\n",
    "            if not stack or stack[-1] != bracket_map[char]:\n",
    "                return False\n",
    "            stack.pop()\n",
    "        \n",
    "    return not stack\n",
    "\n",
    "\n"
   ]
  },
  {
   "cell_type": "code",
   "execution_count": null,
   "metadata": {},
   "outputs": [],
   "source": [
    "\n",
    "def isValid(self, s: str) -> bool:\n",
    "    def helper(s, stack):\n",
    "        if not s: # Base case\n",
    "            return not stack  \n",
    "\n",
    "        char = s[0]\n",
    "        bracket_map = {')': '(', '}': '{', ']': '['}\n",
    "        if char in bracket_map.values():  # Opening brackets\n",
    "            return helper(s[1:], stack + [char])\n",
    "        elif char in bracket_map:  # Closing brackets\n",
    "            if not stack or stack[-1] != bracket_map[char]:\n",
    "                return False\n",
    "            return helper(s[1:], stack[:-1])\n",
    "        else:\n",
    "            # Invalid character (not expected per the original problem), optionally handle\n",
    "            return helper(s[1:], stack)\n",
    "\n",
    "    return helper(s, [])\n"
   ]
  },
  {
   "cell_type": "code",
   "execution_count": null,
   "metadata": {},
   "outputs": [],
   "source": [
    "def print_ll()"
   ]
  },
  {
   "cell_type": "code",
   "execution_count": 6,
   "metadata": {},
   "outputs": [],
   "source": [
    "class Node:\n",
    "    def __init__(self, data):\n",
    "        self.data = data\n",
    "        self.next = None\n",
    "\n",
    "class LinkedList:\n",
    "    def __init__(self):\n",
    "        self.head = None\n",
    "    \n",
    "    def insertAtEnd(self, data):\n",
    "        new_node = Node(data)\n",
    "        if self.head is None:\n",
    "            self.head = new_node\n",
    "            return\n",
    "        \n",
    "        curr_node = self.head\n",
    "        while curr_node.next:\n",
    "            curr_node = curr_node.next\n",
    "            \n",
    "        curr_node.next = new_node\n",
    "    \n",
    "       # Print the linked list\n",
    "    def printLL(self):\n",
    "        current_node = self.head\n",
    "        while current_node:\n",
    "            print(current_node.data)\n",
    "            current_node = current_node.next"
   ]
  },
  {
   "cell_type": "code",
   "execution_count": null,
   "metadata": {},
   "outputs": [],
   "source": [
    "llist = LinkedList()\n",
    "llist.insertAtEnd(1)\n",
    "\n"
   ]
  },
  {
   "cell_type": "code",
   "execution_count": 25,
   "metadata": {},
   "outputs": [],
   "source": [
    "def track_changes(func):\n",
    "    def wrapper(self, *args, **kwargs):\n",
    "        print(f\"Before {func.__name__}: {self}\")\n",
    "        result = func(self, *args, **kwargs)\n",
    "        print(f\"After {func.__name__}: {self}\\n\")\n",
    "        return result\n",
    "    return wrapper\n",
    "\n",
    "class Node:\n",
    "    def __init__(self, data):\n",
    "        self.data = data\n",
    "        self.next = None\n",
    "    \n",
    "    def __repr__(self):\n",
    "        return f\"Node({self.data})\"\n",
    "\n",
    "class LinkedList:\n",
    "    def __init__(self):\n",
    "        self.head = None\n",
    "\n",
    "    def __str__(self):\n",
    "        vals = []\n",
    "        current = self.head\n",
    "        while current:\n",
    "            vals.append(str(current.data))\n",
    "            current = current.next\n",
    "        return \" -> \".join(vals) if vals else \"Empty\"\n",
    "\n",
    "    @track_changes\n",
    "    def insertAtEnd(self, data):\n",
    "        new_node = Node(data)\n",
    "        if not self.head:\n",
    "            self.head = new_node\n",
    "            return\n",
    "        current = self.head\n",
    "        while current.next:\n",
    "            current = current.next\n",
    "        current.next = new_node\n",
    "\n",
    "    @track_changes\n",
    "    def deleteValue(self, value):\n",
    "        if not self.head:\n",
    "            return\n",
    "        if self.head.data == value:\n",
    "            self.head = self.head.next\n",
    "            return\n",
    "        current = self.head\n",
    "        while current.next and current.next.data != value:\n",
    "            current = current.next\n",
    "        if current.next:\n",
    "            current.next = current.next.next\n"
   ]
  },
  {
   "cell_type": "code",
   "execution_count": 19,
   "metadata": {},
   "outputs": [],
   "source": [
    "llist = LinkedList()"
   ]
  },
  {
   "cell_type": "code",
   "execution_count": 20,
   "metadata": {},
   "outputs": [
    {
     "name": "stdout",
     "output_type": "stream",
     "text": [
      "Before insertAtEnd: Empty\n",
      "After insertAtEnd: 1\n",
      "\n",
      "Before insertAtEnd: 1\n",
      "After insertAtEnd: 1 -> 2\n",
      "\n"
     ]
    }
   ],
   "source": [
    "llist.insertAtEnd(1)\n",
    "llist.insertAtEnd(2)"
   ]
  },
  {
   "cell_type": "code",
   "execution_count": 21,
   "metadata": {},
   "outputs": [
    {
     "name": "stdout",
     "output_type": "stream",
     "text": [
      "Before insertAtEnd: 1 -> 2\n",
      "After insertAtEnd: 1 -> 2 -> 3\n",
      "\n"
     ]
    }
   ],
   "source": [
    "llist.insertAtEnd(3)"
   ]
  },
  {
   "cell_type": "code",
   "execution_count": 27,
   "metadata": {},
   "outputs": [
    {
     "data": {
      "text/plain": [
       "<__main__.Node at 0x22ecfe47390>"
      ]
     },
     "execution_count": 27,
     "metadata": {},
     "output_type": "execute_result"
    }
   ],
   "source": [
    "llist.head"
   ]
  },
  {
   "cell_type": "code",
   "execution_count": 28,
   "metadata": {},
   "outputs": [
    {
     "ename": "AttributeError",
     "evalue": "'LinkedList' object has no attribute 'data'",
     "output_type": "error",
     "traceback": [
      "\u001b[1;31m---------------------------------------------------------------------------\u001b[0m",
      "\u001b[1;31mAttributeError\u001b[0m                            Traceback (most recent call last)",
      "Cell \u001b[1;32mIn[28], line 1\u001b[0m\n\u001b[1;32m----> 1\u001b[0m \u001b[38;5;28mprint\u001b[39m(\u001b[43mllist\u001b[49m\u001b[38;5;241;43m.\u001b[39;49m\u001b[43mdata\u001b[49m)\n",
      "\u001b[1;31mAttributeError\u001b[0m: 'LinkedList' object has no attribute 'data'"
     ]
    }
   ],
   "source": [
    "print(llist.data)"
   ]
  },
  {
   "cell_type": "code",
   "execution_count": null,
   "metadata": {},
   "outputs": [],
   "source": [
    "# class Node:\n",
    "#     def __init__(self, data):\n",
    "#         self.data = data\n",
    "#         self.next = None\n",
    "        \n",
    "# class LinkedList:\n",
    "#         def __init__(self):\n",
    "#         self.head = None"
   ]
  },
  {
   "cell_type": "code",
   "execution_count": null,
   "metadata": {},
   "outputs": [],
   "source": []
  },
  {
   "cell_type": "code",
   "execution_count": null,
   "metadata": {},
   "outputs": [],
   "source": []
  }
 ],
 "metadata": {
  "kernelspec": {
   "display_name": "Python 3",
   "language": "python",
   "name": "python3"
  },
  "language_info": {
   "codemirror_mode": {
    "name": "ipython",
    "version": 3
   },
   "file_extension": ".py",
   "mimetype": "text/x-python",
   "name": "python",
   "nbconvert_exporter": "python",
   "pygments_lexer": "ipython3",
   "version": "3.11.1"
  }
 },
 "nbformat": 4,
 "nbformat_minor": 2
}
