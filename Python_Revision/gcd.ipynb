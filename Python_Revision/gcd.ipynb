{
 "cells": [
  {
   "cell_type": "code",
   "execution_count": null,
   "metadata": {},
   "outputs": [],
   "source": []
  },
  {
   "cell_type": "code",
   "execution_count": 1,
   "metadata": {},
   "outputs": [
    {
     "data": {
      "text/plain": [
       "6"
      ]
     },
     "execution_count": 1,
     "metadata": {},
     "output_type": "execute_result"
    }
   ],
   "source": [
    "def gcd(m,n):\n",
    "    for i in range(min(m,n),1,-1):\n",
    "        if m%i == 0 and n%i == 0:\n",
    "            mf = i\n",
    "            return mf\n",
    "\n",
    "gcd(12,18)"
   ]
  },
  {
   "cell_type": "code",
   "execution_count": 3,
   "metadata": {},
   "outputs": [
    {
     "name": "stdout",
     "output_type": "stream",
     "text": [
      "the given number 13 is prime? True\n"
     ]
    }
   ],
   "source": [
    "def is_prime(num):\n",
    "    for i in range(2,num):\n",
    "        if num % i == 0:\n",
    "            return False\n",
    "    \n",
    "    return True\n",
    "given_num = 13\n",
    "\n",
    "print(f'the given number {given_num} is prime? {is_prime(given_num)}')"
   ]
  },
  {
   "cell_type": "code",
   "execution_count": 4,
   "metadata": {},
   "outputs": [
    {
     "name": "stdout",
     "output_type": "stream",
     "text": [
      "the given number 13 is prime? True\n"
     ]
    }
   ],
   "source": [
    "def is_prime(num):\n",
    "    i = 2\n",
    "    while i < num:\n",
    "        if num % i == 0: \n",
    "            return False\n",
    "        i+=1\n",
    "    return True\n",
    "given_num = 13\n",
    "\n",
    "print(f'the given number {given_num} is prime? {is_prime(given_num)}')"
   ]
  },
  {
   "cell_type": "code",
   "execution_count": 3,
   "metadata": {},
   "outputs": [],
   "source": [
    "def gcd_eulidian(m,n):\n",
    "    a = max(m,n)\n",
    "    b = min(m,n)\n",
    "    while a % b != 0:\n",
    "        if a % b == 0:\n",
    "            return b\n",
    "        else:\n",
    "            a , b = b, a%b\n",
    "\n",
    "gcd_eulidian(24,18)  "
   ]
  },
  {
   "cell_type": "code",
   "execution_count": 7,
   "metadata": {},
   "outputs": [
    {
     "data": {
      "text/plain": [
       "6"
      ]
     },
     "execution_count": 7,
     "metadata": {},
     "output_type": "execute_result"
    }
   ],
   "source": [
    "def gcd_eulidian(m,n):\n",
    "    while n:\n",
    "        m , n = n , m%n\n",
    "    return m\n",
    "\n",
    "gcd_eulidian(18,24)"
   ]
  },
  {
   "cell_type": "code",
   "execution_count": 11,
   "metadata": {},
   "outputs": [
    {
     "data": {
      "text/plain": [
       "18"
      ]
     },
     "execution_count": 11,
     "metadata": {},
     "output_type": "execute_result"
    }
   ],
   "source": [
    "18%24"
   ]
  }
 ],
 "metadata": {
  "kernelspec": {
   "display_name": "Python 3",
   "language": "python",
   "name": "python3"
  },
  "language_info": {
   "codemirror_mode": {
    "name": "ipython",
    "version": 3
   },
   "file_extension": ".py",
   "mimetype": "text/x-python",
   "name": "python",
   "nbconvert_exporter": "python",
   "pygments_lexer": "ipython3",
   "version": "3.11.1"
  }
 },
 "nbformat": 4,
 "nbformat_minor": 2
}
