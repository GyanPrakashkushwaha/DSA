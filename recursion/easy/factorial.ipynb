{
 "cells": [
  {
   "cell_type": "code",
   "execution_count": null,
   "metadata": {},
   "outputs": [],
   "source": [
    "def factorial(n):\n",
    "    # base case ,  I know the factorial of 2\n",
    "    if n <= 1:\n",
    "        return 1\n",
    "    \n",
    "    return n * factorial(n-1)\n",
    "\n",
    "factorial(4)"
   ]
  },
  {
   "cell_type": "markdown",
   "metadata": {},
   "source": [
    "### Sum of Digits"
   ]
  },
  {
   "cell_type": "code",
   "execution_count": null,
   "metadata": {},
   "outputs": [],
   "source": [
    "def sum_of_digits(digit):\n",
    "    \n",
    "    if len(digit) == 1:\n",
    "        return int(digit[0])\n",
    "    \n",
    "    return int(digit[0]) + sum_of_digits(digit[1:])\n",
    "\n",
    "arr = str(1342)\n",
    "sum_of_digits(arr)\n",
    "# arr[1:]"
   ]
  },
  {
   "cell_type": "markdown",
   "metadata": {},
   "source": [
    "### - Other Method"
   ]
  },
  {
   "cell_type": "code",
   "execution_count": null,
   "metadata": {},
   "outputs": [],
   "source": [
    "def sum_of_digits(digit):\n",
    "    \n",
    "    if digit == 0:\n",
    "        return 0\n",
    "    \n",
    "    return digit % 10 + sum_of_digits(digit//10)\n",
    "\n",
    "arr = 1342\n",
    "sum_of_digits(arr)\n",
    "# arr[1:]"
   ]
  },
  {
   "cell_type": "code",
   "execution_count": null,
   "metadata": {},
   "outputs": [],
   "source": [
    "1//10"
   ]
  },
  {
   "cell_type": "markdown",
   "metadata": {},
   "source": [
    "### product of the digits"
   ]
  },
  {
   "cell_type": "code",
   "execution_count": null,
   "metadata": {},
   "outputs": [],
   "source": [
    "def product_of_digits(digit):\n",
    "    \n",
    "    if digit == 0:\n",
    "        return 1\n",
    "    \n",
    "    return (digit % 10) * product_of_digits(digit//10)\n",
    "\n",
    "digits = 444\n",
    "product_of_digits(digits)"
   ]
  },
  {
   "cell_type": "markdown",
   "metadata": {},
   "source": [
    "### Reverse a Number"
   ]
  },
  {
   "cell_type": "code",
   "execution_count": 16,
   "metadata": {},
   "outputs": [
    {
     "data": {
      "text/plain": [
       "2431"
      ]
     },
     "execution_count": 16,
     "metadata": {},
     "output_type": "execute_result"
    }
   ],
   "source": [
    "def reverse(n):\n",
    "    # take out the last element\n",
    "    total = 0\n",
    "    while n%10 != 0:\n",
    "        remainder = n % 10\n",
    "        total += remainder\n",
    "        total *= 10\n",
    "        n //= 10\n",
    "        \n",
    "    \n",
    "    return total//10\n",
    "    \n",
    "        \n",
    "        \n",
    "reverse(1342)    "
   ]
  },
  {
   "cell_type": "code",
   "execution_count": null,
   "metadata": {},
   "outputs": [],
   "source": [
    "def reverse(n):\n",
    "    # take out the last element\n",
    "    total = 0\n",
    "    while n%10 != 0:\n",
    "        remainder = n % 10\n",
    "        total = 10* total + remainder\n",
    "        n //= 10\n",
    "         \n",
    "    return total\n",
    "    \n",
    "        \n",
    "        \n",
    "reverse(1342)    "
   ]
  },
  {
   "cell_type": "markdown",
   "metadata": {},
   "source": [
    "### Using Recursion"
   ]
  },
  {
   "cell_type": "code",
   "execution_count": 19,
   "metadata": {},
   "outputs": [
    {
     "name": "stdout",
     "output_type": "stream",
     "text": [
      "2431\n"
     ]
    }
   ],
   "source": [
    "total = 0\n",
    "def reverse(n):\n",
    "    # base case\n",
    "    if n == 0:\n",
    "        return\n",
    "    remainder = n % 10\n",
    "    global total # this variable needs to be defiened as global variable.\n",
    "       \n",
    "    total = 10* total + remainder\n",
    "    reverse(n//10)\n",
    "        \n",
    "    \n",
    "reverse(1342)\n",
    "print(total)"
   ]
  },
  {
   "cell_type": "markdown",
   "metadata": {},
   "source": [
    "### Using Recursion"
   ]
  },
  {
   "cell_type": "code",
   "execution_count": 26,
   "metadata": {},
   "outputs": [],
   "source": [
    "import numpy as np"
   ]
  },
  {
   "cell_type": "code",
   "execution_count": 29,
   "metadata": {},
   "outputs": [
    {
     "data": {
      "text/plain": [
       "2341"
      ]
     },
     "execution_count": 29,
     "metadata": {},
     "output_type": "execute_result"
    }
   ],
   "source": [
    "def reverse(num):\n",
    "    digits = int(np.log10(num)) + 1\n",
    "    return helper(num,digits)\n",
    "\n",
    "def helper(num,digits):\n",
    "    # base case\n",
    "    if num == 0:\n",
    "        return 0\n",
    "    remainder = num % 10\n",
    "    return (remainder * 10**(digits-1)) + helper(num//10,digits-1)\n",
    "\n",
    "\n",
    "nums = 1432\n",
    "reverse(nums)"
   ]
  },
  {
   "cell_type": "code",
   "execution_count": 34,
   "metadata": {},
   "outputs": [
    {
     "data": {
      "text/plain": [
       "3"
      ]
     },
     "execution_count": 34,
     "metadata": {},
     "output_type": "execute_result"
    }
   ],
   "source": [
    "def count_zeros(num,count):\n",
    "    rem = num % 10\n",
    "    if num == 0:\n",
    "        return count\n",
    "    if rem == 0:\n",
    "        return count_zeros(num//10,count+1)\n",
    "    else:\n",
    "        return count_zeros(num//10,count)\n",
    "    \n",
    "count_zeros(1000,0)"
   ]
  }
 ],
 "metadata": {
  "kernelspec": {
   "display_name": "Python 3",
   "language": "python",
   "name": "python3"
  },
  "language_info": {
   "codemirror_mode": {
    "name": "ipython",
    "version": 3
   },
   "file_extension": ".py",
   "mimetype": "text/x-python",
   "name": "python",
   "nbconvert_exporter": "python",
   "pygments_lexer": "ipython3",
   "version": "3.11.1"
  }
 },
 "nbformat": 4,
 "nbformat_minor": 2
}
