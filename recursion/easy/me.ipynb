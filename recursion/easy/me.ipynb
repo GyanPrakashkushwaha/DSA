{
 "cells": [
  {
   "cell_type": "code",
   "execution_count": 2,
   "metadata": {},
   "outputs": [
    {
     "data": {
      "text/plain": [
       "{2, 7, 11, 15}"
      ]
     },
     "execution_count": 2,
     "metadata": {},
     "output_type": "execute_result"
    }
   ],
   "source": [
    "nums = [2,7,11,15]\n",
    "set(sorted(nums))"
   ]
  },
  {
   "cell_type": "code",
   "execution_count": 8,
   "metadata": {},
   "outputs": [
    {
     "name": "stdout",
     "output_type": "stream",
     "text": [
      "2\n",
      "3\n"
     ]
    }
   ],
   "source": [
    "d = {2:10,3:20}\n",
    "for i in d.keys():\n",
    "    print(i)"
   ]
  },
  {
   "cell_type": "code",
   "execution_count": 8,
   "metadata": {},
   "outputs": [
    {
     "name": "stdout",
     "output_type": "stream",
     "text": [
      "\n",
      "\n",
      "*\n",
      "**\n",
      "***"
     ]
    }
   ],
   "source": [
    "for i in range(4):\n",
    "    print()\n",
    "    for j in range(4-i, 4):\n",
    "        print('*', end='')"
   ]
  },
  {
   "cell_type": "code",
   "execution_count": 26,
   "metadata": {},
   "outputs": [
    {
     "name": "stdout",
     "output_type": "stream",
     "text": [
      "****\n",
      "***\n",
      "**\n",
      "*\n"
     ]
    }
   ],
   "source": [
    "for row in range(4):\n",
    "    # print(row)\n",
    "    # print(int(4-row)*'*')\n",
    "    # print(int(4-row))\n",
    "    for col in range(4-row):\n",
    "        print('*', end='')\n",
    "        # print(col)\n",
    "        \n",
    "    print()"
   ]
  },
  {
   "cell_type": "code",
   "execution_count": null,
   "metadata": {},
   "outputs": [
    {
     "name": "stdout",
     "output_type": "stream",
     "text": [
      "****\n",
      "***\n",
      "**\n",
      "*\n"
     ]
    }
   ],
   "source": [
    "for row in range(4):\n",
    "    for col in range(4-row):\n",
    "        print('*', end='')\n",
    "    print()"
   ]
  },
  {
   "cell_type": "code",
   "execution_count": 30,
   "metadata": {},
   "outputs": [
    {
     "name": "stdout",
     "output_type": "stream",
     "text": [
      "****\n",
      "***\n",
      "**\n",
      "*\n"
     ]
    }
   ],
   "source": [
    "for row in range(4):\n",
    "    print('*'*(4-row))"
   ]
  },
  {
   "cell_type": "code",
   "execution_count": null,
   "metadata": {},
   "outputs": [],
   "source": [
    "for row in range(4):\n",
    "    print('*'*(4-row))"
   ]
  },
  {
   "cell_type": "code",
   "execution_count": 37,
   "metadata": {},
   "outputs": [
    {
     "name": "stdout",
     "output_type": "stream",
     "text": [
      "****\n",
      "***\n",
      "**\n",
      "*\n"
     ]
    }
   ],
   "source": [
    "# using recursion.\n",
    "def pattern(row):\n",
    "    if row == 0:\n",
    "        return\n",
    "    \n",
    "    print('*'*(row))\n",
    "    pattern(row-1)\n",
    "\n",
    "pattern(4)"
   ]
  },
  {
   "cell_type": "code",
   "execution_count": null,
   "metadata": {},
   "outputs": [
    {
     "name": "stdout",
     "output_type": "stream",
     "text": [
      "[2, 3, 4, 6, 9]\n"
     ]
    }
   ],
   "source": [
    "def bubbleSort(arr):\n",
    "    for j in range(len(arr) - 1):\n",
    "        for i in range(len(arr) - j - 1):\n",
    "            if arr[i] > arr[i + 1]:\n",
    "                arr[i], arr[i+1] = arr[i+1], arr[i]\n",
    "    return arr\n",
    "\n",
    "\n",
    "print(bubbleSort([3, 2, 9, 6, 4]))"
   ]
  },
  {
   "cell_type": "code",
   "execution_count": 51,
   "metadata": {},
   "outputs": [
    {
     "name": "stdout",
     "output_type": "stream",
     "text": [
      "[2, 3, 4, 6, 9]\n"
     ]
    }
   ],
   "source": [
    "def bubbleSortRecursion(arr, counter = 0):\n",
    "    # Base Case\n",
    "    if counter == len(arr)-1:\n",
    "        return arr\n",
    "    for i in range(len(arr)-counter-1):\n",
    "        if arr[i] > arr[i + 1]:\n",
    "            arr[i], arr[i+1] = arr[i+1], arr[i]\n",
    "    \n",
    "    return bubbleSortRecursion(arr,counter+1)\n",
    "\n",
    "print(bubbleSortRecursion([3, 2, 9, 6, 4]))"
   ]
  },
  {
   "cell_type": "code",
   "execution_count": null,
   "metadata": {},
   "outputs": [
    {
     "name": "stdout",
     "output_type": "stream",
     "text": [
      "[2, 3, 4, 6, 9]\n"
     ]
    }
   ],
   "source": [
    "def bubbleSortRecursion(arr, r, c):\n",
    "    # Base Case\n",
    "    if r == 0:\n",
    "        return arr\n",
    "    if arr[i] > arr[i + 1]:\n",
    "        arr[i], arr[i+1] = arr[i+1], arr[i]\n",
    "        return bubbleSortRecursion(arr, r, c+1)\n",
    "    else:\n",
    "        return bubbleSortRecursion(arr, r-1, 0)\n",
    "        \n",
    "arr = [3, 2, 9, 6, 4]\n",
    "print(bubbleSortRecursion(arr,len(arr)-1, 0))"
   ]
  },
  {
   "cell_type": "code",
   "execution_count": null,
   "metadata": {},
   "outputs": [],
   "source": [
    "def bubbleSortRecursion(arr, r, c):\n",
    "    # Base case: if only one element left\n",
    "    if r == 0:\n",
    "        return arr\n",
    "\n",
    "    # Inner loop: Compare and swap\n",
    "    if c < r:\n",
    "        if arr[c] > arr[c + 1]:\n",
    "            arr[c], arr[c + 1] = arr[c + 1], arr[c]\n",
    "        return bubbleSortRecursion(arr, r, c + 1)\n",
    "    else:\n",
    "        # Move to the next row (pass)\n",
    "        return bubbleSortRecursion(arr, r - 1, 0)\n",
    "\n",
    "arr = [3, 2, 9, 6, 4]\n",
    "print(bubbleSortRecursion(arr, len(arr) - 1, 0))\n"
   ]
  },
  {
   "cell_type": "code",
   "execution_count": null,
   "metadata": {},
   "outputs": [
    {
     "name": "stdout",
     "output_type": "stream",
     "text": [
      "[2, 6, 3, 4, 9]\n"
     ]
    }
   ],
   "source": [
    "def selectionSort(arr):\n",
    "    for i in range(1,len(arr)):\n",
    "        bigIndex = 0\n",
    "        last = len(arr)-i\n",
    "        for j in range(1,last):\n",
    "            if arr[bigIndex] < arr[j]:\n",
    "                bigIndex = j\n",
    "        arr[bigIndex], arr[last] = arr[last], arr[bigIndex]\n",
    "    return arr\n",
    "\n",
    "\n",
    "print(selectionSort([3, 2, 9, 6, 4]))"
   ]
  },
  {
   "cell_type": "code",
   "execution_count": 54,
   "metadata": {},
   "outputs": [
    {
     "name": "stdout",
     "output_type": "stream",
     "text": [
      "[3, 2, 4, 6, 9]\n"
     ]
    }
   ],
   "source": [
    "def selectionSortRecursion(arr, counter):\n",
    "    if counter == len(arr)-1:\n",
    "        return arr\n",
    "    bigIndex = 0\n",
    "    last = len(arr) - counter\n",
    "    for j in range(1, last + 1):  # include `last` in the loop\n",
    "        if arr[j] > arr[bigIndex]:\n",
    "            bigIndex = j\n",
    "\n",
    "    # Swap the largest with the last unsorted element\n",
    "    arr[bigIndex], arr[last] = arr[last], arr[bigIndex]\n",
    "\n",
    "    return selectionSortRecursion(arr, counter+1)\n",
    "\n",
    "print(selectionSortRecursion([3, 2, 9, 6, 4], 1))"
   ]
  },
  {
   "cell_type": "code",
   "execution_count": null,
   "metadata": {},
   "outputs": [
    {
     "name": "stdout",
     "output_type": "stream",
     "text": [
      "[3, 2, 4, 6, 9]\n"
     ]
    }
   ],
   "source": [
    "def selectionSortRecursion(arr, counter):\n",
    "    if counter == len(arr)-1:\n",
    "        return arr\n",
    "    bigIndex = 0\n",
    "    last = len(arr) - counter\n",
    "    for j in range(1,last+1):\n",
    "        if arr[bigIndex] < arr[j]:\n",
    "            bigIndex = j\n",
    "    arr[bigIndex], arr[last] = arr[last], arr[bigIndex]\n",
    "    \n",
    "    return selectionSortRecursion(arr,counter+1)\n",
    "\n",
    "\n",
    "print(selectionSortRecursion([3, 2, 9, 6, 4], 1))"
   ]
  },
  {
   "cell_type": "code",
   "execution_count": null,
   "metadata": {},
   "outputs": [],
   "source": []
  }
 ],
 "metadata": {
  "kernelspec": {
   "display_name": "Python 3",
   "language": "python",
   "name": "python3"
  },
  "language_info": {
   "codemirror_mode": {
    "name": "ipython",
    "version": 3
   },
   "file_extension": ".py",
   "mimetype": "text/x-python",
   "name": "python",
   "nbconvert_exporter": "python",
   "pygments_lexer": "ipython3",
   "version": "3.11.1"
  }
 },
 "nbformat": 4,
 "nbformat_minor": 2
}
