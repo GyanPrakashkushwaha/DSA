{
 "cells": [
  {
   "cell_type": "code",
   "execution_count": null,
   "id": "07aaecb8",
   "metadata": {},
   "outputs": [],
   "source": [
    "def subSequence(unprocessed, processed):\n",
    "    if processed == '':\n",
    "        print(unprocessed)\n",
    "        return\n",
    "\n",
    "    # no = subSequence(unprocessed, processed[:-1]) \n",
    "    # yes = subSequence(processed[-1]+ unprocessed, processed[:-1])\n",
    "    subSequence(unprocessed, processed[:-1])\n",
    "    subSequence(processed[-1]+ unprocessed, processed[:-1])\n",
    "    # return yes ,no"
   ]
  },
  {
   "cell_type": "code",
   "execution_count": 11,
   "id": "617cbbc4",
   "metadata": {},
   "outputs": [
    {
     "name": "stdout",
     "output_type": "stream",
     "text": [
      "\n",
      "a\n",
      "b\n",
      "ab\n",
      "c\n",
      "ac\n",
      "bc\n",
      "abc\n"
     ]
    }
   ],
   "source": [
    "subSequence('', 'abc')"
   ]
  },
  {
   "cell_type": "code",
   "execution_count": null,
   "id": "54e87572",
   "metadata": {},
   "outputs": [
    {
     "data": {
      "text/plain": [
       "[[1]]"
      ]
     },
     "execution_count": 47,
     "metadata": {},
     "output_type": "execute_result"
    }
   ],
   "source": [
    "# initial_anwswer = [[]]\n",
    "elements = [1]\n",
    "# answer =  \n",
    "reject = None\n",
    "accept = []\n",
    "for i in range(len(elements)):\n",
    "    # accept.append(initial_anwswer)\n",
    "    accept.append([elements[0]])\n",
    "    reject = accept\n",
    "accept"
   ]
  },
  {
   "cell_type": "code",
   "execution_count": 42,
   "id": "949340a5",
   "metadata": {},
   "outputs": [
    {
     "data": {
      "text/plain": [
       "[[], [1], [], [1], [], [1]]"
      ]
     },
     "execution_count": 42,
     "metadata": {},
     "output_type": "execute_result"
    }
   ],
   "source": [
    "accept"
   ]
  },
  {
   "cell_type": "code",
   "execution_count": 22,
   "id": "699c2aaa",
   "metadata": {},
   "outputs": [],
   "source": [
    "accpet = [[]]"
   ]
  },
  {
   "cell_type": "code",
   "execution_count": 24,
   "id": "9ac3df60",
   "metadata": {},
   "outputs": [],
   "source": [
    "accpet[0] = 1"
   ]
  },
  {
   "cell_type": "code",
   "execution_count": 25,
   "id": "f93343b7",
   "metadata": {},
   "outputs": [
    {
     "data": {
      "text/plain": [
       "[1]"
      ]
     },
     "execution_count": 25,
     "metadata": {},
     "output_type": "execute_result"
    }
   ],
   "source": [
    "accpet"
   ]
  },
  {
   "cell_type": "code",
   "execution_count": null,
   "id": "6904d296",
   "metadata": {},
   "outputs": [
    {
     "name": "stdout",
     "output_type": "stream",
     "text": [
      "[[], [[1]], [[2], [[1], 2]], [[3], [[1], 3], [[2], [[1], 2], 3]]]\n"
     ]
    }
   ],
   "source": [
    "def generate_subsets(elements):\n",
    "    subsets = [[]]  # start with the empty subset\n",
    "    for element in elements:\n",
    "        new_subsets = []\n",
    "        for subset in subsets:\n",
    "            new_subsets.append(subset + [element])\n",
    "        subsets.extend(new_subsets)\n",
    "    return subsets\n",
    "\n",
    "# Example usage\n",
    "elements = [1, 2, 3]\n",
    "all_subsets = generate_subsets(elements)\n",
    "print(all_subsets)\n"
   ]
  },
  {
   "cell_type": "code",
   "execution_count": 3,
   "id": "31be2cfb",
   "metadata": {},
   "outputs": [
    {
     "name": "stdout",
     "output_type": "stream",
     "text": [
      "abc\n",
      "bca\n",
      "cab\n",
      "bac\n",
      "acb\n",
      "cba\n"
     ]
    }
   ],
   "source": [
    "def permutations(processed, unprocessed):\n",
    "    if not unprocessed:\n",
    "        print(processed)\n",
    "        return \n",
    "    ch = unprocessed[0]\n",
    "    for i in range(len(processed)+1):\n",
    "        start = processed[i:]\n",
    "        end = processed[:i]\n",
    "        permutations(start + ch + end, unprocessed[1:])\n",
    "    \n",
    "permutations('', 'abc')"
   ]
  },
  {
   "cell_type": "code",
   "execution_count": null,
   "id": "1bbb3c8b",
   "metadata": {},
   "outputs": [],
   "source": []
  },
  {
   "cell_type": "code",
   "execution_count": 1,
   "metadata": {},
   "outputs": [],
   "source": [
    "stack = [1,2]"
   ]
  },
  {
   "cell_type": "code",
   "execution_count": 6,
   "id": "72e59ec8",
   "metadata": {},
   "outputs": [
    {
     "data": {
      "text/plain": [
       "[1, 2]"
      ]
     },
     "execution_count": 6,
     "metadata": {},
     "output_type": "execute_result"
    }
   ],
   "source": [
    "stack + [2]"
   ]
  },
  {
   "cell_type": "code",
   "execution_count": 2,
   "metadata": {},
   "outputs": [
    {
     "data": {
      "text/plain": [
       "2"
      ]
     },
     "execution_count": 2,
     "metadata": {},
     "output_type": "execute_result"
    }
   ],
   "source": [
    "stack.pop()"
   ]
  },
  {
   "cell_type": "code",
   "execution_count": 3,
   "metadata": {},
   "outputs": [
    {
     "data": {
      "text/plain": [
       "[1]"
      ]
     },
     "execution_count": 3,
     "metadata": {},
     "output_type": "execute_result"
    }
   ],
   "source": [
    "stack"
   ]
  },
  {
   "cell_type": "code",
   "execution_count": 9,
   "metadata": {},
   "outputs": [
    {
     "data": {
      "text/plain": [
       "1"
      ]
     },
     "execution_count": 9,
     "metadata": {},
     "output_type": "execute_result"
    }
   ],
   "source": [
    "carry = 11%10 \n",
    "num = 11//10\n",
    "carry"
   ]
  },
  {
   "cell_type": "code",
   "execution_count": 7,
   "id": "020030ae",
   "metadata": {},
   "outputs": [
    {
     "data": {
      "text/plain": [
       "1"
      ]
     },
     "execution_count": 7,
     "metadata": {},
     "output_type": "execute_result"
    }
   ],
   "source": [
    "num"
   ]
  },
  {
   "cell_type": "code",
   "execution_count": 10,
   "id": "731d1214",
   "metadata": {},
   "outputs": [
    {
     "name": "stdout",
     "output_type": "stream",
     "text": [
      "Hii Im 0\n",
      "Hii Im 1\n",
      "Hii Im 2\n",
      "Hii Im 3\n",
      "Hii Im 4\n",
      "Hii Im 5\n",
      "I will print......\n",
      "I will print......\n",
      "I will print......\n",
      "I will print......\n"
     ]
    }
   ],
   "source": [
    "for i in range(10):\n",
    "    if i <= 5:\n",
    "        print(f'Hii Im {i}')\n",
    "        continue\n",
    "        \n",
    "    print('I will print......')"
   ]
  },
  {
   "cell_type": "code",
   "execution_count": 11,
   "id": "bba659e9",
   "metadata": {},
   "outputs": [
    {
     "data": {
      "text/plain": [
       "0"
      ]
     },
     "execution_count": 11,
     "metadata": {},
     "output_type": "execute_result"
    }
   ],
   "source": [
    "10%10"
   ]
  }
 ],
 "metadata": {
  "kernelspec": {
   "display_name": "Python 3",
   "language": "python",
   "name": "python3"
  },
  "language_info": {
   "codemirror_mode": {
    "name": "ipython",
    "version": 3
   },
   "file_extension": ".py",
   "mimetype": "text/x-python",
   "name": "python",
   "nbconvert_exporter": "python",
   "pygments_lexer": "ipython3",
   "version": "3.11.1"
  }
 },
 "nbformat": 4,
 "nbformat_minor": 5
}
