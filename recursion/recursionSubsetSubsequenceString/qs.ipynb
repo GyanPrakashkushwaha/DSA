{
 "cells": [
  {
   "cell_type": "code",
   "execution_count": null,
   "id": "7f5d14a7",
   "metadata": {},
   "outputs": [
    {
     "data": {
      "text/plain": [
       "'d'"
      ]
     },
     "execution_count": 15,
     "metadata": {},
     "output_type": "execute_result"
    }
   ],
   "source": [
    "def remove_str(mystr):\n",
    "    if len(mystr) == 0:\n",
    "        return ''\n",
    "    if mystr[-1] == 'a':\n",
    "        return ''\n",
    "    else:\n",
    "        return mystr[-1] + remove_str(mystr[:-1])\n",
    "mystr = 'bbacbad'\n",
    "remove_str(mystr)"
   ]
  },
  {
   "cell_type": "code",
   "execution_count": 12,
   "id": "09ab1d1c",
   "metadata": {},
   "outputs": [],
   "source": [
    "# remove"
   ]
  },
  {
   "cell_type": "code",
   "execution_count": null,
   "id": "f2423708",
   "metadata": {},
   "outputs": [
    {
     "data": {
      "text/plain": [
       "'bbacba'"
      ]
     },
     "execution_count": 13,
     "metadata": {},
     "output_type": "execute_result"
    }
   ],
   "source": [
    "\n",
    "mystr[:-1]"
   ]
  },
  {
   "cell_type": "code",
   "execution_count": 16,
   "id": "6456e3a9",
   "metadata": {},
   "outputs": [],
   "source": [
    "def skip_with_out_returning(pre, pro):\n",
    "    if len(pro) == 0:\n",
    "        print(pre)\n",
    "    \n",
    "    if pre[0] == 'a':\n",
    "        skip_with_out_returning(pre, pro[1:])\n",
    "    else:\n",
    "        skip_with_out_returning(pre[0]+pre, pro[1:])\n",
    "        "
   ]
  },
  {
   "cell_type": "code",
   "execution_count": 17,
   "metadata": {},
   "outputs": [
    {
     "ename": "IndexError",
     "evalue": "string index out of range",
     "output_type": "error",
     "traceback": [
      "\u001b[1;31m---------------------------------------------------------------------------\u001b[0m",
      "\u001b[1;31mIndexError\u001b[0m                                Traceback (most recent call last)",
      "Cell \u001b[1;32mIn[17], line 1\u001b[0m\n\u001b[1;32m----> 1\u001b[0m \u001b[43mskip_with_out_returning\u001b[49m\u001b[43m(\u001b[49m\u001b[38;5;124;43m'\u001b[39;49m\u001b[38;5;124;43m'\u001b[39;49m\u001b[43m,\u001b[49m\u001b[43m \u001b[49m\u001b[38;5;124;43m'\u001b[39;49m\u001b[38;5;124;43mabcdaabd\u001b[39;49m\u001b[38;5;124;43m'\u001b[39;49m\u001b[43m)\u001b[49m\n",
      "Cell \u001b[1;32mIn[16], line 5\u001b[0m, in \u001b[0;36mskip_with_out_returning\u001b[1;34m(pre, pro)\u001b[0m\n\u001b[0;32m      2\u001b[0m \u001b[38;5;28;01mif\u001b[39;00m \u001b[38;5;28mlen\u001b[39m(pro) \u001b[38;5;241m==\u001b[39m \u001b[38;5;241m0\u001b[39m:\n\u001b[0;32m      3\u001b[0m     \u001b[38;5;28mprint\u001b[39m(pre)\n\u001b[1;32m----> 5\u001b[0m \u001b[38;5;28;01mif\u001b[39;00m \u001b[43mpre\u001b[49m\u001b[43m[\u001b[49m\u001b[38;5;241;43m0\u001b[39;49m\u001b[43m]\u001b[49m \u001b[38;5;241m==\u001b[39m \u001b[38;5;124m'\u001b[39m\u001b[38;5;124ma\u001b[39m\u001b[38;5;124m'\u001b[39m:\n\u001b[0;32m      6\u001b[0m     skip_with_out_returning(pre, pro[\u001b[38;5;241m1\u001b[39m:])\n\u001b[0;32m      7\u001b[0m \u001b[38;5;28;01melse\u001b[39;00m:\n",
      "\u001b[1;31mIndexError\u001b[0m: string index out of range"
     ]
    }
   ],
   "source": [
    "skip_with_out_returning('', 'abcdaabd')"
   ]
  },
  {
   "cell_type": "code",
   "execution_count": null,
   "id": "ce0443a7",
   "metadata": {},
   "outputs": [],
   "source": []
  },
  {
   "cell_type": "code",
   "execution_count": null,
   "metadata": {},
   "outputs": [],
   "source": []
  },
  {
   "cell_type": "code",
   "execution_count": null,
   "id": "5fbb140c",
   "metadata": {},
   "outputs": [],
   "source": [
    "def skip(processed, unprocessed):\n",
    "    # Base Case\n",
    "    if len(unprocessed) == 0:\n",
    "        return processed\n",
    "    if unprocessed[-1] == 'a':\n",
    "        return skip(processed,unprocessed[:-1])\n",
    "    else:\n",
    "        return skip(unprocessed[-1]+processed,unprocessed[:-1])\n",
    "        \n",
    "skip('', 'baccad')"
   ]
  },
  {
   "cell_type": "code",
   "execution_count": 13,
   "metadata": {},
   "outputs": [
    {
     "data": {
      "text/plain": [
       "'bccd'"
      ]
     },
     "execution_count": 13,
     "metadata": {},
     "output_type": "execute_result"
    }
   ],
   "source": [
    "\n",
    "def skip(string):\n",
    "    if string == '':\n",
    "        return ''\n",
    "    if string[0] == 'a':\n",
    "        return skip(string[1:])\n",
    "    else:\n",
    "        return string[0] + skip(string[1:])\n",
    "\n",
    "skip('baccad')"
   ]
  },
  {
   "cell_type": "code",
   "execution_count": 24,
   "id": "0ebecea2",
   "metadata": {},
   "outputs": [],
   "source": [
    "def fibo(n):\n",
    "    # Base Case\n",
    "    if n == 1 or n == 2:\n",
    "        return 1\n",
    "    \n",
    "    return fibo(n-2) + fibo(n-1)"
   ]
  },
  {
   "cell_type": "code",
   "execution_count": 26,
   "metadata": {},
   "outputs": [
    {
     "data": {
      "text/plain": [
       "8"
      ]
     },
     "execution_count": 26,
     "metadata": {},
     "output_type": "execute_result"
    }
   ],
   "source": [
    "fibo(6)"
   ]
  },
  {
   "cell_type": "code",
   "execution_count": 27,
   "id": "8a0ef67e",
   "metadata": {},
   "outputs": [
    {
     "data": {
      "text/plain": [
       "{'value': 8,\n",
       " 'left': {'value': 5,\n",
       "  'left': {'value': 3,\n",
       "   'left': {'value': 2,\n",
       "    'left': {'value': 1, 'left': None, 'right': None},\n",
       "    'right': {'value': 1, 'left': None, 'right': None}},\n",
       "   'right': {'value': 1, 'left': None, 'right': None}},\n",
       "  'right': {'value': 2,\n",
       "   'left': {'value': 1, 'left': None, 'right': None},\n",
       "   'right': {'value': 1, 'left': None, 'right': None}}},\n",
       " 'right': {'value': 3,\n",
       "  'left': {'value': 2,\n",
       "   'left': {'value': 1, 'left': None, 'right': None},\n",
       "   'right': {'value': 1, 'left': None, 'right': None}},\n",
       "  'right': {'value': 1, 'left': None, 'right': None}}}"
      ]
     },
     "execution_count": 27,
     "metadata": {},
     "output_type": "execute_result"
    }
   ],
   "source": [
    "def fibo_tree(n):\n",
    "    if n == 1 or n == 2:\n",
    "        return {'value': 1, 'left': None, 'right': None}\n",
    "    left_subtree = fibo_tree(n - 1)\n",
    "    right_subtree = fibo_tree(n - 2)\n",
    "    node_value = left_subtree['value'] + right_subtree['value']\n",
    "    return {'value': node_value, 'left': left_subtree, 'right': right_subtree}\n",
    "\n",
    "fibo_tree(6)"
   ]
  },
  {
   "cell_type": "code",
   "execution_count": 19,
   "metadata": {},
   "outputs": [],
   "source": [
    "def fibona(n):\n",
    "    if n == 0:\n",
    "        return 0\n",
    "    elif n == 1:\n",
    "        return 1\n",
    "    return fibona(n-2) + fibona(n-1)"
   ]
  },
  {
   "cell_type": "code",
   "execution_count": 23,
   "metadata": {},
   "outputs": [
    {
     "data": {
      "text/plain": [
       "5"
      ]
     },
     "execution_count": 23,
     "metadata": {},
     "output_type": "execute_result"
    }
   ],
   "source": [
    "fibona(5)"
   ]
  },
  {
   "cell_type": "code",
   "execution_count": null,
   "metadata": {},
   "outputs": [],
   "source": []
  },
  {
   "cell_type": "code",
   "execution_count": null,
   "metadata": {},
   "outputs": [],
   "source": []
  }
 ],
 "metadata": {
  "kernelspec": {
   "display_name": "Python 3",
   "language": "python",
   "name": "python3"
  },
  "language_info": {
   "codemirror_mode": {
    "name": "ipython",
    "version": 3
   },
   "file_extension": ".py",
   "mimetype": "text/x-python",
   "name": "python",
   "nbconvert_exporter": "python",
   "pygments_lexer": "ipython3",
   "version": "3.11.1"
  }
 },
 "nbformat": 4,
 "nbformat_minor": 5
}
