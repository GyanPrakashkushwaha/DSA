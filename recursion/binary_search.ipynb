{
 "cells": [
  {
   "cell_type": "markdown",
   "metadata": {},
   "source": [
    "### Iterative Program for Binary Search"
   ]
  },
  {
   "cell_type": "code",
   "execution_count": 33,
   "metadata": {},
   "outputs": [
    {
     "data": {
      "text/plain": [
       "4"
      ]
     },
     "execution_count": 33,
     "metadata": {},
     "output_type": "execute_result"
    }
   ],
   "source": [
    "def bs(arr,target):\n",
    "    # Base case\n",
    "    start, end = 0, len(arr)-1\n",
    "    while start <= end:\n",
    "        \n",
    "        mid = start + (end - start)//2\n",
    "        if arr[mid] == target:\n",
    "            return mid\n",
    "        elif arr[mid] < target:\n",
    "            start = mid+1\n",
    "        else:\n",
    "            end = mid - 1\n",
    "    return -1\n",
    "    \n",
    "arr = [2,3,5,7,10,130]\n",
    "target = 10\n",
    "\n",
    "bs(arr,target)"
   ]
  },
  {
   "cell_type": "code",
   "execution_count": 3,
   "metadata": {},
   "outputs": [
    {
     "data": {
      "text/plain": [
       "4"
      ]
     },
     "execution_count": 3,
     "metadata": {},
     "output_type": "execute_result"
    }
   ],
   "source": [
    "def binary_search(arr, target, start, end):\n",
    "    # Base case\n",
    "    if start > end:\n",
    "        return -1 # Target Not found\n",
    "    mid = start + (end - start)//2\n",
    "    if arr[mid] == target:\n",
    "        return mid\n",
    "    elif arr[mid] > target:\n",
    "        return binary_search(arr, target, start, mid-1)\n",
    "    return binary_search(arr, target, mid + 1, end)\n",
    "\n",
    "array = [1, 2, 3, 4, 5, 6, 7]\n",
    "binary_search(array, target=5, start = 0, end = len(array)-1)"
   ]
  },
  {
   "cell_type": "markdown",
   "metadata": {},
   "source": [
    "### Recursive Program for binary Search"
   ]
  },
  {
   "cell_type": "code",
   "execution_count": 30,
   "metadata": {},
   "outputs": [
    {
     "data": {
      "text/plain": [
       "4"
      ]
     },
     "execution_count": 30,
     "metadata": {},
     "output_type": "execute_result"
    }
   ],
   "source": [
    "def bs(arr,target,start,end):\n",
    "    # Base case\n",
    "    if start > end:\n",
    "        return -1 \n",
    "    mid = start + (end - start)//2\n",
    "    if arr[mid] == target:\n",
    "        return mid\n",
    "    elif arr[mid] < target:\n",
    "        return bs(arr,target,mid+1,end)\n",
    "    \n",
    "    return bs(arr,target,start,mid-1)\n",
    "    \n",
    "arr = [2,3,5,7,10,130]\n",
    "target = 10\n",
    "\n",
    "bs(arr,target,0,len(arr)-1)"
   ]
  },
  {
   "cell_type": "code",
   "execution_count": null,
   "metadata": {},
   "outputs": [],
   "source": []
  },
  {
   "cell_type": "code",
   "execution_count": null,
   "metadata": {},
   "outputs": [],
   "source": []
  }
 ],
 "metadata": {
  "kernelspec": {
   "display_name": "Python 3",
   "language": "python",
   "name": "python3"
  },
  "language_info": {
   "codemirror_mode": {
    "name": "ipython",
    "version": 3
   },
   "file_extension": ".py",
   "mimetype": "text/x-python",
   "name": "python",
   "nbconvert_exporter": "python",
   "pygments_lexer": "ipython3",
   "version": "3.11.1"
  }
 },
 "nbformat": 4,
 "nbformat_minor": 2
}
