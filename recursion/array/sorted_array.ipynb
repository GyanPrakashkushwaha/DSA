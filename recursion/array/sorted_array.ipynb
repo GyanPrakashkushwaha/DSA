{
 "cells": [
  {
   "cell_type": "code",
   "execution_count": 11,
   "metadata": {},
   "outputs": [
    {
     "data": {
      "text/plain": [
       "True"
      ]
     },
     "execution_count": 11,
     "metadata": {},
     "output_type": "execute_result"
    }
   ],
   "source": [
    "def is_sorted(arr):\n",
    "    if len(arr) == 1:\n",
    "        return True\n",
    "    return arr[0] <= arr[1] and is_sorted(arr[1:])\n",
    "\n",
    "is_sorted([0,2,3,4,12])"
   ]
  },
  {
   "cell_type": "code",
   "execution_count": 28,
   "metadata": {},
   "outputs": [
    {
     "data": {
      "text/plain": [
       "-1"
      ]
     },
     "execution_count": 28,
     "metadata": {},
     "output_type": "execute_result"
    }
   ],
   "source": [
    "def linear_search(arr,target,i=0):\n",
    "    if len(arr) == 0:\n",
    "        return -1\n",
    "    if arr[0] == target:\n",
    "        return i\n",
    "    \n",
    "    return linear_search(arr[1:],target,i+1)\n",
    "    \n",
    "linear_search([3,2,1,18,9],120)"
   ]
  },
  {
   "cell_type": "code",
   "execution_count": 4,
   "metadata": {},
   "outputs": [
    {
     "data": {
      "text/plain": [
       "175"
      ]
     },
     "execution_count": 4,
     "metadata": {},
     "output_type": "execute_result"
    }
   ],
   "source": [
    "bdm = \"\"\"Mr Rohit Kushwaha was from a village, Lived in Satna city for his studies, completing graduation in 2022, He had less interest in studies and one of his relatives used to do this work of buying and supplying milk from village to Satna city . The relative was older, around age of 60, a retired Old citizen and had health issues and was not able to go for delivering milk, said Rohit to do for him. Then onwards he entered into the business and started his own milk supply business. He started from supplying only 10-15 liters of milk, Tried to make new customers and built a network to suppliers from whom he buys, Did advertisements about his business so the people near his village who are located in the Satna city got to know about him. They knew he would give me good quality milk because he gave proof of his good quality milk by maintaining the quality of milk to his existing customers and now he is supplying 60-65 liters of milk everyday. \"\"\"\n",
    "len(bdm.split())"
   ]
  }
 ],
 "metadata": {
  "kernelspec": {
   "display_name": "Python 3",
   "language": "python",
   "name": "python3"
  },
  "language_info": {
   "codemirror_mode": {
    "name": "ipython",
    "version": 3
   },
   "file_extension": ".py",
   "mimetype": "text/x-python",
   "name": "python",
   "nbconvert_exporter": "python",
   "pygments_lexer": "ipython3",
   "version": "3.11.1"
  }
 },
 "nbformat": 4,
 "nbformat_minor": 2
}
