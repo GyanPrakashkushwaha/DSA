{
 "cells": [
  {
   "cell_type": "code",
   "execution_count": 11,
   "metadata": {},
   "outputs": [
    {
     "data": {
      "text/plain": [
       "True"
      ]
     },
     "execution_count": 11,
     "metadata": {},
     "output_type": "execute_result"
    }
   ],
   "source": [
    "def is_sorted(arr):\n",
    "    if len(arr) == 1:\n",
    "        return True\n",
    "    return arr[0] <= arr[1] and is_sorted(arr[1:])\n",
    "\n",
    "is_sorted([0,2,3,4,12])"
   ]
  },
  {
   "cell_type": "code",
   "execution_count": 28,
   "metadata": {},
   "outputs": [
    {
     "data": {
      "text/plain": [
       "-1"
      ]
     },
     "execution_count": 28,
     "metadata": {},
     "output_type": "execute_result"
    }
   ],
   "source": [
    "def linear_search(arr,target,i=0):\n",
    "    if len(arr) == 0:\n",
    "        return -1\n",
    "    if arr[0] == target:\n",
    "        return i\n",
    "    \n",
    "    return linear_search(arr[1:],target,i+1)\n",
    "    \n",
    "linear_search([3,2,1,18,9],120)"
   ]
  },
  {
   "cell_type": "code",
   "execution_count": 2,
   "metadata": {},
   "outputs": [
    {
     "data": {
      "text/plain": [
       "[2, 3, 4, 6, 19]"
      ]
     },
     "execution_count": 2,
     "metadata": {},
     "output_type": "execute_result"
    }
   ],
   "source": [
    "def check_sorted(arr):\n",
    "    if len(arr) == 1:\n",
    "        return True\n",
    "    if arr[0] < arr[1]:\n",
    "        return arr[1:]\n",
    "    else:\n",
    "        return False\n",
    "    \n",
    "check_sorted([1,2,3,4,6,19])"
   ]
  },
  {
   "cell_type": "code",
   "execution_count": 4,
   "metadata": {},
   "outputs": [
    {
     "data": {
      "text/plain": [
       "False"
      ]
     },
     "execution_count": 4,
     "metadata": {},
     "output_type": "execute_result"
    }
   ],
   "source": [
    "def check_sorted(arr):\n",
    "    if len(arr) == 1:\n",
    "        return True\n",
    "    return arr[0] < arr[1] and check_sorted(arr[1:])\n",
    "   \n",
    "    \n",
    "check_sorted([1,2,3,4,6,19,10])"
   ]
  },
  {
   "cell_type": "code",
   "execution_count": null,
   "metadata": {},
   "outputs": [],
   "source": []
  }
 ],
 "metadata": {
  "kernelspec": {
   "display_name": "Python 3",
   "language": "python",
   "name": "python3"
  },
  "language_info": {
   "codemirror_mode": {
    "name": "ipython",
    "version": 3
   },
   "file_extension": ".py",
   "mimetype": "text/x-python",
   "name": "python",
   "nbconvert_exporter": "python",
   "pygments_lexer": "ipython3",
   "version": "3.11.1"
  }
 },
 "nbformat": 4,
 "nbformat_minor": 2
}
