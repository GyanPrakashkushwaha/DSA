{
 "cells": [
  {
   "cell_type": "code",
   "execution_count": 1,
   "id": "8f89f1f9",
   "metadata": {},
   "outputs": [],
   "source": [
    "import copy"
   ]
  },
  {
   "cell_type": "code",
   "execution_count": 7,
   "metadata": {},
   "outputs": [],
   "source": [
    "def mergeSort(arr):\n",
    "    if len(arr) <= 1:\n",
    "        return arr\n",
    "    \n",
    "    mid = len(arr) // 2\n",
    "    left = mergeSort(arr[:mid])\n",
    "    right = mergeSort(arr[mid:])\n",
    "    return merge(left, right)\n",
    "\n",
    "def merge(left, right):\n",
    "    mix_arr = []\n",
    "    i, j = 0, 0\n",
    "    \n",
    "    while i < len(left) and j < len(right):\n",
    "        if left[i] < right[j]:  # ✅ correct comparison\n",
    "            mix_arr.append(left[i])\n",
    "            i += 1\n",
    "        else:\n",
    "            mix_arr.append(right[j])\n",
    "            j += 1\n",
    "    \n",
    "    # Append remaining elements\n",
    "    while i < len(left):\n",
    "        mix_arr.append(left[i])\n",
    "        i += 1\n",
    "        \n",
    "    while j < len(right):\n",
    "        mix_arr.append(right[j])\n",
    "        j += 1\n",
    "        \n",
    "    return mix_arr\n"
   ]
  },
  {
   "cell_type": "code",
   "execution_count": null,
   "id": "7a577575",
   "metadata": {},
   "outputs": [
    {
     "name": "stdout",
     "output_type": "stream",
     "text": [
      "[2, 3, 4, 5, 8]\n"
     ]
    }
   ],
   "source": [
    "arr = [5, 3, 8, 4, 2]\n",
    "sorted_arr = mergeSort(arr)\n",
    "print(sorted_arr)"
   ]
  },
  {
   "cell_type": "code",
   "execution_count": null,
   "id": "bee88f0f",
   "metadata": {},
   "outputs": [],
   "source": [
    "[3,10,9,5,0]"
   ]
  },
  {
   "cell_type": "code",
   "execution_count": null,
   "metadata": {},
   "outputs": [
    {
     "data": {
      "text/plain": [
       "[9, 5]"
      ]
     },
     "execution_count": 4,
     "metadata": {},
     "output_type": "execute_result"
    }
   ],
   "source": [
    "# arr = [3,10,9,5,0]\n",
    "# mid = len(arr)//2\n",
    "# arr[2:4]"
   ]
  },
  {
   "cell_type": "code",
   "execution_count": null,
   "id": "bc049bca",
   "metadata": {},
   "outputs": [
    {
     "name": "stdout",
     "output_type": "stream",
     "text": [
      "Original list: [38, 27, 43, 3, 9, 82, 10]\n",
      "Sorted list: [3, 9, 10, 27, 38, 43, 82]\n",
      "Original list: [12, 11, 13, 5, 6, 7]\n",
      "Sorted list: [5, 6, 7, 11, 12, 13]\n"
     ]
    }
   ],
   "source": [
    "def merge_sort(arr):\n",
    "    if len(arr) <= 1:\n",
    "        return arr\n",
    "\n",
    "    mid = len(arr) // 2\n",
    "\n",
    "    sorted_left = merge_sort(arr[:mid])\n",
    "    sorted_right = merge_sort(arr[mid:])\n",
    "    return merge(sorted_left, sorted_right)\n",
    "\n",
    "def merge(left, right):\n",
    "    result = []\n",
    "    i = j = 0\n",
    "\n",
    "    while i < len(left) and j < len(right):\n",
    "        if left[i] < right[j]:\n",
    "            result.append(left[i])\n",
    "            i += 1\n",
    "        else:\n",
    "            result.append(right[j])\n",
    "            j += 1\n",
    "\n",
    "    # Append any remaining elements from left or right\n",
    "    result.extend(left[i:])\n",
    "    result.extend(right[j:])\n",
    "\n",
    "    return result\n",
    "\n",
    "# Example usage:\n",
    "if __name__ == \"__main__\":\n",
    "    my_list = [38, 27, 43, 3, 9, 82, 10]\n",
    "    print(f\"Original list: {my_list}\")\n",
    "    sorted_list = merge_sort(my_list)\n",
    "    print(f\"Sorted list: {sorted_list}\")\n",
    "\n",
    "    my_list_2 = [12, 11, 13, 5, 6, 7]\n",
    "    print(f\"Original list: {my_list_2}\")\n",
    "    sorted_list_2 = merge_sort(my_list_2)\n",
    "    print(f\"Sorted list: {sorted_list_2}\")"
   ]
  },
  {
   "cell_type": "code",
   "execution_count": 4,
   "id": "359224ee",
   "metadata": {},
   "outputs": [
    {
     "name": "stdout",
     "output_type": "stream",
     "text": [
      "2\n"
     ]
    },
    {
     "data": {
      "text/plain": [
       "[12, 11]"
      ]
     },
     "execution_count": 4,
     "metadata": {},
     "output_type": "execute_result"
    }
   ],
   "source": [
    "arr = [12, 11, 13, 5, 6, 7]\n",
    "s, e = 0, len(arr)-1\n",
    "mid = (s+e)//2\n",
    "print(mid)\n",
    "arr[:mid]"
   ]
  },
  {
   "cell_type": "code",
   "execution_count": 12,
   "id": "8626d80f",
   "metadata": {},
   "outputs": [
    {
     "data": {
      "text/plain": [
       "False"
      ]
     },
     "execution_count": 12,
     "metadata": {},
     "output_type": "execute_result"
    }
   ],
   "source": [
    "'b23'[1:] < '114'"
   ]
  }
 ],
 "metadata": {
  "kernelspec": {
   "display_name": "Python 3",
   "language": "python",
   "name": "python3"
  },
  "language_info": {
   "codemirror_mode": {
    "name": "ipython",
    "version": 3
   },
   "file_extension": ".py",
   "mimetype": "text/x-python",
   "name": "python",
   "nbconvert_exporter": "python",
   "pygments_lexer": "ipython3",
   "version": "3.13.7"
  }
 },
 "nbformat": 4,
 "nbformat_minor": 5
}
