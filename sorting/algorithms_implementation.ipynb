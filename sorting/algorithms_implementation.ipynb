{
 "cells": [
  {
   "cell_type": "markdown",
   "metadata": {},
   "source": [
    "## Bubble sort implementation\n",
    "if the swap does not happend for a perticular loop of i , stop the program."
   ]
  },
  {
   "cell_type": "code",
   "execution_count": 1,
   "metadata": {},
   "outputs": [
    {
     "name": "stdout",
     "output_type": "stream",
     "text": [
      "[1, 3, 4, 5, 6, 10]\n"
     ]
    }
   ],
   "source": [
    "arr = [5,6,4,1,3,10]\n",
    "n = len(arr)\n",
    "for i in range(n-1):\n",
    "    swapped = False\n",
    "    for j in range(n-(1+i)):\n",
    "        if arr[j] > arr[j+1]: # swap then\n",
    "            temp = arr[j]\n",
    "            arr[j] = arr[j+1]\n",
    "            arr[j+1] = temp\n",
    "            swapped = True\n",
    "    \n",
    "    if not swapped:\n",
    "        break\n",
    "        \n",
    "        \n",
    "print(arr)"
   ]
  },
  {
   "cell_type": "markdown",
   "metadata": {},
   "source": [
    "## Insertion sort implementation"
   ]
  },
  {
   "cell_type": "code",
   "execution_count": 24,
   "metadata": {},
   "outputs": [
    {
     "name": "stdout",
     "output_type": "stream",
     "text": [
      "[1, 4, 2, 3, 5]\n"
     ]
    }
   ],
   "source": [
    "arr = [4,1,5,2,3]\n",
    "n = len(arr)\n",
    "# If I'm assuming the left part is sorted then there's no meaning to start the outer loop from 0.\n",
    "for i in range(1,n): # the pointer is i\n",
    "    j = i -1\n",
    "    while j >= 0:\n",
    "        if arr[i] < arr[j]:\n",
    "            # swap\n",
    "            arr[i], arr[j] = arr[j], arr[i]\n",
    "        j -= 1\n",
    "\n",
    "print(arr)"
   ]
  },
  {
   "cell_type": "code",
   "execution_count": 29,
   "metadata": {},
   "outputs": [
    {
     "name": "stdout",
     "output_type": "stream",
     "text": [
      "[-24, 0, 21, 23, 522]\n"
     ]
    }
   ],
   "source": [
    "array = [-24,21,522,23,0]\n",
    "\n",
    "def insertion_sort(arr):\n",
    "    n = len(arr)\n",
    "    for i in range(1, n):\n",
    "        pointer = arr[i]\n",
    "        j = i - 1\n",
    "        while j >= 0 and pointer < arr[j]:\n",
    "            arr[j + 1] = arr[j]\n",
    "            j -= 1\n",
    "        arr[j+1] = pointer\n",
    "    return arr\n",
    "\n",
    "print(insertion_sort(arr=array))"
   ]
  },
  {
   "cell_type": "markdown",
   "metadata": {},
   "source": [
    "## Selection Sort"
   ]
  },
  {
   "cell_type": "code",
   "execution_count": 21,
   "metadata": {},
   "outputs": [
    {
     "data": {
      "text/plain": [
       "[5, 6, 6, 34, 44, 55]"
      ]
     },
     "execution_count": 21,
     "metadata": {},
     "output_type": "execute_result"
    }
   ],
   "source": [
    "arr = [6,5,6,44,55,34]\n",
    "def selection_sort(arr):\n",
    "    n = len(arr)\n",
    "    for i in range(n):\n",
    "        max_ele_indx = 0\n",
    "        for j in range(n-i):\n",
    "            if arr[max_ele_indx] < arr[j]:\n",
    "                max_ele_indx = j\n",
    "        # swap\n",
    "        arr[max_ele_indx], arr[n-i-1] = arr[n-i-1], arr[max_ele_indx]\n",
    "        \n",
    "    return arr\n",
    "\n",
    "selection_sort(arr)"
   ]
  },
  {
   "cell_type": "markdown",
   "metadata": {},
   "source": [
    "## Cyclic Sort"
   ]
  },
  {
   "cell_type": "code",
   "execution_count": 1,
   "metadata": {},
   "outputs": [
    {
     "data": {
      "text/plain": [
       "[1, 2, 3, 4, 3, 2, 7, 8]"
      ]
     },
     "execution_count": 1,
     "metadata": {},
     "output_type": "execute_result"
    }
   ],
   "source": [
    "arr = [4,3,2,7,8,2,3,1]\n",
    "\n",
    "def cyclic_sort(arr):\n",
    "    i = 0\n",
    "    while i < len(arr):\n",
    "        correct_index = arr[i] -1\n",
    "        if arr[i] != arr[correct_index]:\n",
    "            # swap\n",
    "            arr[i], arr[correct_index] = arr[correct_index], arr[i]\n",
    "        else:\n",
    "            i+=1\n",
    "\n",
    "    return arr\n",
    "cyclic_sort(arr)\n"
   ]
  },
  {
   "cell_type": "code",
   "execution_count": null,
   "metadata": {},
   "outputs": [],
   "source": [
    "def findDisappearedNumbers(nums: list[int]) -> list[int]:\n",
    "    original_n = len(nums)\n",
    "    arr = list(set(nums))\n",
    "    after_n = len(arr)\n",
    "    out = []\n",
    "\n",
    "    # Cyclic Sort\n",
    "    i = 0\n",
    "    while i < after_n:\n",
    "        corr_indx = arr[i] - 1\n",
    "        if arr[i] != arr[corr_indx]:\n",
    "            # Swap\n",
    "            arr[i], arr[corr_indx] = arr[corr_indx], arr[i]\n",
    "        else:\n",
    "            i += 1\n",
    "\n",
    "    # now I have to just create a Output array.\n",
    "    j = 0\n",
    "    while j < after_n:\n",
    "        if arr[j] != arr[j] - 1:\n",
    "            out.append(j + 1)\n",
    "        j += 1\n",
    "\n",
    "    while j < original_n:\n",
    "        out.append(j + 1)\n",
    "        j += 1\n"
   ]
  },
  {
   "cell_type": "code",
   "execution_count": null,
   "metadata": {},
   "outputs": [],
   "source": []
  },
  {
   "cell_type": "code",
   "execution_count": null,
   "metadata": {},
   "outputs": [],
   "source": []
  }
 ],
 "metadata": {
  "kernelspec": {
   "display_name": "Python 3",
   "language": "python",
   "name": "python3"
  },
  "language_info": {
   "codemirror_mode": {
    "name": "ipython",
    "version": 3
   },
   "file_extension": ".py",
   "mimetype": "text/x-python",
   "name": "python",
   "nbconvert_exporter": "python",
   "pygments_lexer": "ipython3",
   "version": "3.11.1"
  }
 },
 "nbformat": 4,
 "nbformat_minor": 2
}
