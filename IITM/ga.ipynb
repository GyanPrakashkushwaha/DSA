{
 "cells": [
  {
   "cell_type": "code",
   "execution_count": 5,
   "id": "1c4658d0",
   "metadata": {},
   "outputs": [
    {
     "name": "stdout",
     "output_type": "stream",
     "text": [
      "0 0\n",
      "1 0\n",
      "2 1\n",
      "3 3\n",
      "4 6\n",
      "10\n"
     ]
    }
   ],
   "source": [
    "x = range(5)\n",
    "s = 0\n",
    "for i in x:\n",
    "    print(i, s)\n",
    "    s+=i\n",
    "    \n",
    "print(s)"
   ]
  },
  {
   "cell_type": "code",
   "execution_count": null,
   "id": "dbfa6e4a",
   "metadata": {},
   "outputs": [
    {
     "ename": "NameError",
     "evalue": "name 'nt' is not defined",
     "output_type": "error",
     "traceback": [
      "\u001b[1;31m---------------------------------------------------------------------------\u001b[0m",
      "\u001b[1;31mNameError\u001b[0m                                 Traceback (most recent call last)",
      "Cell \u001b[1;32mIn[11], line 1\u001b[0m\n\u001b[1;32m----> 1\u001b[0m \u001b[43mnt\u001b[49m(\u001b[38;5;124m'\u001b[39m\u001b[38;5;124m10.5\u001b[39m\u001b[38;5;124m'\u001b[39m)\n",
      "\u001b[1;31mNameError\u001b[0m: name 'nt' is not defined"
     ]
    }
   ],
   "source": [
    "int('10.5')"
   ]
  },
  {
   "cell_type": "code",
   "execution_count": 12,
   "id": "f7f8c5b7",
   "metadata": {},
   "outputs": [
    {
     "ename": "NameError",
     "evalue": "name 'me' is not defined",
     "output_type": "error",
     "traceback": [
      "\u001b[1;31m---------------------------------------------------------------------------\u001b[0m",
      "\u001b[1;31mNameError\u001b[0m                                 Traceback (most recent call last)",
      "Cell \u001b[1;32mIn[12], line 1\u001b[0m\n\u001b[1;32m----> 1\u001b[0m \u001b[43mme\u001b[49m()\n\u001b[0;32m      2\u001b[0m \u001b[38;5;28;01mdef\u001b[39;00m \u001b[38;5;21mme\u001b[39m():\n\u001b[0;32m      3\u001b[0m     \u001b[38;5;28mprint\u001b[39m(\u001b[38;5;124m'\u001b[39m\u001b[38;5;124mhey\u001b[39m\u001b[38;5;124m'\u001b[39m)\n",
      "\u001b[1;31mNameError\u001b[0m: name 'me' is not defined"
     ]
    }
   ],
   "source": [
    "me()\n",
    "def me():\n",
    "    print('hey')"
   ]
  },
  {
   "cell_type": "code",
   "execution_count": 17,
   "id": "00bcefc9",
   "metadata": {},
   "outputs": [
    {
     "ename": "SyntaxError",
     "evalue": "invalid syntax (4027036108.py, line 4)",
     "output_type": "error",
     "traceback": [
      "\u001b[1;36m  Cell \u001b[1;32mIn[17], line 4\u001b[1;36m\u001b[0m\n\u001b[1;33m    if n % i = = 0 and i % 2 == 1:\u001b[0m\n\u001b[1;37m             ^\u001b[0m\n\u001b[1;31mSyntaxError\u001b[0m\u001b[1;31m:\u001b[0m invalid syntax\n"
     ]
    }
   ],
   "source": [
    "def fn(n):\n",
    "    s = 0\n",
    "    for i in range(2, n):\n",
    "        if n % i = = 0 and i % 2 == 1:\n",
    "            s += 1\n",
    "    return s\n",
    "fn(59)"
   ]
  },
  {
   "cell_type": "code",
   "execution_count": 16,
   "id": "87659d61",
   "metadata": {},
   "outputs": [
    {
     "data": {
      "text/plain": [
       "3"
      ]
     },
     "execution_count": 16,
     "metadata": {},
     "output_type": "execute_result"
    }
   ],
   "source": [
    "fn(60)"
   ]
  },
  {
   "cell_type": "code",
   "execution_count": 6,
   "id": "d660faff",
   "metadata": {},
   "outputs": [
    {
     "name": "stdout",
     "output_type": "stream",
     "text": [
      "pdsa\n",
      "programming\n"
     ]
    },
    {
     "data": {
      "text/plain": [
       "2"
      ]
     },
     "execution_count": 6,
     "metadata": {},
     "output_type": "execute_result"
    }
   ],
   "source": [
    "class Enrollment:\n",
    "    count = 0\n",
    "    def __init__(self, n , c) -> None:\n",
    "        self.name = n\n",
    "        self.course = c\n",
    "        Enrollment.count += 1\n",
    "        \n",
    "    def display(self):\n",
    "        print(self.name)\n",
    "        print(self.course)\n",
    "        \n",
    "obj = Enrollment('pdsa', 'programming')\n",
    "obj = Enrollment('pdsa', 'programming')\n",
    "# obj = Enrollment('pdsa', 'programming')\n",
    "obj.display()\n",
    "obj.count"
   ]
  },
  {
   "cell_type": "code",
   "execution_count": null,
   "id": "ef87aa2f",
   "metadata": {},
   "outputs": [],
   "source": [
    "def fun(n):\n",
    "    if n == 0: return 0\n",
    "    \n",
    "    return (n%10) + fun(n//100)\n"
   ]
  },
  {
   "cell_type": "code",
   "execution_count": 10,
   "id": "9710bdf6",
   "metadata": {},
   "outputs": [
    {
     "name": "stdout",
     "output_type": "stream",
     "text": [
      "20 20\n"
     ]
    }
   ],
   "source": [
    "class Box:\n",
    "    def __init__(self, size) -> None:\n",
    "        self.size = size\n",
    "    \n",
    "    def double(self):\n",
    "        self.size = self.size * 2\n",
    "        \n",
    "\n",
    "x = Box(5)\n",
    "y = x\n",
    "y.double()\n",
    "x.double()\n",
    "print(x.size, y.size)"
   ]
  },
  {
   "cell_type": "code",
   "execution_count": null,
   "id": "2280e9c7",
   "metadata": {},
   "outputs": [],
   "source": [
    "def fn(n):\n",
    "    if n <= 1:\n",
    "        return 0\n",
    "    if n%2 == 0:\n",
    "        return fn(n//2)\n",
    "    else:\n",
    "        return 1+fn(n//2) + fn(n//2)"
   ]
  }
 ],
 "metadata": {
  "kernelspec": {
   "display_name": "Python 3",
   "language": "python",
   "name": "python3"
  },
  "language_info": {
   "codemirror_mode": {
    "name": "ipython",
    "version": 3
   },
   "file_extension": ".py",
   "mimetype": "text/x-python",
   "name": "python",
   "nbconvert_exporter": "python",
   "pygments_lexer": "ipython3",
   "version": "3.13.7"
  }
 },
 "nbformat": 4,
 "nbformat_minor": 5
}
