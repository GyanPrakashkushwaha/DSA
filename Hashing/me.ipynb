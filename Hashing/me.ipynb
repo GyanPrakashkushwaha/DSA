{
 "cells": [
  {
   "cell_type": "markdown",
   "metadata": {},
   "source": [
    "## Hashing"
   ]
  },
  {
   "cell_type": "code",
   "execution_count": 1,
   "metadata": {},
   "outputs": [],
   "source": [
    "data = {'AI20MTECH12021': 56.0,\n",
    " 'AI20MTECH12013': 67.0,\n",
    " 'AI20MTECH14010': 78.0,\n",
    " 'AI20MTECH14011': 89.0,\n",
    " 'AI20MTECH14012': 45.0,\n",
    " 'AI20MTECH14015': 62.0,\n",
    " 'AI20MTECH14016': 92.0,\n",
    " 'AI20MTECH14017': 78.0,\n",
    " 'AI20MTECH14018': 57.0}"
   ]
  },
  {
   "cell_type": "code",
   "execution_count": null,
   "metadata": {},
   "outputs": [],
   "source": [
    "# def moduloFunc(key):\n",
    "#     hash = 0\n",
    "#     for "
   ]
  },
  {
   "cell_type": "code",
   "execution_count": 13,
   "metadata": {},
   "outputs": [],
   "source": [
    "class HashTable:\n",
    "    def __init__(self) -> None:\n",
    "        self.MAX = 10\n",
    "        self.arr = [None for i in range(self.MAX)]\n",
    "        \n",
    "    def get_hash(self,key):\n",
    "        hash = 0\n",
    "        for char in key:\n",
    "            hash += ord(char)\n",
    "        \n",
    "        return hash % self.MAX\n",
    "    \n",
    "    def __getitem__(self,index):\n",
    "        h = self.get_hash(index)\n",
    "        return self.arr[h]\n",
    "    \n",
    "    def __setitem__(self,key,val):\n",
    "        h = self.get_hash(key)\n",
    "        self.arr[h] = val\n",
    "    \n",
    "    def __delitem__(self, key):\n",
    "        h = self.get_hash(key)\n",
    "        self.arr[h] = None\n",
    "    "
   ]
  },
  {
   "cell_type": "code",
   "execution_count": null,
   "metadata": {},
   "outputs": [],
   "source": []
  },
  {
   "cell_type": "code",
   "execution_count": null,
   "metadata": {},
   "outputs": [],
   "source": []
  },
  {
   "cell_type": "code",
   "execution_count": null,
   "metadata": {},
   "outputs": [
    {
     "data": {
      "text/plain": [
       "{'eat': Counter({'e': 1, 'a': 1, 't': 1}),\n",
       " 'tea': Counter({'t': 1, 'e': 1, 'a': 1}),\n",
       " 'tan': Counter({'t': 1, 'a': 1, 'n': 1}),\n",
       " 'ate': Counter({'a': 1, 't': 1, 'e': 1}),\n",
       " 'nat': Counter({'n': 1, 'a': 1, 't': 1}),\n",
       " 'bat': Counter({'b': 1, 'a': 1, 't': 1})}"
      ]
     },
     "execution_count": 1,
     "metadata": {},
     "output_type": "execute_result"
    }
   ],
   "source": [
    "from collections import Counter\n",
    "\n",
    "\n",
    "strs = [\"eat\",\"tea\",\"tan\",\"ate\",\"nat\",\"bat\"]\n",
    "D = {}\n",
    "for word in strs:\n",
    "    D[word] = Counter(word)\n",
    "    \n",
    "match = {}\n",
    "for word in strs:\n",
    "    for me in match:\n",
    "        if D[me] == D[word]:\n",
    "            match[word].append(word)"
   ]
  },
  {
   "cell_type": "code",
   "execution_count": 3,
   "metadata": {},
   "outputs": [
    {
     "data": {
      "text/plain": [
       "['a', 'e', 't']"
      ]
     },
     "execution_count": 3,
     "metadata": {},
     "output_type": "execute_result"
    }
   ],
   "source": [
    "sorted(strs[0])"
   ]
  },
  {
   "cell_type": "code",
   "execution_count": 8,
   "metadata": {},
   "outputs": [
    {
     "data": {
      "text/plain": [
       "3"
      ]
     },
     "execution_count": 8,
     "metadata": {},
     "output_type": "execute_result"
    }
   ],
   "source": [
    "from collections import defaultdict\n",
    "nums = [1,0,1,1]\n",
    "idx = defaultdict(list)\n",
    "for i in range(len(nums)):\n",
    "    idx[nums[i]].append(i)\n",
    "    \n",
    "    \n",
    "idx[1][-1]"
   ]
  }
 ],
 "metadata": {
  "kernelspec": {
   "display_name": "Python 3",
   "language": "python",
   "name": "python3"
  },
  "language_info": {
   "codemirror_mode": {
    "name": "ipython",
    "version": 3
   },
   "file_extension": ".py",
   "mimetype": "text/x-python",
   "name": "python",
   "nbconvert_exporter": "python",
   "pygments_lexer": "ipython3",
   "version": "3.13.7"
  }
 },
 "nbformat": 4,
 "nbformat_minor": 2
}
