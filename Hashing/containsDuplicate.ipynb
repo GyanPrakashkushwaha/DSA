{
 "cells": [
  {
   "cell_type": "code",
   "execution_count": 14,
   "id": "b6924c1e",
   "metadata": {},
   "outputs": [
    {
     "name": "stdout",
     "output_type": "stream",
     "text": [
      "defaultdict(<class 'list'>, {1: [0, 3], 2: [1, 1], 3: [2]})\n",
      "[0, 3]\n",
      "[1, 1]\n",
      "[2]\n"
     ]
    },
    {
     "data": {
      "text/plain": [
       "False"
      ]
     },
     "execution_count": 14,
     "metadata": {},
     "output_type": "execute_result"
    }
   ],
   "source": [
    "from collections import defaultdict\n",
    "class Solution:\n",
    "    def containsNearbyDuplicate(self, nums: list[int], k: int) -> bool:\n",
    "        idx = defaultdict(list)\n",
    "        for i in range(len(nums)):\n",
    "            idx[nums[i]].append(i)\n",
    "\n",
    "        # print(idx)\n",
    "        idx[2].append(1)\n",
    "        print(idx)\n",
    "        for key in idx.keys():\n",
    "            print(idx[key])\n",
    "            # print(idx[i])\n",
    "            # if len(idx[i]) > 1:\n",
    "            #     print(idx[i])\n",
    "            #     for j in range(1, len(idx[i])):\n",
    "            #         if abs(idx[i][j-1] - idx[i][j]) <= k:\n",
    "            #             return True\n",
    "        \n",
    "        return False\n",
    "    \n",
    "nums = [1,2,3,1]\n",
    "k = 3\n",
    "Solution().containsNearbyDuplicate(nums, k)"
   ]
  },
  {
   "cell_type": "code",
   "execution_count": 12,
   "id": "9ae34e6e",
   "metadata": {},
   "outputs": [
    {
     "ename": "NameError",
     "evalue": "name 'idx' is not defined",
     "output_type": "error",
     "traceback": [
      "\u001b[1;31m---------------------------------------------------------------------------\u001b[0m",
      "\u001b[1;31mNameError\u001b[0m                                 Traceback (most recent call last)",
      "Cell \u001b[1;32mIn[12], line 1\u001b[0m\n\u001b[1;32m----> 1\u001b[0m \u001b[43midx\u001b[49m\n",
      "\u001b[1;31mNameError\u001b[0m: name 'idx' is not defined"
     ]
    }
   ],
   "source": [
    "idx"
   ]
  },
  {
   "cell_type": "code",
   "execution_count": 16,
   "id": "c7abb81f",
   "metadata": {},
   "outputs": [
    {
     "data": {
      "text/plain": [
       "[-1, -1, 0, 1, 3, 4, 5, 6, 7, 8, 9]"
      ]
     },
     "execution_count": 16,
     "metadata": {},
     "output_type": "execute_result"
    }
   ],
   "source": [
    "nums = [9,1,4,7,3,-1,0,5,8,-1,6]\n",
    "nums.sort()\n",
    "nums"
   ]
  },
  {
   "cell_type": "code",
   "execution_count": null,
   "id": "1d9f20a7",
   "metadata": {},
   "outputs": [],
   "source": []
  }
 ],
 "metadata": {
  "kernelspec": {
   "display_name": "Python 3",
   "language": "python",
   "name": "python3"
  },
  "language_info": {
   "codemirror_mode": {
    "name": "ipython",
    "version": 3
   },
   "file_extension": ".py",
   "mimetype": "text/x-python",
   "name": "python",
   "nbconvert_exporter": "python",
   "pygments_lexer": "ipython3",
   "version": "3.13.7"
  }
 },
 "nbformat": 4,
 "nbformat_minor": 5
}
