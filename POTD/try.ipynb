{
 "cells": [
  {
   "cell_type": "code",
   "execution_count": 1,
   "id": "23ce2f5d",
   "metadata": {},
   "outputs": [
    {
     "data": {
      "text/plain": [
       "'k*t*'"
      ]
     },
     "execution_count": 1,
     "metadata": {},
     "output_type": "execute_result"
    }
   ],
   "source": [
    "def mask(wrd):\n",
    "    vowels = set('aeiou')\n",
    "    masked = ''\n",
    "    for c in wrd:\n",
    "        if c in vowels:\n",
    "            masked += '*'\n",
    "        else:\n",
    "            masked += c\n",
    "    \n",
    "    return masked\n",
    "\n",
    "mask('kite')"
   ]
  },
  {
   "cell_type": "code",
   "execution_count": 3,
   "id": "06aa3db4",
   "metadata": {},
   "outputs": [
    {
     "data": {
      "text/plain": [
       "{'hare': 'hare', 'kite': 'KiTe'}"
      ]
     },
     "execution_count": 3,
     "metadata": {},
     "output_type": "execute_result"
    }
   ],
   "source": [
    "wordlist = [\"KiTe\",\"kite\",\"hare\",\"Hare\"]\n",
    "d1 = {w.lower(): w for w in wordlist[::-1]}\n",
    "d1"
   ]
  },
  {
   "cell_type": "code",
   "execution_count": 5,
   "id": "9d50f375",
   "metadata": {},
   "outputs": [
    {
     "name": "stdout",
     "output_type": "stream",
     "text": [
      "Value of 'name': Alice\n",
      "Dictionary after setdefault('name'): {'name': 'Alice', 'age': 30}\n",
      "Value of 'city': New York\n",
      "Dictionary after setdefault('city'): {'name': 'Alice', 'age': 30, 'city': 'New York'}\n",
      "Value of 'occupation': None\n",
      "Dictionary after setdefault('occupation'): {'name': 'Alice', 'age': 30, 'city': 'New York', 'occupation': None}\n"
     ]
    }
   ],
   "source": [
    "my_dict = {'name': 'Alice', 'age': 30}\n",
    "\n",
    "# Key 'name' exists, returns its value\n",
    "value1 = my_dict.setdefault('name', 'Bob')\n",
    "print(f\"Value of 'name': {value1}\")\n",
    "print(f\"Dictionary after setdefault('name'): {my_dict}\")\n",
    "\n",
    "# Key 'city' does not exist, inserts it with default value 'New York'\n",
    "value2 = my_dict.setdefault('city', 'New York')\n",
    "print(f\"Value of 'city': {value2}\")\n",
    "print(f\"Dictionary after setdefault('city'): {my_dict}\")\n",
    "\n",
    "# Key 'occupation' does not exist, inserts it with default value None\n",
    "value3 = my_dict.setdefault('occupation')\n",
    "print(f\"Value of 'occupation': {value3}\")\n",
    "print(f\"Dictionary after setdefault('occupation'): {my_dict}\")"
   ]
  }
 ],
 "metadata": {
  "kernelspec": {
   "display_name": "Python 3",
   "language": "python",
   "name": "python3"
  },
  "language_info": {
   "codemirror_mode": {
    "name": "ipython",
    "version": 3
   },
   "file_extension": ".py",
   "mimetype": "text/x-python",
   "name": "python",
   "nbconvert_exporter": "python",
   "pygments_lexer": "ipython3",
   "version": "3.13.7"
  }
 },
 "nbformat": 4,
 "nbformat_minor": 5
}
